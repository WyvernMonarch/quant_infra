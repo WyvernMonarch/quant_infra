{
  "cells": [
    {
      "cell_type": "code",
      "execution_count": 2,
      "metadata": {
        "colab": {
          "base_uri": "https://localhost:8080/"
        },
        "id": "SnssBCuoB6pq",
        "outputId": "ee0739ca-ac00-4e97-8a72-98914f50363e"
      },
      "outputs": [
        {
          "output_type": "stream",
          "name": "stdout",
          "text": [
            "Mounted at /content/drive\n",
            "Рабочая директория установлена: /content/drive/MyDrive/shitcoin_analyze\n",
            "Файлы с твитами будут искаться в: /content/drive/MyDrive/shitcoin_analyze/data_uranus\n",
            "Итоговый файл будет сохранен как: /content/drive/MyDrive/shitcoin_analyze/all_tweets_annotated_uranus.parquet\n"
          ]
        }
      ],
      "source": [
        "# ===================================================================\n",
        "# ЯЧЕЙКА 1: ПОДКЛЮЧЕНИЕ К GOOGLE DRIVE И НАЧАЛЬНАЯ НАСТРОЙКА\n",
        "# ===================================================================\n",
        "\n",
        "# 1. Подключаем ваш Google Drive\n",
        "from pathlib import Path\n",
        "from google.colab import drive\n",
        "drive.mount('/content/drive')\n",
        "\n",
        "# 2. Устанавливаем все необходимые библиотеки\n",
        "# Добавляем requests для работы с OpenRouter API\n",
        "!pip install pandas pyarrow tqdm requests -q\n",
        "\n",
        "# 3. Определяем ключевые пути и параметры\n",
        "# ВАЖНО: Измените этот путь на тот, где в вашем Google Drive лежит папка 'data'\n",
        "GDRIVE_PROJECT_PATH = Path('/content/drive/MyDrive/shitcoin_analyze/') # <--- ИЗМЕНИТЕ ЭТОТ ПУТЬ\n",
        "\n",
        "TWEETS_DATA_DIR = GDRIVE_PROJECT_PATH / \"data_uranus/\"\n",
        "# Итоговый файл будет сохранен в корневой папке вашего проекта на Google Drive\n",
        "OUTPUT_PARQUET_FILE = GDRIVE_PROJECT_PATH / \"all_tweets_annotated_uranus.parquet\"\n",
        "\n",
        "print(f\"Рабочая директория установлена: {GDRIVE_PROJECT_PATH}\")\n",
        "print(f\"Файлы с твитами будут искаться в: {TWEETS_DATA_DIR}\")\n",
        "print(f\"Итоговый файл будет сохранен как: {OUTPUT_PARQUET_FILE}\")"
      ]
    },
    {
      "cell_type": "code",
      "execution_count": 3,
      "metadata": {
        "colab": {
          "base_uri": "https://localhost:8080/"
        },
        "id": "82WLZPBx_f1a",
        "outputId": "621f5aa1-9b6c-49df-b771-666c6129caf4"
      },
      "outputs": [
        {
          "output_type": "execute_result",
          "data": {
            "text/plain": [
              "PosixPath('/content/drive/MyDrive/shitcoin_analyze/all_tweets_annotated_uranus.parquet')"
            ]
          },
          "metadata": {},
          "execution_count": 3
        }
      ],
      "source": [
        "OUTPUT_PARQUET_FILE"
      ]
    },
    {
      "cell_type": "code",
      "execution_count": 4,
      "metadata": {
        "id": "YnLgQaEOGS0C"
      },
      "outputs": [],
      "source": []
    },
    {
      "cell_type": "code",
      "execution_count": 5,
      "metadata": {
        "colab": {
          "base_uri": "https://localhost:8080/",
          "height": 382
        },
        "id": "occNWI4CEDQF",
        "outputId": "f82e9714-eecc-4da2-ca8d-fb985b371231"
      },
      "outputs": [
        {
          "output_type": "stream",
          "name": "stdout",
          "text": [
            "Найдено 88 JSON-файлов для обработки...\n",
            "Обработка завершена. Всего собрано 4636 уникальных твитов.\n",
            "\n",
            "Пример первых 5 строк объединенного датафрейма:\n"
          ]
        },
        {
          "output_type": "display_data",
          "data": {
            "text/plain": [
              "                    parse_timestamp  \\\n",
              "0  2025-09-03T19:24:52.837017+00:00   \n",
              "1  2025-09-03T19:24:52.854446+00:00   \n",
              "2  2025-09-03T19:24:52.895081+00:00   \n",
              "3  2025-09-03T19:24:55.716377+00:00   \n",
              "4  2025-09-03T19:24:52.876843+00:00   \n",
              "\n",
              "                                                text  \\\n",
              "0  NYC, next stop uranus! \\n\\nuranus is going to ...   \n",
              "1                              Good to have you back   \n",
              "2  $URANUS main account \\n@Enter_Uranus\\n has bee...   \n",
              "3  So \\n@JackMa\\n is buying $ETH at 4400 and you ...   \n",
              "4  Jack Ma’s Yunfeng Financial bought $44,000,000...   \n",
              "\n",
              "                  timestamp  \\\n",
              "0 2025-09-02 22:16:12+00:00   \n",
              "1 2025-09-02 21:35:53+00:00   \n",
              "2 2025-09-02 17:29:30+00:00   \n",
              "3 2025-09-02 17:12:32+00:00   \n",
              "4 2025-09-02 16:30:49+00:00   \n",
              "\n",
              "                                                 url  replies  reposts  likes  \\\n",
              "0  https://x.comhttps://x.com/Enter_Uranus/status...       21       94    304   \n",
              "1  https://x.comhttps://x.com/jup_studio/status/1...       25       32    183   \n",
              "2  https://x.comhttps://x.com/AdagioUday/status/1...        0        0      0   \n",
              "3  https://x.comhttps://x.com/AdagioUday/status/1...        0        0      0   \n",
              "4  https://x.comhttps://x.com/TedPillows/status/1...       94       83    669   \n",
              "\n",
              "   views author_username  \n",
              "0  13787      AdagioUday  \n",
              "1   6313      AdagioUday  \n",
              "2     81      AdagioUday  \n",
              "3     64      AdagioUday  \n",
              "4  26786      AdagioUday  "
            ],
            "text/html": [
              "\n",
              "  <div id=\"df-25a88970-0b55-49ad-81c0-a412f6090e8e\" class=\"colab-df-container\">\n",
              "    <div>\n",
              "<style scoped>\n",
              "    .dataframe tbody tr th:only-of-type {\n",
              "        vertical-align: middle;\n",
              "    }\n",
              "\n",
              "    .dataframe tbody tr th {\n",
              "        vertical-align: top;\n",
              "    }\n",
              "\n",
              "    .dataframe thead th {\n",
              "        text-align: right;\n",
              "    }\n",
              "</style>\n",
              "<table border=\"1\" class=\"dataframe\">\n",
              "  <thead>\n",
              "    <tr style=\"text-align: right;\">\n",
              "      <th></th>\n",
              "      <th>parse_timestamp</th>\n",
              "      <th>text</th>\n",
              "      <th>timestamp</th>\n",
              "      <th>url</th>\n",
              "      <th>replies</th>\n",
              "      <th>reposts</th>\n",
              "      <th>likes</th>\n",
              "      <th>views</th>\n",
              "      <th>author_username</th>\n",
              "    </tr>\n",
              "  </thead>\n",
              "  <tbody>\n",
              "    <tr>\n",
              "      <th>0</th>\n",
              "      <td>2025-09-03T19:24:52.837017+00:00</td>\n",
              "      <td>NYC, next stop uranus! \\n\\nuranus is going to ...</td>\n",
              "      <td>2025-09-02 22:16:12+00:00</td>\n",
              "      <td>https://x.comhttps://x.com/Enter_Uranus/status...</td>\n",
              "      <td>21</td>\n",
              "      <td>94</td>\n",
              "      <td>304</td>\n",
              "      <td>13787</td>\n",
              "      <td>AdagioUday</td>\n",
              "    </tr>\n",
              "    <tr>\n",
              "      <th>1</th>\n",
              "      <td>2025-09-03T19:24:52.854446+00:00</td>\n",
              "      <td>Good to have you back</td>\n",
              "      <td>2025-09-02 21:35:53+00:00</td>\n",
              "      <td>https://x.comhttps://x.com/jup_studio/status/1...</td>\n",
              "      <td>25</td>\n",
              "      <td>32</td>\n",
              "      <td>183</td>\n",
              "      <td>6313</td>\n",
              "      <td>AdagioUday</td>\n",
              "    </tr>\n",
              "    <tr>\n",
              "      <th>2</th>\n",
              "      <td>2025-09-03T19:24:52.895081+00:00</td>\n",
              "      <td>$URANUS main account \\n@Enter_Uranus\\n has bee...</td>\n",
              "      <td>2025-09-02 17:29:30+00:00</td>\n",
              "      <td>https://x.comhttps://x.com/AdagioUday/status/1...</td>\n",
              "      <td>0</td>\n",
              "      <td>0</td>\n",
              "      <td>0</td>\n",
              "      <td>81</td>\n",
              "      <td>AdagioUday</td>\n",
              "    </tr>\n",
              "    <tr>\n",
              "      <th>3</th>\n",
              "      <td>2025-09-03T19:24:55.716377+00:00</td>\n",
              "      <td>So \\n@JackMa\\n is buying $ETH at 4400 and you ...</td>\n",
              "      <td>2025-09-02 17:12:32+00:00</td>\n",
              "      <td>https://x.comhttps://x.com/AdagioUday/status/1...</td>\n",
              "      <td>0</td>\n",
              "      <td>0</td>\n",
              "      <td>0</td>\n",
              "      <td>64</td>\n",
              "      <td>AdagioUday</td>\n",
              "    </tr>\n",
              "    <tr>\n",
              "      <th>4</th>\n",
              "      <td>2025-09-03T19:24:52.876843+00:00</td>\n",
              "      <td>Jack Ma’s Yunfeng Financial bought $44,000,000...</td>\n",
              "      <td>2025-09-02 16:30:49+00:00</td>\n",
              "      <td>https://x.comhttps://x.com/TedPillows/status/1...</td>\n",
              "      <td>94</td>\n",
              "      <td>83</td>\n",
              "      <td>669</td>\n",
              "      <td>26786</td>\n",
              "      <td>AdagioUday</td>\n",
              "    </tr>\n",
              "  </tbody>\n",
              "</table>\n",
              "</div>\n",
              "    <div class=\"colab-df-buttons\">\n",
              "\n",
              "  <div class=\"colab-df-container\">\n",
              "    <button class=\"colab-df-convert\" onclick=\"convertToInteractive('df-25a88970-0b55-49ad-81c0-a412f6090e8e')\"\n",
              "            title=\"Convert this dataframe to an interactive table.\"\n",
              "            style=\"display:none;\">\n",
              "\n",
              "  <svg xmlns=\"http://www.w3.org/2000/svg\" height=\"24px\" viewBox=\"0 -960 960 960\">\n",
              "    <path d=\"M120-120v-720h720v720H120Zm60-500h600v-160H180v160Zm220 220h160v-160H400v160Zm0 220h160v-160H400v160ZM180-400h160v-160H180v160Zm440 0h160v-160H620v160ZM180-180h160v-160H180v160Zm440 0h160v-160H620v160Z\"/>\n",
              "  </svg>\n",
              "    </button>\n",
              "\n",
              "  <style>\n",
              "    .colab-df-container {\n",
              "      display:flex;\n",
              "      gap: 12px;\n",
              "    }\n",
              "\n",
              "    .colab-df-convert {\n",
              "      background-color: #E8F0FE;\n",
              "      border: none;\n",
              "      border-radius: 50%;\n",
              "      cursor: pointer;\n",
              "      display: none;\n",
              "      fill: #1967D2;\n",
              "      height: 32px;\n",
              "      padding: 0 0 0 0;\n",
              "      width: 32px;\n",
              "    }\n",
              "\n",
              "    .colab-df-convert:hover {\n",
              "      background-color: #E2EBFA;\n",
              "      box-shadow: 0px 1px 2px rgba(60, 64, 67, 0.3), 0px 1px 3px 1px rgba(60, 64, 67, 0.15);\n",
              "      fill: #174EA6;\n",
              "    }\n",
              "\n",
              "    .colab-df-buttons div {\n",
              "      margin-bottom: 4px;\n",
              "    }\n",
              "\n",
              "    [theme=dark] .colab-df-convert {\n",
              "      background-color: #3B4455;\n",
              "      fill: #D2E3FC;\n",
              "    }\n",
              "\n",
              "    [theme=dark] .colab-df-convert:hover {\n",
              "      background-color: #434B5C;\n",
              "      box-shadow: 0px 1px 3px 1px rgba(0, 0, 0, 0.15);\n",
              "      filter: drop-shadow(0px 1px 2px rgba(0, 0, 0, 0.3));\n",
              "      fill: #FFFFFF;\n",
              "    }\n",
              "  </style>\n",
              "\n",
              "    <script>\n",
              "      const buttonEl =\n",
              "        document.querySelector('#df-25a88970-0b55-49ad-81c0-a412f6090e8e button.colab-df-convert');\n",
              "      buttonEl.style.display =\n",
              "        google.colab.kernel.accessAllowed ? 'block' : 'none';\n",
              "\n",
              "      async function convertToInteractive(key) {\n",
              "        const element = document.querySelector('#df-25a88970-0b55-49ad-81c0-a412f6090e8e');\n",
              "        const dataTable =\n",
              "          await google.colab.kernel.invokeFunction('convertToInteractive',\n",
              "                                                    [key], {});\n",
              "        if (!dataTable) return;\n",
              "\n",
              "        const docLinkHtml = 'Like what you see? Visit the ' +\n",
              "          '<a target=\"_blank\" href=https://colab.research.google.com/notebooks/data_table.ipynb>data table notebook</a>'\n",
              "          + ' to learn more about interactive tables.';\n",
              "        element.innerHTML = '';\n",
              "        dataTable['output_type'] = 'display_data';\n",
              "        await google.colab.output.renderOutput(dataTable, element);\n",
              "        const docLink = document.createElement('div');\n",
              "        docLink.innerHTML = docLinkHtml;\n",
              "        element.appendChild(docLink);\n",
              "      }\n",
              "    </script>\n",
              "  </div>\n",
              "\n",
              "\n",
              "    <div id=\"df-8f620f6c-b914-4fa9-818d-2125a071b3a4\">\n",
              "      <button class=\"colab-df-quickchart\" onclick=\"quickchart('df-8f620f6c-b914-4fa9-818d-2125a071b3a4')\"\n",
              "                title=\"Suggest charts\"\n",
              "                style=\"display:none;\">\n",
              "\n",
              "<svg xmlns=\"http://www.w3.org/2000/svg\" height=\"24px\"viewBox=\"0 0 24 24\"\n",
              "     width=\"24px\">\n",
              "    <g>\n",
              "        <path d=\"M19 3H5c-1.1 0-2 .9-2 2v14c0 1.1.9 2 2 2h14c1.1 0 2-.9 2-2V5c0-1.1-.9-2-2-2zM9 17H7v-7h2v7zm4 0h-2V7h2v10zm4 0h-2v-4h2v4z\"/>\n",
              "    </g>\n",
              "</svg>\n",
              "      </button>\n",
              "\n",
              "<style>\n",
              "  .colab-df-quickchart {\n",
              "      --bg-color: #E8F0FE;\n",
              "      --fill-color: #1967D2;\n",
              "      --hover-bg-color: #E2EBFA;\n",
              "      --hover-fill-color: #174EA6;\n",
              "      --disabled-fill-color: #AAA;\n",
              "      --disabled-bg-color: #DDD;\n",
              "  }\n",
              "\n",
              "  [theme=dark] .colab-df-quickchart {\n",
              "      --bg-color: #3B4455;\n",
              "      --fill-color: #D2E3FC;\n",
              "      --hover-bg-color: #434B5C;\n",
              "      --hover-fill-color: #FFFFFF;\n",
              "      --disabled-bg-color: #3B4455;\n",
              "      --disabled-fill-color: #666;\n",
              "  }\n",
              "\n",
              "  .colab-df-quickchart {\n",
              "    background-color: var(--bg-color);\n",
              "    border: none;\n",
              "    border-radius: 50%;\n",
              "    cursor: pointer;\n",
              "    display: none;\n",
              "    fill: var(--fill-color);\n",
              "    height: 32px;\n",
              "    padding: 0;\n",
              "    width: 32px;\n",
              "  }\n",
              "\n",
              "  .colab-df-quickchart:hover {\n",
              "    background-color: var(--hover-bg-color);\n",
              "    box-shadow: 0 1px 2px rgba(60, 64, 67, 0.3), 0 1px 3px 1px rgba(60, 64, 67, 0.15);\n",
              "    fill: var(--button-hover-fill-color);\n",
              "  }\n",
              "\n",
              "  .colab-df-quickchart-complete:disabled,\n",
              "  .colab-df-quickchart-complete:disabled:hover {\n",
              "    background-color: var(--disabled-bg-color);\n",
              "    fill: var(--disabled-fill-color);\n",
              "    box-shadow: none;\n",
              "  }\n",
              "\n",
              "  .colab-df-spinner {\n",
              "    border: 2px solid var(--fill-color);\n",
              "    border-color: transparent;\n",
              "    border-bottom-color: var(--fill-color);\n",
              "    animation:\n",
              "      spin 1s steps(1) infinite;\n",
              "  }\n",
              "\n",
              "  @keyframes spin {\n",
              "    0% {\n",
              "      border-color: transparent;\n",
              "      border-bottom-color: var(--fill-color);\n",
              "      border-left-color: var(--fill-color);\n",
              "    }\n",
              "    20% {\n",
              "      border-color: transparent;\n",
              "      border-left-color: var(--fill-color);\n",
              "      border-top-color: var(--fill-color);\n",
              "    }\n",
              "    30% {\n",
              "      border-color: transparent;\n",
              "      border-left-color: var(--fill-color);\n",
              "      border-top-color: var(--fill-color);\n",
              "      border-right-color: var(--fill-color);\n",
              "    }\n",
              "    40% {\n",
              "      border-color: transparent;\n",
              "      border-right-color: var(--fill-color);\n",
              "      border-top-color: var(--fill-color);\n",
              "    }\n",
              "    60% {\n",
              "      border-color: transparent;\n",
              "      border-right-color: var(--fill-color);\n",
              "    }\n",
              "    80% {\n",
              "      border-color: transparent;\n",
              "      border-right-color: var(--fill-color);\n",
              "      border-bottom-color: var(--fill-color);\n",
              "    }\n",
              "    90% {\n",
              "      border-color: transparent;\n",
              "      border-bottom-color: var(--fill-color);\n",
              "    }\n",
              "  }\n",
              "</style>\n",
              "\n",
              "      <script>\n",
              "        async function quickchart(key) {\n",
              "          const quickchartButtonEl =\n",
              "            document.querySelector('#' + key + ' button');\n",
              "          quickchartButtonEl.disabled = true;  // To prevent multiple clicks.\n",
              "          quickchartButtonEl.classList.add('colab-df-spinner');\n",
              "          try {\n",
              "            const charts = await google.colab.kernel.invokeFunction(\n",
              "                'suggestCharts', [key], {});\n",
              "          } catch (error) {\n",
              "            console.error('Error during call to suggestCharts:', error);\n",
              "          }\n",
              "          quickchartButtonEl.classList.remove('colab-df-spinner');\n",
              "          quickchartButtonEl.classList.add('colab-df-quickchart-complete');\n",
              "        }\n",
              "        (() => {\n",
              "          let quickchartButtonEl =\n",
              "            document.querySelector('#df-8f620f6c-b914-4fa9-818d-2125a071b3a4 button');\n",
              "          quickchartButtonEl.style.display =\n",
              "            google.colab.kernel.accessAllowed ? 'block' : 'none';\n",
              "        })();\n",
              "      </script>\n",
              "    </div>\n",
              "\n",
              "    </div>\n",
              "  </div>\n"
            ],
            "application/vnd.google.colaboratory.intrinsic+json": {
              "type": "dataframe",
              "summary": "{\n  \"name\": \"    display(main_df\",\n  \"rows\": 5,\n  \"fields\": [\n    {\n      \"column\": \"parse_timestamp\",\n      \"properties\": {\n        \"dtype\": \"object\",\n        \"num_unique_values\": 5,\n        \"samples\": [\n          \"2025-09-03T19:24:52.854446+00:00\",\n          \"2025-09-03T19:24:52.876843+00:00\",\n          \"2025-09-03T19:24:52.895081+00:00\"\n        ],\n        \"semantic_type\": \"\",\n        \"description\": \"\"\n      }\n    },\n    {\n      \"column\": \"text\",\n      \"properties\": {\n        \"dtype\": \"string\",\n        \"num_unique_values\": 5,\n        \"samples\": [\n          \"Good to have you back\",\n          \"Jack Ma\\u2019s Yunfeng Financial bought $44,000,000 $ETH for their strategic reserve.\\n\\nEthereum = new gold.\",\n          \"$URANUS main account \\n@Enter_Uranus\\n has been freed by X... IF you guys really think, it wouldnt be wise to buy $URANUS now, some of you need mental checkup...\\n#URANUS will become a folklore of success, You all will be dazzled with the spectacle it is going to show us....\\nHigher in\"\n        ],\n        \"semantic_type\": \"\",\n        \"description\": \"\"\n      }\n    },\n    {\n      \"column\": \"timestamp\",\n      \"properties\": {\n        \"dtype\": \"date\",\n        \"min\": \"2025-09-02 16:30:49+00:00\",\n        \"max\": \"2025-09-02 22:16:12+00:00\",\n        \"num_unique_values\": 5,\n        \"samples\": [\n          \"2025-09-02 21:35:53+00:00\",\n          \"2025-09-02 16:30:49+00:00\",\n          \"2025-09-02 17:29:30+00:00\"\n        ],\n        \"semantic_type\": \"\",\n        \"description\": \"\"\n      }\n    },\n    {\n      \"column\": \"url\",\n      \"properties\": {\n        \"dtype\": \"string\",\n        \"num_unique_values\": 5,\n        \"samples\": [\n          \"https://x.comhttps://x.com/jup_studio/status/1962992905414717873\",\n          \"https://x.comhttps://x.com/TedPillows/status/1962916132781756619\",\n          \"https://x.comhttps://x.com/AdagioUday/status/1962930900183740805\"\n        ],\n        \"semantic_type\": \"\",\n        \"description\": \"\"\n      }\n    },\n    {\n      \"column\": \"replies\",\n      \"properties\": {\n        \"dtype\": \"number\",\n        \"std\": 38,\n        \"min\": 0,\n        \"max\": 94,\n        \"num_unique_values\": 4,\n        \"samples\": [\n          25,\n          94,\n          21\n        ],\n        \"semantic_type\": \"\",\n        \"description\": \"\"\n      }\n    },\n    {\n      \"column\": \"reposts\",\n      \"properties\": {\n        \"dtype\": \"number\",\n        \"std\": 44,\n        \"min\": 0,\n        \"max\": 94,\n        \"num_unique_values\": 4,\n        \"samples\": [\n          32,\n          83,\n          94\n        ],\n        \"semantic_type\": \"\",\n        \"description\": \"\"\n      }\n    },\n    {\n      \"column\": \"likes\",\n      \"properties\": {\n        \"dtype\": \"number\",\n        \"std\": 276,\n        \"min\": 0,\n        \"max\": 669,\n        \"num_unique_values\": 4,\n        \"samples\": [\n          183,\n          669,\n          304\n        ],\n        \"semantic_type\": \"\",\n        \"description\": \"\"\n      }\n    },\n    {\n      \"column\": \"views\",\n      \"properties\": {\n        \"dtype\": \"number\",\n        \"std\": 11236,\n        \"min\": 64,\n        \"max\": 26786,\n        \"num_unique_values\": 5,\n        \"samples\": [\n          6313,\n          26786,\n          81\n        ],\n        \"semantic_type\": \"\",\n        \"description\": \"\"\n      }\n    },\n    {\n      \"column\": \"author_username\",\n      \"properties\": {\n        \"dtype\": \"category\",\n        \"num_unique_values\": 1,\n        \"samples\": [\n          \"AdagioUday\"\n        ],\n        \"semantic_type\": \"\",\n        \"description\": \"\"\n      }\n    }\n  ]\n}"
            }
          },
          "metadata": {}
        }
      ],
      "source": [
        "# ===================================================================\n",
        "# ЯЧЕЙКА 3: ШАГ 1 - ОБЪЕДИНЕНИЕ ВСЕХ ТВИТОВ В ОДИН DATAFRAME\n",
        "# ===================================================================\n",
        "import pandas as pd\n",
        "from pathlib import Path\n",
        "import json\n",
        "\n",
        "def combine_tweets_from_json(data_dir: Path) -> pd.DataFrame:\n",
        "    if not data_dir.exists():\n",
        "        print(f\"Ошибка: Директория не найдена: {data_dir}\")\n",
        "        return pd.DataFrame()\n",
        "\n",
        "    all_tweets_list = []\n",
        "    json_files = list(data_dir.glob(\"*.json\"))\n",
        "    if not json_files:\n",
        "        print(f\"В директории {data_dir} не найдено JSON-файлов.\")\n",
        "        return pd.DataFrame()\n",
        "\n",
        "    print(f\"Найдено {len(json_files)} JSON-файлов для обработки...\")\n",
        "\n",
        "    for filepath in json_files:\n",
        "        username = filepath.stem\n",
        "        with open(filepath, \"r\", encoding=\"utf-8\") as f:\n",
        "            try:\n",
        "                data = json.load(f)\n",
        "                tweets_in_file = data.get(\"tweets\", [])\n",
        "                for tweet in tweets_in_file:\n",
        "                    tweet['author_username'] = username\n",
        "                    all_tweets_list.append(tweet)\n",
        "            except Exception as e:\n",
        "                print(f\"Проблема с файлом {filepath}: {e}\")\n",
        "\n",
        "    if not all_tweets_list:\n",
        "        print(\"Не удалось загрузить ни одного твита.\")\n",
        "        return pd.DataFrame()\n",
        "\n",
        "    df = pd.DataFrame(all_tweets_list)\n",
        "    df['timestamp'] = pd.to_datetime(df['timestamp'], utc=True)\n",
        "    numeric_cols = ['replies', 'reposts', 'likes', 'views']\n",
        "    for col in numeric_cols:\n",
        "        if col not in df.columns: df[col] = 0\n",
        "    df[numeric_cols] = df[numeric_cols].fillna(0).astype(int)\n",
        "\n",
        "    # Удаляем дубликаты по тексту твита, оставляя первый встреченный\n",
        "    df.drop_duplicates(subset=['text'], inplace=True, keep='first')\n",
        "    df.reset_index(drop=True, inplace=True)\n",
        "\n",
        "    print(f\"Обработка завершена. Всего собрано {len(df)} уникальных твитов.\")\n",
        "    return df\n",
        "\n",
        "# Запускаем процесс объединения\n",
        "main_df = combine_tweets_from_json(TWEETS_DATA_DIR)\n",
        "\n",
        "if not main_df.empty:\n",
        "    print(\"\\nПример первых 5 строк объединенного датафрейма:\")\n",
        "    display(main_df.head())"
      ]
    },
    {
      "cell_type": "code",
      "execution_count": 6,
      "metadata": {
        "colab": {
          "base_uri": "https://localhost:8080/"
        },
        "id": "uajNZYlBJ4Gx",
        "outputId": "fbb98973-1c93-48fc-8dd1-0be1eb6c0d39"
      },
      "outputs": [
        {
          "output_type": "stream",
          "name": "stdout",
          "text": [
            "Необходимо аннотировать 4636 твитов.\n"
          ]
        },
        {
          "output_type": "stream",
          "name": "stderr",
          "text": [
            "Обработка батчей:   0%|          | 0/93 [00:00<?, ?it/s]"
          ]
        },
        {
          "output_type": "stream",
          "name": "stdout",
          "text": [
            "\n",
            "--- Обработка батча 1/93 (индексы 0-49) ---\n",
            "  Версия 1, попытка 1/3...\n"
          ]
        },
        {
          "output_type": "stream",
          "name": "stderr",
          "text": [
            "Обработка батчей:   0%|          | 0/93 [01:20<?, ?it/s]"
          ]
        },
        {
          "output_type": "stream",
          "name": "stdout",
          "text": [
            "  Версия 2, попытка 1/3...\n"
          ]
        },
        {
          "output_type": "stream",
          "name": "stderr",
          "text": [
            "Обработка батчей:   0%|          | 0/93 [03:00<?, ?it/s]"
          ]
        },
        {
          "output_type": "stream",
          "name": "stdout",
          "text": [
            "  Версия 3, попытка 1/3...\n"
          ]
        },
        {
          "output_type": "stream",
          "name": "stderr",
          "text": [
            "Обработка батчей:   0%|          | 0/93 [03:59<?, ?it/s]"
          ]
        },
        {
          "output_type": "stream",
          "name": "stdout",
          "text": [
            "  Версия 4, попытка 1/3...\n"
          ]
        },
        {
          "output_type": "stream",
          "name": "stderr",
          "text": [
            "Обработка батчей:   0%|          | 0/93 [05:41<?, ?it/s]"
          ]
        },
        {
          "output_type": "stream",
          "name": "stdout",
          "text": [
            "  Версия 5, попытка 1/3...\n"
          ]
        },
        {
          "output_type": "stream",
          "name": "stderr",
          "text": [
            "Обработка батчей:   0%|          | 0/93 [07:33<?, ?it/s]"
          ]
        },
        {
          "output_type": "stream",
          "name": "stdout",
          "text": [
            "  Получено 5/5 успешных версий для батча.\n"
          ]
        },
        {
          "output_type": "stream",
          "name": "stderr",
          "text": [
            "Обработка батчей:   1%|          | 1/93 [07:34<11:36:17, 454.10s/it]"
          ]
        },
        {
          "output_type": "stream",
          "name": "stdout",
          "text": [
            "💾 Прогресс сохранен. Батч 1 усреднен и записан в файл.\n",
            "\n",
            "--- Обработка батча 2/93 (индексы 50-99) ---\n",
            "  Версия 1, попытка 1/3...\n"
          ]
        },
        {
          "output_type": "stream",
          "name": "stderr",
          "text": [
            "Обработка батчей:   1%|          | 1/93 [09:10<11:36:17, 454.10s/it]"
          ]
        },
        {
          "output_type": "stream",
          "name": "stdout",
          "text": [
            "  Версия 2, попытка 1/3...\n"
          ]
        },
        {
          "output_type": "stream",
          "name": "stderr",
          "text": [
            "Обработка батчей:   1%|          | 1/93 [10:46<11:36:17, 454.10s/it]"
          ]
        },
        {
          "output_type": "stream",
          "name": "stdout",
          "text": [
            "  Версия 3, попытка 1/3...\n"
          ]
        },
        {
          "output_type": "stream",
          "name": "stderr",
          "text": [
            "Обработка батчей:   1%|          | 1/93 [11:42<11:36:17, 454.10s/it]"
          ]
        },
        {
          "output_type": "stream",
          "name": "stdout",
          "text": [
            "  Версия 4, попытка 1/3...\n"
          ]
        },
        {
          "output_type": "stream",
          "name": "stderr",
          "text": [
            "Обработка батчей:   1%|          | 1/93 [12:16<11:36:17, 454.10s/it]"
          ]
        },
        {
          "output_type": "stream",
          "name": "stdout",
          "text": [
            "  Версия 5, попытка 1/3...\n"
          ]
        },
        {
          "output_type": "stream",
          "name": "stderr",
          "text": [
            "Обработка батчей:   2%|▏         | 2/93 [13:14<9:46:51, 386.95s/it]"
          ]
        },
        {
          "output_type": "stream",
          "name": "stdout",
          "text": [
            "  Получено 5/5 успешных версий для батча.\n",
            "💾 Прогресс сохранен. Батч 2 усреднен и записан в файл.\n",
            "\n",
            "--- Обработка батча 3/93 (индексы 100-149) ---\n",
            "  Версия 1, попытка 1/3...\n"
          ]
        },
        {
          "output_type": "stream",
          "name": "stderr",
          "text": [
            "Обработка батчей:   2%|▏         | 2/93 [14:59<9:46:51, 386.95s/it]"
          ]
        },
        {
          "output_type": "stream",
          "name": "stdout",
          "text": [
            "  Версия 2, попытка 1/3...\n"
          ]
        },
        {
          "output_type": "stream",
          "name": "stderr",
          "text": [
            "Обработка батчей:   2%|▏         | 2/93 [18:03<9:46:51, 386.95s/it]"
          ]
        },
        {
          "output_type": "stream",
          "name": "stdout",
          "text": [
            "  Версия 3, попытка 1/3...\n"
          ]
        },
        {
          "output_type": "stream",
          "name": "stderr",
          "text": [
            "Обработка батчей:   2%|▏         | 2/93 [20:32<9:46:51, 386.95s/it]"
          ]
        },
        {
          "output_type": "stream",
          "name": "stdout",
          "text": [
            "  Версия 4, попытка 1/3...\n"
          ]
        },
        {
          "output_type": "stream",
          "name": "stderr",
          "text": [
            "Обработка батчей:   2%|▏         | 2/93 [21:19<9:46:51, 386.95s/it]"
          ]
        },
        {
          "output_type": "stream",
          "name": "stdout",
          "text": [
            "  Версия 5, попытка 1/3...\n"
          ]
        },
        {
          "output_type": "stream",
          "name": "stderr",
          "text": [
            "Обработка батчей:   3%|▎         | 3/93 [22:15<11:26:06, 457.41s/it]"
          ]
        },
        {
          "output_type": "stream",
          "name": "stdout",
          "text": [
            "  Получено 5/5 успешных версий для батча.\n",
            "💾 Прогресс сохранен. Батч 3 усреднен и записан в файл.\n",
            "\n",
            "--- Обработка батча 4/93 (индексы 150-199) ---\n",
            "  Версия 1, попытка 1/3...\n"
          ]
        },
        {
          "output_type": "stream",
          "name": "stderr",
          "text": [
            "Обработка батчей:   3%|▎         | 3/93 [23:12<11:26:06, 457.41s/it]"
          ]
        },
        {
          "output_type": "stream",
          "name": "stdout",
          "text": [
            "  Версия 2, попытка 1/3...\n"
          ]
        },
        {
          "output_type": "stream",
          "name": "stderr",
          "text": [
            "Обработка батчей:   3%|▎         | 3/93 [24:07<11:26:06, 457.41s/it]"
          ]
        },
        {
          "output_type": "stream",
          "name": "stdout",
          "text": [
            "  Версия 3, попытка 1/3...\n"
          ]
        },
        {
          "output_type": "stream",
          "name": "stderr",
          "text": [
            "Обработка батчей:   3%|▎         | 3/93 [25:54<11:26:06, 457.41s/it]"
          ]
        },
        {
          "output_type": "stream",
          "name": "stdout",
          "text": [
            "  Версия 4, попытка 1/3...\n"
          ]
        },
        {
          "output_type": "stream",
          "name": "stderr",
          "text": [
            "Обработка батчей:   3%|▎         | 3/93 [26:52<11:26:06, 457.41s/it]"
          ]
        },
        {
          "output_type": "stream",
          "name": "stdout",
          "text": [
            "  Версия 5, попытка 1/3...\n"
          ]
        },
        {
          "output_type": "stream",
          "name": "stderr",
          "text": [
            "Обработка батчей:   4%|▍         | 4/93 [28:31<10:31:03, 425.43s/it]"
          ]
        },
        {
          "output_type": "stream",
          "name": "stdout",
          "text": [
            "  Получено 5/5 успешных версий для батча.\n",
            "💾 Прогресс сохранен. Батч 4 усреднен и записан в файл.\n",
            "\n",
            "--- Обработка батча 5/93 (индексы 200-249) ---\n",
            "  Версия 1, попытка 1/3...\n"
          ]
        },
        {
          "output_type": "stream",
          "name": "stderr",
          "text": [
            "Обработка батчей:   4%|▍         | 4/93 [29:27<10:31:03, 425.43s/it]"
          ]
        },
        {
          "output_type": "stream",
          "name": "stdout",
          "text": [
            "  Версия 2, попытка 1/3...\n"
          ]
        },
        {
          "output_type": "stream",
          "name": "stderr",
          "text": [
            "Обработка батчей:   4%|▍         | 4/93 [30:18<10:31:03, 425.43s/it]"
          ]
        },
        {
          "output_type": "stream",
          "name": "stdout",
          "text": [
            "  Версия 3, попытка 1/3...\n"
          ]
        },
        {
          "output_type": "stream",
          "name": "stderr",
          "text": [
            "Обработка батчей:   4%|▍         | 4/93 [30:48<10:31:03, 425.43s/it]"
          ]
        },
        {
          "output_type": "stream",
          "name": "stdout",
          "text": [
            "  Версия 4, попытка 1/3...\n"
          ]
        },
        {
          "output_type": "stream",
          "name": "stderr",
          "text": [
            "Обработка батчей:   4%|▍         | 4/93 [31:17<10:31:03, 425.43s/it]"
          ]
        },
        {
          "output_type": "stream",
          "name": "stdout",
          "text": [
            "  Версия 5, попытка 1/3...\n"
          ]
        },
        {
          "output_type": "stream",
          "name": "stderr",
          "text": [
            "Обработка батчей:   5%|▌         | 5/93 [31:51<8:24:37, 344.06s/it]"
          ]
        },
        {
          "output_type": "stream",
          "name": "stdout",
          "text": [
            "  Получено 5/5 успешных версий для батча.\n",
            "💾 Прогресс сохранен. Батч 5 усреднен и записан в файл.\n",
            "\n",
            "--- Обработка батча 6/93 (индексы 250-299) ---\n",
            "  Версия 1, попытка 1/3...\n"
          ]
        },
        {
          "output_type": "stream",
          "name": "stderr",
          "text": [
            "Обработка батчей:   5%|▌         | 5/93 [33:39<8:24:37, 344.06s/it]"
          ]
        },
        {
          "output_type": "stream",
          "name": "stdout",
          "text": [
            "  Версия 2, попытка 1/3...\n"
          ]
        },
        {
          "output_type": "stream",
          "name": "stderr",
          "text": [
            "Обработка батчей:   5%|▌         | 5/93 [35:35<8:24:37, 344.06s/it]"
          ]
        },
        {
          "output_type": "stream",
          "name": "stdout",
          "text": [
            "  Версия 3, попытка 1/3...\n"
          ]
        },
        {
          "output_type": "stream",
          "name": "stderr",
          "text": [
            "Обработка батчей:   5%|▌         | 5/93 [37:02<8:24:37, 344.06s/it]"
          ]
        },
        {
          "output_type": "stream",
          "name": "stdout",
          "text": [
            "  Версия 4, попытка 1/3...\n"
          ]
        },
        {
          "output_type": "stream",
          "name": "stderr",
          "text": [
            "Обработка батчей:   5%|▌         | 5/93 [38:41<8:24:37, 344.06s/it]"
          ]
        },
        {
          "output_type": "stream",
          "name": "stdout",
          "text": [
            "  Версия 5, попытка 1/3...\n"
          ]
        },
        {
          "output_type": "stream",
          "name": "stderr",
          "text": [
            "Обработка батчей:   6%|▋         | 6/93 [40:28<9:43:57, 402.73s/it]"
          ]
        },
        {
          "output_type": "stream",
          "name": "stdout",
          "text": [
            "  Получено 5/5 успешных версий для батча.\n",
            "💾 Прогресс сохранен. Батч 6 усреднен и записан в файл.\n",
            "\n",
            "--- Обработка батча 7/93 (индексы 300-349) ---\n",
            "  Версия 1, попытка 1/3...\n"
          ]
        },
        {
          "output_type": "stream",
          "name": "stderr",
          "text": [
            "Обработка батчей:   6%|▋         | 6/93 [42:14<9:43:57, 402.73s/it]"
          ]
        },
        {
          "output_type": "stream",
          "name": "stdout",
          "text": [
            "  Версия 2, попытка 1/3...\n"
          ]
        },
        {
          "output_type": "stream",
          "name": "stderr",
          "text": [
            "Обработка батчей:   6%|▋         | 6/93 [43:01<9:43:57, 402.73s/it]"
          ]
        },
        {
          "output_type": "stream",
          "name": "stdout",
          "text": [
            "  Версия 3, попытка 1/3...\n"
          ]
        },
        {
          "output_type": "stream",
          "name": "stderr",
          "text": [
            "Обработка батчей:   6%|▋         | 6/93 [45:22<9:43:57, 402.73s/it]"
          ]
        },
        {
          "output_type": "stream",
          "name": "stdout",
          "text": [
            "  Версия 4, попытка 1/3...\n"
          ]
        },
        {
          "output_type": "stream",
          "name": "stderr",
          "text": [
            "Обработка батчей:   6%|▋         | 6/93 [46:07<9:43:57, 402.73s/it]"
          ]
        },
        {
          "output_type": "stream",
          "name": "stdout",
          "text": [
            "  Версия 5, попытка 1/3...\n"
          ]
        },
        {
          "output_type": "stream",
          "name": "stderr",
          "text": [
            "Обработка батчей:   8%|▊         | 7/93 [47:41<9:51:45, 412.86s/it]"
          ]
        },
        {
          "output_type": "stream",
          "name": "stdout",
          "text": [
            "  Получено 5/5 успешных версий для батча.\n",
            "💾 Прогресс сохранен. Батч 7 усреднен и записан в файл.\n",
            "\n",
            "--- Обработка батча 8/93 (индексы 350-399) ---\n",
            "  Версия 1, попытка 1/3...\n"
          ]
        },
        {
          "output_type": "stream",
          "name": "stderr",
          "text": [
            "Обработка батчей:   8%|▊         | 7/93 [48:40<9:51:45, 412.86s/it]"
          ]
        },
        {
          "output_type": "stream",
          "name": "stdout",
          "text": [
            "  Версия 2, попытка 1/3...\n"
          ]
        },
        {
          "output_type": "stream",
          "name": "stderr",
          "text": [
            "Обработка батчей:   8%|▊         | 7/93 [49:48<9:51:45, 412.86s/it]"
          ]
        },
        {
          "output_type": "stream",
          "name": "stdout",
          "text": [
            "  Версия 3, попытка 1/3...\n"
          ]
        },
        {
          "output_type": "stream",
          "name": "stderr",
          "text": [
            "Обработка батчей:   8%|▊         | 7/93 [50:57<9:51:45, 412.86s/it]"
          ]
        },
        {
          "output_type": "stream",
          "name": "stdout",
          "text": [
            "  Версия 4, попытка 1/3...\n"
          ]
        },
        {
          "output_type": "stream",
          "name": "stderr",
          "text": [
            "Обработка батчей:   8%|▊         | 7/93 [52:03<9:51:45, 412.86s/it]"
          ]
        },
        {
          "output_type": "stream",
          "name": "stdout",
          "text": [
            "  Версия 5, попытка 1/3...\n"
          ]
        },
        {
          "output_type": "stream",
          "name": "stderr",
          "text": [
            "Обработка батчей:   9%|▊         | 8/93 [53:08<9:06:02, 385.44s/it]"
          ]
        },
        {
          "output_type": "stream",
          "name": "stdout",
          "text": [
            "  Получено 5/5 успешных версий для батча.\n",
            "💾 Прогресс сохранен. Батч 8 усреднен и записан в файл.\n",
            "\n",
            "--- Обработка батча 9/93 (индексы 400-449) ---\n",
            "  Версия 1, попытка 1/3...\n"
          ]
        },
        {
          "output_type": "stream",
          "name": "stderr",
          "text": [
            "Обработка батчей:   9%|▊         | 8/93 [54:44<9:06:02, 385.44s/it]"
          ]
        },
        {
          "output_type": "stream",
          "name": "stdout",
          "text": [
            "  Версия 2, попытка 1/3...\n"
          ]
        },
        {
          "output_type": "stream",
          "name": "stderr",
          "text": [
            "Обработка батчей:   9%|▊         | 8/93 [55:45<9:06:02, 385.44s/it]"
          ]
        },
        {
          "output_type": "stream",
          "name": "stdout",
          "text": [
            "  Версия 3, попытка 1/3...\n"
          ]
        },
        {
          "output_type": "stream",
          "name": "stderr",
          "text": [
            "Обработка батчей:   9%|▊         | 8/93 [56:45<9:06:02, 385.44s/it]"
          ]
        },
        {
          "output_type": "stream",
          "name": "stdout",
          "text": [
            "  Версия 4, попытка 1/3...\n"
          ]
        },
        {
          "output_type": "stream",
          "name": "stderr",
          "text": [
            "Обработка батчей:   9%|▊         | 8/93 [57:55<9:06:02, 385.44s/it]"
          ]
        },
        {
          "output_type": "stream",
          "name": "stdout",
          "text": [
            "  Версия 5, попытка 1/3...\n"
          ]
        },
        {
          "output_type": "stream",
          "name": "stderr",
          "text": [
            "Обработка батчей:  10%|▉         | 9/93 [1:00:16<9:18:25, 398.87s/it]"
          ]
        },
        {
          "output_type": "stream",
          "name": "stdout",
          "text": [
            "  Получено 5/5 успешных версий для батча.\n",
            "💾 Прогресс сохранен. Батч 9 усреднен и записан в файл.\n",
            "\n",
            "--- Обработка батча 10/93 (индексы 450-499) ---\n",
            "  Версия 1, попытка 1/3...\n"
          ]
        },
        {
          "output_type": "stream",
          "name": "stderr",
          "text": [
            "Обработка батчей:  10%|▉         | 9/93 [1:02:19<9:18:25, 398.87s/it]"
          ]
        },
        {
          "output_type": "stream",
          "name": "stdout",
          "text": [
            "  Версия 2, попытка 1/3...\n"
          ]
        },
        {
          "output_type": "stream",
          "name": "stderr",
          "text": [
            "Обработка батчей:  10%|▉         | 9/93 [1:02:55<9:18:25, 398.87s/it]"
          ]
        },
        {
          "output_type": "stream",
          "name": "stdout",
          "text": [
            "  Версия 3, попытка 1/3...\n"
          ]
        },
        {
          "output_type": "stream",
          "name": "stderr",
          "text": [
            "Обработка батчей:  10%|▉         | 9/93 [1:04:20<9:18:25, 398.87s/it]"
          ]
        },
        {
          "output_type": "stream",
          "name": "stdout",
          "text": [
            "    ❌ Ошибка API или парсинга: Expecting value: line 375 column 1 (char 2057)\n"
          ]
        },
        {
          "output_type": "stream",
          "name": "stderr",
          "text": [
            "Обработка батчей:  10%|▉         | 9/93 [1:04:23<9:18:25, 398.87s/it]"
          ]
        },
        {
          "output_type": "stream",
          "name": "stdout",
          "text": [
            "  Версия 3, попытка 2/3...\n"
          ]
        },
        {
          "output_type": "stream",
          "name": "stderr",
          "text": [
            "Обработка батчей:  10%|▉         | 9/93 [1:06:04<9:18:25, 398.87s/it]"
          ]
        },
        {
          "output_type": "stream",
          "name": "stdout",
          "text": [
            "  Версия 4, попытка 1/3...\n"
          ]
        },
        {
          "output_type": "stream",
          "name": "stderr",
          "text": [
            "Обработка батчей:  10%|▉         | 9/93 [1:07:11<9:18:25, 398.87s/it]"
          ]
        },
        {
          "output_type": "stream",
          "name": "stdout",
          "text": [
            "  Версия 5, попытка 1/3...\n"
          ]
        },
        {
          "output_type": "stream",
          "name": "stderr",
          "text": [
            "Обработка батчей:  11%|█         | 10/93 [1:08:13<9:44:55, 422.84s/it]"
          ]
        },
        {
          "output_type": "stream",
          "name": "stdout",
          "text": [
            "  Получено 5/5 успешных версий для батча.\n",
            "💾 Прогресс сохранен. Батч 10 усреднен и записан в файл.\n",
            "\n",
            "--- Обработка батча 11/93 (индексы 500-549) ---\n",
            "  Версия 1, попытка 1/3...\n"
          ]
        },
        {
          "output_type": "stream",
          "name": "stderr",
          "text": [
            "Обработка батчей:  11%|█         | 10/93 [1:09:51<9:44:55, 422.84s/it]"
          ]
        },
        {
          "output_type": "stream",
          "name": "stdout",
          "text": [
            "  Версия 2, попытка 1/3...\n"
          ]
        },
        {
          "output_type": "stream",
          "name": "stderr",
          "text": [
            "Обработка батчей:  11%|█         | 10/93 [1:11:51<9:44:55, 422.84s/it]"
          ]
        },
        {
          "output_type": "stream",
          "name": "stdout",
          "text": [
            "  Версия 3, попытка 1/3...\n"
          ]
        },
        {
          "output_type": "stream",
          "name": "stderr",
          "text": [
            "Обработка батчей:  11%|█         | 10/93 [1:12:56<9:44:55, 422.84s/it]"
          ]
        },
        {
          "output_type": "stream",
          "name": "stdout",
          "text": [
            "  Версия 4, попытка 1/3...\n"
          ]
        },
        {
          "output_type": "stream",
          "name": "stderr",
          "text": [
            "Обработка батчей:  11%|█         | 10/93 [1:14:51<9:44:55, 422.84s/it]"
          ]
        },
        {
          "output_type": "stream",
          "name": "stdout",
          "text": [
            "  Версия 5, попытка 1/3...\n"
          ]
        },
        {
          "output_type": "stream",
          "name": "stderr",
          "text": [
            "Обработка батчей:  12%|█▏        | 11/93 [1:15:54<9:53:46, 434.47s/it]"
          ]
        },
        {
          "output_type": "stream",
          "name": "stdout",
          "text": [
            "  Получено 5/5 успешных версий для батча.\n",
            "💾 Прогресс сохранен. Батч 11 усреднен и записан в файл.\n",
            "\n",
            "--- Обработка батча 12/93 (индексы 550-599) ---\n",
            "  Версия 1, попытка 1/3...\n"
          ]
        },
        {
          "output_type": "stream",
          "name": "stderr",
          "text": [
            "Обработка батчей:  12%|█▏        | 11/93 [1:16:58<9:53:46, 434.47s/it]"
          ]
        },
        {
          "output_type": "stream",
          "name": "stdout",
          "text": [
            "  Версия 2, попытка 1/3...\n"
          ]
        },
        {
          "output_type": "stream",
          "name": "stderr",
          "text": [
            "Обработка батчей:  12%|█▏        | 11/93 [1:19:38<9:53:46, 434.47s/it]"
          ]
        },
        {
          "output_type": "stream",
          "name": "stdout",
          "text": [
            "  Версия 3, попытка 1/3...\n"
          ]
        },
        {
          "output_type": "stream",
          "name": "stderr",
          "text": [
            "Обработка батчей:  12%|█▏        | 11/93 [1:21:20<9:53:46, 434.47s/it]"
          ]
        },
        {
          "output_type": "stream",
          "name": "stdout",
          "text": [
            "  Версия 4, попытка 1/3...\n"
          ]
        },
        {
          "output_type": "stream",
          "name": "stderr",
          "text": [
            "Обработка батчей:  12%|█▏        | 11/93 [1:22:26<9:53:46, 434.47s/it]"
          ]
        },
        {
          "output_type": "stream",
          "name": "stdout",
          "text": [
            "  Версия 5, попытка 1/3...\n"
          ]
        },
        {
          "output_type": "stream",
          "name": "stderr",
          "text": [
            "Обработка батчей:  13%|█▎        | 12/93 [1:24:51<10:28:43, 465.72s/it]"
          ]
        },
        {
          "output_type": "stream",
          "name": "stdout",
          "text": [
            "  Получено 5/5 успешных версий для батча.\n",
            "💾 Прогресс сохранен. Батч 12 усреднен и записан в файл.\n",
            "\n",
            "--- Обработка батча 13/93 (индексы 600-649) ---\n",
            "  Версия 1, попытка 1/3...\n"
          ]
        },
        {
          "output_type": "stream",
          "name": "stderr",
          "text": [
            "Обработка батчей:  13%|█▎        | 12/93 [1:25:50<10:28:43, 465.72s/it]"
          ]
        },
        {
          "output_type": "stream",
          "name": "stdout",
          "text": [
            "  Версия 2, попытка 1/3...\n"
          ]
        },
        {
          "output_type": "stream",
          "name": "stderr",
          "text": [
            "Обработка батчей:  13%|█▎        | 12/93 [1:26:50<10:28:43, 465.72s/it]"
          ]
        },
        {
          "output_type": "stream",
          "name": "stdout",
          "text": [
            "  Версия 3, попытка 1/3...\n"
          ]
        },
        {
          "output_type": "stream",
          "name": "stderr",
          "text": [
            "Обработка батчей:  13%|█▎        | 12/93 [1:27:56<10:28:43, 465.72s/it]"
          ]
        },
        {
          "output_type": "stream",
          "name": "stdout",
          "text": [
            "  Версия 4, попытка 1/3...\n"
          ]
        },
        {
          "output_type": "stream",
          "name": "stderr",
          "text": [
            "Обработка батчей:  13%|█▎        | 12/93 [1:28:55<10:28:43, 465.72s/it]"
          ]
        },
        {
          "output_type": "stream",
          "name": "stdout",
          "text": [
            "    ❌ Ошибка API или парсинга: Expecting value: line 267 column 1 (char 1463)\n"
          ]
        },
        {
          "output_type": "stream",
          "name": "stderr",
          "text": [
            "Обработка батчей:  13%|█▎        | 12/93 [1:28:58<10:28:43, 465.72s/it]"
          ]
        },
        {
          "output_type": "stream",
          "name": "stdout",
          "text": [
            "  Версия 4, попытка 2/3...\n"
          ]
        },
        {
          "output_type": "stream",
          "name": "stderr",
          "text": [
            "Обработка батчей:  13%|█▎        | 12/93 [1:31:34<10:28:43, 465.72s/it]"
          ]
        },
        {
          "output_type": "stream",
          "name": "stdout",
          "text": [
            "  Версия 5, попытка 1/3...\n"
          ]
        },
        {
          "output_type": "stream",
          "name": "stderr",
          "text": [
            "Обработка батчей:  14%|█▍        | 13/93 [1:32:41<10:22:51, 467.14s/it]"
          ]
        },
        {
          "output_type": "stream",
          "name": "stdout",
          "text": [
            "  Получено 5/5 успешных версий для батча.\n",
            "💾 Прогресс сохранен. Батч 13 усреднен и записан в файл.\n",
            "\n",
            "--- Обработка батча 14/93 (индексы 650-699) ---\n",
            "  Версия 1, попытка 1/3...\n"
          ]
        },
        {
          "output_type": "stream",
          "name": "stderr",
          "text": [
            "Обработка батчей:  14%|█▍        | 13/93 [1:32:49<10:22:51, 467.14s/it]"
          ]
        },
        {
          "output_type": "stream",
          "name": "stdout",
          "text": [
            "    ❌ Ошибка API или парсинга: Response ended prematurely\n"
          ]
        },
        {
          "output_type": "stream",
          "name": "stderr",
          "text": [
            "Обработка батчей:  14%|█▍        | 13/93 [1:32:52<10:22:51, 467.14s/it]"
          ]
        },
        {
          "output_type": "stream",
          "name": "stdout",
          "text": [
            "  Версия 1, попытка 2/3...\n"
          ]
        },
        {
          "output_type": "stream",
          "name": "stderr",
          "text": [
            "Обработка батчей:  14%|█▍        | 13/93 [1:34:00<10:22:51, 467.14s/it]"
          ]
        },
        {
          "output_type": "stream",
          "name": "stdout",
          "text": [
            "  Версия 2, попытка 1/3...\n"
          ]
        },
        {
          "output_type": "stream",
          "name": "stderr",
          "text": [
            "Обработка батчей:  14%|█▍        | 13/93 [1:35:05<10:22:51, 467.14s/it]"
          ]
        },
        {
          "output_type": "stream",
          "name": "stdout",
          "text": [
            "  Версия 3, попытка 1/3...\n"
          ]
        },
        {
          "output_type": "stream",
          "name": "stderr",
          "text": [
            "Обработка батчей:  14%|█▍        | 13/93 [1:36:16<10:22:51, 467.14s/it]"
          ]
        },
        {
          "output_type": "stream",
          "name": "stdout",
          "text": [
            "  Версия 4, попытка 1/3...\n"
          ]
        },
        {
          "output_type": "stream",
          "name": "stderr",
          "text": [
            "Обработка батчей:  14%|█▍        | 13/93 [1:38:35<10:22:51, 467.14s/it]"
          ]
        },
        {
          "output_type": "stream",
          "name": "stdout",
          "text": [
            "  Версия 5, попытка 1/3...\n"
          ]
        },
        {
          "output_type": "stream",
          "name": "stderr",
          "text": [
            "Обработка батчей:  15%|█▌        | 14/93 [1:39:38<9:54:52, 451.80s/it]"
          ]
        },
        {
          "output_type": "stream",
          "name": "stdout",
          "text": [
            "  Получено 5/5 успешных версий для батча.\n",
            "💾 Прогресс сохранен. Батч 14 усреднен и записан в файл.\n",
            "\n",
            "--- Обработка батча 15/93 (индексы 700-749) ---\n",
            "  Версия 1, попытка 1/3...\n"
          ]
        },
        {
          "output_type": "stream",
          "name": "stderr",
          "text": [
            "Обработка батчей:  15%|█▌        | 14/93 [1:40:09<9:54:52, 451.80s/it]"
          ]
        },
        {
          "output_type": "stream",
          "name": "stdout",
          "text": [
            "  Версия 2, попытка 1/3...\n"
          ]
        },
        {
          "output_type": "stream",
          "name": "stderr",
          "text": [
            "Обработка батчей:  15%|█▌        | 14/93 [1:40:44<9:54:52, 451.80s/it]"
          ]
        },
        {
          "output_type": "stream",
          "name": "stdout",
          "text": [
            "  Версия 3, попытка 1/3...\n"
          ]
        },
        {
          "output_type": "stream",
          "name": "stderr",
          "text": [
            "Обработка батчей:  15%|█▌        | 14/93 [1:41:28<9:54:52, 451.80s/it]"
          ]
        },
        {
          "output_type": "stream",
          "name": "stdout",
          "text": [
            "  Версия 4, попытка 1/3...\n"
          ]
        },
        {
          "output_type": "stream",
          "name": "stderr",
          "text": [
            "Обработка батчей:  15%|█▌        | 14/93 [1:42:06<9:54:52, 451.80s/it]"
          ]
        },
        {
          "output_type": "stream",
          "name": "stdout",
          "text": [
            "  Версия 5, попытка 1/3...\n"
          ]
        },
        {
          "output_type": "stream",
          "name": "stderr",
          "text": [
            "Обработка батчей:  16%|█▌        | 15/93 [1:42:42<8:02:30, 371.17s/it]"
          ]
        },
        {
          "output_type": "stream",
          "name": "stdout",
          "text": [
            "  Получено 5/5 успешных версий для батча.\n",
            "💾 Прогресс сохранен. Батч 15 усреднен и записан в файл.\n",
            "\n",
            "--- Обработка батча 16/93 (индексы 750-799) ---\n",
            "  Версия 1, попытка 1/3...\n"
          ]
        },
        {
          "output_type": "stream",
          "name": "stderr",
          "text": [
            "Обработка батчей:  16%|█▌        | 15/93 [1:43:47<8:02:30, 371.17s/it]"
          ]
        },
        {
          "output_type": "stream",
          "name": "stdout",
          "text": [
            "  Версия 2, попытка 1/3...\n"
          ]
        },
        {
          "output_type": "stream",
          "name": "stderr",
          "text": [
            "Обработка батчей:  16%|█▌        | 15/93 [1:44:18<8:02:30, 371.17s/it]"
          ]
        },
        {
          "output_type": "stream",
          "name": "stdout",
          "text": [
            "  Версия 3, попытка 1/3...\n"
          ]
        },
        {
          "output_type": "stream",
          "name": "stderr",
          "text": [
            "Обработка батчей:  16%|█▌        | 15/93 [1:45:23<8:02:30, 371.17s/it]"
          ]
        },
        {
          "output_type": "stream",
          "name": "stdout",
          "text": [
            "  Версия 4, попытка 1/3...\n"
          ]
        },
        {
          "output_type": "stream",
          "name": "stderr",
          "text": [
            "Обработка батчей:  16%|█▌        | 15/93 [1:45:54<8:02:30, 371.17s/it]"
          ]
        },
        {
          "output_type": "stream",
          "name": "stdout",
          "text": [
            "  Версия 5, попытка 1/3...\n"
          ]
        },
        {
          "output_type": "stream",
          "name": "stderr",
          "text": [
            "Обработка батчей:  17%|█▋        | 16/93 [1:46:29<7:00:43, 327.84s/it]"
          ]
        },
        {
          "output_type": "stream",
          "name": "stdout",
          "text": [
            "  Получено 5/5 успешных версий для батча.\n",
            "💾 Прогресс сохранен. Батч 16 усреднен и записан в файл.\n",
            "\n",
            "--- Обработка батча 17/93 (индексы 800-849) ---\n",
            "  Версия 1, попытка 1/3...\n"
          ]
        },
        {
          "output_type": "stream",
          "name": "stderr",
          "text": [
            "Обработка батчей:  17%|█▋        | 16/93 [1:48:03<7:00:43, 327.84s/it]"
          ]
        },
        {
          "output_type": "stream",
          "name": "stdout",
          "text": [
            "  Версия 2, попытка 1/3...\n"
          ]
        },
        {
          "output_type": "stream",
          "name": "stderr",
          "text": [
            "Обработка батчей:  17%|█▋        | 16/93 [1:49:45<7:00:43, 327.84s/it]"
          ]
        },
        {
          "output_type": "stream",
          "name": "stdout",
          "text": [
            "  Версия 3, попытка 1/3...\n"
          ]
        },
        {
          "output_type": "stream",
          "name": "stderr",
          "text": [
            "Обработка батчей:  17%|█▋        | 16/93 [1:51:21<7:00:43, 327.84s/it]"
          ]
        },
        {
          "output_type": "stream",
          "name": "stdout",
          "text": [
            "  Версия 4, попытка 1/3...\n"
          ]
        },
        {
          "output_type": "stream",
          "name": "stderr",
          "text": [
            "Обработка батчей:  17%|█▋        | 16/93 [1:52:22<7:00:43, 327.84s/it]"
          ]
        },
        {
          "output_type": "stream",
          "name": "stdout",
          "text": [
            "  Версия 5, попытка 1/3...\n"
          ]
        },
        {
          "output_type": "stream",
          "name": "stderr",
          "text": [
            "Обработка батчей:  18%|█▊        | 17/93 [1:54:15<7:47:48, 369.33s/it]"
          ]
        },
        {
          "output_type": "stream",
          "name": "stdout",
          "text": [
            "  Получено 5/5 успешных версий для батча.\n",
            "💾 Прогресс сохранен. Батч 17 усреднен и записан в файл.\n",
            "\n",
            "--- Обработка батча 18/93 (индексы 850-899) ---\n",
            "  Версия 1, попытка 1/3...\n"
          ]
        },
        {
          "output_type": "stream",
          "name": "stderr",
          "text": [
            "Обработка батчей:  18%|█▊        | 17/93 [1:55:46<7:47:48, 369.33s/it]"
          ]
        },
        {
          "output_type": "stream",
          "name": "stdout",
          "text": [
            "  Версия 2, попытка 1/3...\n"
          ]
        },
        {
          "output_type": "stream",
          "name": "stderr",
          "text": [
            "Обработка батчей:  18%|█▊        | 17/93 [1:56:46<7:47:48, 369.33s/it]"
          ]
        },
        {
          "output_type": "stream",
          "name": "stdout",
          "text": [
            "  Версия 3, попытка 1/3...\n"
          ]
        },
        {
          "output_type": "stream",
          "name": "stderr",
          "text": [
            "Обработка батчей:  18%|█▊        | 17/93 [1:57:58<7:47:48, 369.33s/it]"
          ]
        },
        {
          "output_type": "stream",
          "name": "stdout",
          "text": [
            "  Версия 4, попытка 1/3...\n"
          ]
        },
        {
          "output_type": "stream",
          "name": "stderr",
          "text": [
            "Обработка батчей:  18%|█▊        | 17/93 [1:59:58<7:47:48, 369.33s/it]"
          ]
        },
        {
          "output_type": "stream",
          "name": "stdout",
          "text": [
            "  Версия 5, попытка 1/3...\n"
          ]
        },
        {
          "output_type": "stream",
          "name": "stderr",
          "text": [
            "Обработка батчей:  19%|█▉        | 18/93 [2:01:24<8:04:12, 387.37s/it]"
          ]
        },
        {
          "output_type": "stream",
          "name": "stdout",
          "text": [
            "  Получено 5/5 успешных версий для батча.\n",
            "💾 Прогресс сохранен. Батч 18 усреднен и записан в файл.\n",
            "\n",
            "--- Обработка батча 19/93 (индексы 900-949) ---\n",
            "  Версия 1, попытка 1/3...\n"
          ]
        },
        {
          "output_type": "stream",
          "name": "stderr",
          "text": [
            "Обработка батчей:  19%|█▉        | 18/93 [2:01:54<8:04:12, 387.37s/it]"
          ]
        },
        {
          "output_type": "stream",
          "name": "stdout",
          "text": [
            "  Версия 2, попытка 1/3...\n"
          ]
        },
        {
          "output_type": "stream",
          "name": "stderr",
          "text": [
            "Обработка батчей:  19%|█▉        | 18/93 [2:02:55<8:04:12, 387.37s/it]"
          ]
        },
        {
          "output_type": "stream",
          "name": "stdout",
          "text": [
            "  Версия 3, попытка 1/3...\n"
          ]
        },
        {
          "output_type": "stream",
          "name": "stderr",
          "text": [
            "Обработка батчей:  19%|█▉        | 18/93 [2:03:56<8:04:12, 387.37s/it]"
          ]
        },
        {
          "output_type": "stream",
          "name": "stdout",
          "text": [
            "  Версия 4, попытка 1/3...\n"
          ]
        },
        {
          "output_type": "stream",
          "name": "stderr",
          "text": [
            "Обработка батчей:  19%|█▉        | 18/93 [2:04:59<8:04:12, 387.37s/it]"
          ]
        },
        {
          "output_type": "stream",
          "name": "stdout",
          "text": [
            "  Версия 5, попытка 1/3...\n"
          ]
        },
        {
          "output_type": "stream",
          "name": "stderr",
          "text": [
            "Обработка батчей:  20%|██        | 19/93 [2:05:28<7:04:35, 344.26s/it]"
          ]
        },
        {
          "output_type": "stream",
          "name": "stdout",
          "text": [
            "  Получено 5/5 успешных версий для батча.\n",
            "💾 Прогресс сохранен. Батч 19 усреднен и записан в файл.\n",
            "\n",
            "--- Обработка батча 20/93 (индексы 950-999) ---\n",
            "  Версия 1, попытка 1/3...\n"
          ]
        },
        {
          "output_type": "stream",
          "name": "stderr",
          "text": [
            "Обработка батчей:  20%|██        | 19/93 [2:06:51<7:04:35, 344.26s/it]"
          ]
        },
        {
          "output_type": "stream",
          "name": "stdout",
          "text": [
            "  Версия 2, попытка 1/3...\n"
          ]
        },
        {
          "output_type": "stream",
          "name": "stderr",
          "text": [
            "Обработка батчей:  20%|██        | 19/93 [2:08:06<7:04:35, 344.26s/it]"
          ]
        },
        {
          "output_type": "stream",
          "name": "stdout",
          "text": [
            "  Версия 3, попытка 1/3...\n"
          ]
        },
        {
          "output_type": "stream",
          "name": "stderr",
          "text": [
            "Обработка батчей:  20%|██        | 19/93 [2:09:38<7:04:35, 344.26s/it]"
          ]
        },
        {
          "output_type": "stream",
          "name": "stdout",
          "text": [
            "  Версия 4, попытка 1/3...\n"
          ]
        },
        {
          "output_type": "stream",
          "name": "stderr",
          "text": [
            "Обработка батчей:  20%|██        | 19/93 [2:10:43<7:04:35, 344.26s/it]"
          ]
        },
        {
          "output_type": "stream",
          "name": "stdout",
          "text": [
            "  Версия 5, попытка 1/3...\n"
          ]
        },
        {
          "output_type": "stream",
          "name": "stderr",
          "text": [
            "Обработка батчей:  20%|██        | 19/93 [2:11:57<7:04:35, 344.26s/it]"
          ]
        },
        {
          "output_type": "stream",
          "name": "stdout",
          "text": [
            "    ❌ Ошибка API или парсинга: Expecting value: line 351 column 1 (char 1925)\n"
          ]
        },
        {
          "output_type": "stream",
          "name": "stderr",
          "text": [
            "Обработка батчей:  20%|██        | 19/93 [2:12:00<7:04:35, 344.26s/it]"
          ]
        },
        {
          "output_type": "stream",
          "name": "stdout",
          "text": [
            "  Версия 5, попытка 2/3...\n"
          ]
        },
        {
          "output_type": "stream",
          "name": "stderr",
          "text": [
            "Обработка батчей:  22%|██▏       | 20/93 [2:13:11<7:42:08, 379.84s/it]"
          ]
        },
        {
          "output_type": "stream",
          "name": "stdout",
          "text": [
            "  Получено 5/5 успешных версий для батча.\n",
            "💾 Прогресс сохранен. Батч 20 усреднен и записан в файл.\n",
            "\n",
            "--- Обработка батча 21/93 (индексы 1000-1049) ---\n",
            "  Версия 1, попытка 1/3...\n"
          ]
        },
        {
          "output_type": "stream",
          "name": "stderr",
          "text": [
            "Обработка батчей:  22%|██▏       | 20/93 [2:14:40<7:42:08, 379.84s/it]"
          ]
        },
        {
          "output_type": "stream",
          "name": "stdout",
          "text": [
            "  Версия 2, попытка 1/3...\n"
          ]
        },
        {
          "output_type": "stream",
          "name": "stderr",
          "text": [
            "Обработка батчей:  22%|██▏       | 20/93 [2:15:51<7:42:08, 379.84s/it]"
          ]
        },
        {
          "output_type": "stream",
          "name": "stdout",
          "text": [
            "  Версия 3, попытка 1/3...\n"
          ]
        },
        {
          "output_type": "stream",
          "name": "stderr",
          "text": [
            "Обработка батчей:  22%|██▏       | 20/93 [2:17:05<7:42:08, 379.84s/it]"
          ]
        },
        {
          "output_type": "stream",
          "name": "stdout",
          "text": [
            "  Версия 4, попытка 1/3...\n"
          ]
        },
        {
          "output_type": "stream",
          "name": "stderr",
          "text": [
            "Обработка батчей:  22%|██▏       | 20/93 [2:18:08<7:42:08, 379.84s/it]"
          ]
        },
        {
          "output_type": "stream",
          "name": "stdout",
          "text": [
            "  Версия 5, попытка 1/3...\n"
          ]
        },
        {
          "output_type": "stream",
          "name": "stderr",
          "text": [
            "Обработка батчей:  23%|██▎       | 21/93 [2:19:50<7:42:45, 385.63s/it]"
          ]
        },
        {
          "output_type": "stream",
          "name": "stdout",
          "text": [
            "  Получено 5/5 успешных версий для батча.\n",
            "💾 Прогресс сохранен. Батч 21 усреднен и записан в файл.\n",
            "\n",
            "--- Обработка батча 22/93 (индексы 1050-1099) ---\n",
            "  Версия 1, попытка 1/3...\n"
          ]
        },
        {
          "output_type": "stream",
          "name": "stderr",
          "text": [
            "Обработка батчей:  23%|██▎       | 21/93 [2:20:46<7:42:45, 385.63s/it]"
          ]
        },
        {
          "output_type": "stream",
          "name": "stdout",
          "text": [
            "  Версия 2, попытка 1/3...\n"
          ]
        },
        {
          "output_type": "stream",
          "name": "stderr",
          "text": [
            "Обработка батчей:  23%|██▎       | 21/93 [2:22:25<7:42:45, 385.63s/it]"
          ]
        },
        {
          "output_type": "stream",
          "name": "stdout",
          "text": [
            "  Версия 3, попытка 1/3...\n"
          ]
        },
        {
          "output_type": "stream",
          "name": "stderr",
          "text": [
            "Обработка батчей:  23%|██▎       | 21/93 [2:23:21<7:42:45, 385.63s/it]"
          ]
        },
        {
          "output_type": "stream",
          "name": "stdout",
          "text": [
            "  Версия 4, попытка 1/3...\n"
          ]
        },
        {
          "output_type": "stream",
          "name": "stderr",
          "text": [
            "Обработка батчей:  23%|██▎       | 21/93 [2:24:36<7:42:45, 385.63s/it]"
          ]
        },
        {
          "output_type": "stream",
          "name": "stdout",
          "text": [
            "  Версия 5, попытка 1/3...\n"
          ]
        },
        {
          "output_type": "stream",
          "name": "stderr",
          "text": [
            "Обработка батчей:  24%|██▎       | 22/93 [2:26:21<7:38:04, 387.11s/it]"
          ]
        },
        {
          "output_type": "stream",
          "name": "stdout",
          "text": [
            "  Получено 5/5 успешных версий для батча.\n",
            "💾 Прогресс сохранен. Батч 22 усреднен и записан в файл.\n",
            "\n",
            "--- Обработка батча 23/93 (индексы 1100-1149) ---\n",
            "  Версия 1, попытка 1/3...\n"
          ]
        },
        {
          "output_type": "stream",
          "name": "stderr",
          "text": [
            "Обработка батчей:  24%|██▎       | 22/93 [2:27:39<7:38:04, 387.11s/it]"
          ]
        },
        {
          "output_type": "stream",
          "name": "stdout",
          "text": [
            "  Версия 2, попытка 1/3...\n"
          ]
        },
        {
          "output_type": "stream",
          "name": "stderr",
          "text": [
            "Обработка батчей:  24%|██▎       | 22/93 [2:28:33<7:38:04, 387.11s/it]"
          ]
        },
        {
          "output_type": "stream",
          "name": "stdout",
          "text": [
            "  Версия 3, попытка 1/3...\n"
          ]
        },
        {
          "output_type": "stream",
          "name": "stderr",
          "text": [
            "Обработка батчей:  24%|██▎       | 22/93 [2:29:41<7:38:04, 387.11s/it]"
          ]
        },
        {
          "output_type": "stream",
          "name": "stdout",
          "text": [
            "  Версия 4, попытка 1/3...\n"
          ]
        },
        {
          "output_type": "stream",
          "name": "stderr",
          "text": [
            "Обработка батчей:  24%|██▎       | 22/93 [2:32:04<7:38:04, 387.11s/it]"
          ]
        },
        {
          "output_type": "stream",
          "name": "stdout",
          "text": [
            "  Версия 5, попытка 1/3...\n"
          ]
        },
        {
          "output_type": "stream",
          "name": "stderr",
          "text": [
            "Обработка батчей:  25%|██▍       | 23/93 [2:34:02<7:57:29, 409.28s/it]"
          ]
        },
        {
          "output_type": "stream",
          "name": "stdout",
          "text": [
            "  Получено 5/5 успешных версий для батча.\n",
            "💾 Прогресс сохранен. Батч 23 усреднен и записан в файл.\n",
            "\n",
            "--- Обработка батча 24/93 (индексы 1150-1199) ---\n",
            "  Версия 1, попытка 1/3...\n"
          ]
        },
        {
          "output_type": "stream",
          "name": "stderr",
          "text": [
            "Обработка батчей:  25%|██▍       | 23/93 [2:35:30<7:57:29, 409.28s/it]"
          ]
        },
        {
          "output_type": "stream",
          "name": "stdout",
          "text": [
            "  Версия 2, попытка 1/3...\n"
          ]
        },
        {
          "output_type": "stream",
          "name": "stderr",
          "text": [
            "Обработка батчей:  25%|██▍       | 23/93 [2:36:47<7:57:29, 409.28s/it]"
          ]
        },
        {
          "output_type": "stream",
          "name": "stdout",
          "text": [
            "  Версия 3, попытка 1/3...\n"
          ]
        },
        {
          "output_type": "stream",
          "name": "stderr",
          "text": [
            "Обработка батчей:  25%|██▍       | 23/93 [2:37:57<7:57:29, 409.28s/it]"
          ]
        },
        {
          "output_type": "stream",
          "name": "stdout",
          "text": [
            "  Версия 4, попытка 1/3...\n"
          ]
        },
        {
          "output_type": "stream",
          "name": "stderr",
          "text": [
            "Обработка батчей:  25%|██▍       | 23/93 [2:39:20<7:57:29, 409.28s/it]"
          ]
        },
        {
          "output_type": "stream",
          "name": "stdout",
          "text": [
            "  Версия 5, попытка 1/3...\n"
          ]
        },
        {
          "output_type": "stream",
          "name": "stderr",
          "text": [
            "Обработка батчей:  26%|██▌       | 24/93 [2:40:30<7:43:34, 403.11s/it]"
          ]
        },
        {
          "output_type": "stream",
          "name": "stdout",
          "text": [
            "  Получено 5/5 успешных версий для батча.\n",
            "💾 Прогресс сохранен. Батч 24 усреднен и записан в файл.\n",
            "\n",
            "--- Обработка батча 25/93 (индексы 1200-1249) ---\n",
            "  Версия 1, попытка 1/3...\n"
          ]
        },
        {
          "output_type": "stream",
          "name": "stderr",
          "text": [
            "Обработка батчей:  26%|██▌       | 24/93 [2:42:15<7:43:34, 403.11s/it]"
          ]
        },
        {
          "output_type": "stream",
          "name": "stdout",
          "text": [
            "  Версия 2, попытка 1/3...\n"
          ]
        },
        {
          "output_type": "stream",
          "name": "stderr",
          "text": [
            "Обработка батчей:  26%|██▌       | 24/93 [2:43:22<7:43:34, 403.11s/it]"
          ]
        },
        {
          "output_type": "stream",
          "name": "stdout",
          "text": [
            "  Версия 3, попытка 1/3...\n"
          ]
        },
        {
          "output_type": "stream",
          "name": "stderr",
          "text": [
            "Обработка батчей:  26%|██▌       | 24/93 [2:45:07<7:43:34, 403.11s/it]"
          ]
        },
        {
          "output_type": "stream",
          "name": "stdout",
          "text": [
            "  Версия 4, попытка 1/3...\n"
          ]
        },
        {
          "output_type": "stream",
          "name": "stderr",
          "text": [
            "Обработка батчей:  26%|██▌       | 24/93 [2:46:04<7:43:34, 403.11s/it]"
          ]
        },
        {
          "output_type": "stream",
          "name": "stdout",
          "text": [
            "  Версия 5, попытка 1/3...\n"
          ]
        },
        {
          "output_type": "stream",
          "name": "stderr",
          "text": [
            "Обработка батчей:  27%|██▋       | 25/93 [2:48:16<7:58:04, 421.82s/it]"
          ]
        },
        {
          "output_type": "stream",
          "name": "stdout",
          "text": [
            "  Получено 5/5 успешных версий для батча.\n",
            "💾 Прогресс сохранен. Батч 25 усреднен и записан в файл.\n",
            "\n",
            "--- Обработка батча 26/93 (индексы 1250-1299) ---\n",
            "  Версия 1, попытка 1/3...\n"
          ]
        },
        {
          "output_type": "stream",
          "name": "stderr",
          "text": [
            "Обработка батчей:  27%|██▋       | 25/93 [2:49:12<7:58:04, 421.82s/it]"
          ]
        },
        {
          "output_type": "stream",
          "name": "stdout",
          "text": [
            "  Версия 2, попытка 1/3...\n"
          ]
        },
        {
          "output_type": "stream",
          "name": "stderr",
          "text": [
            "Обработка батчей:  27%|██▋       | 25/93 [2:49:41<7:58:04, 421.82s/it]"
          ]
        },
        {
          "output_type": "stream",
          "name": "stdout",
          "text": [
            "  Версия 3, попытка 1/3...\n"
          ]
        },
        {
          "output_type": "stream",
          "name": "stderr",
          "text": [
            "Обработка батчей:  27%|██▋       | 25/93 [2:50:25<7:58:04, 421.82s/it]"
          ]
        },
        {
          "output_type": "stream",
          "name": "stdout",
          "text": [
            "  Версия 4, попытка 1/3...\n"
          ]
        },
        {
          "output_type": "stream",
          "name": "stderr",
          "text": [
            "Обработка батчей:  27%|██▋       | 25/93 [2:52:00<7:58:04, 421.82s/it]"
          ]
        },
        {
          "output_type": "stream",
          "name": "stdout",
          "text": [
            "  Версия 5, попытка 1/3...\n"
          ]
        },
        {
          "output_type": "stream",
          "name": "stderr",
          "text": [
            "Обработка батчей:  28%|██▊       | 26/93 [2:53:06<7:06:49, 382.23s/it]"
          ]
        },
        {
          "output_type": "stream",
          "name": "stdout",
          "text": [
            "  Получено 5/5 успешных версий для батча.\n",
            "💾 Прогресс сохранен. Батч 26 усреднен и записан в файл.\n",
            "\n",
            "--- Обработка батча 27/93 (индексы 1300-1349) ---\n",
            "  Версия 1, попытка 1/3...\n"
          ]
        },
        {
          "output_type": "stream",
          "name": "stderr",
          "text": [
            "Обработка батчей:  28%|██▊       | 26/93 [2:54:03<7:06:49, 382.23s/it]"
          ]
        },
        {
          "output_type": "stream",
          "name": "stdout",
          "text": [
            "  Версия 2, попытка 1/3...\n"
          ]
        },
        {
          "output_type": "stream",
          "name": "stderr",
          "text": [
            "Обработка батчей:  28%|██▊       | 26/93 [2:55:07<7:06:49, 382.23s/it]"
          ]
        },
        {
          "output_type": "stream",
          "name": "stdout",
          "text": [
            "  Версия 3, попытка 1/3...\n"
          ]
        },
        {
          "output_type": "stream",
          "name": "stderr",
          "text": [
            "Обработка батчей:  28%|██▊       | 26/93 [2:57:13<7:06:49, 382.23s/it]"
          ]
        },
        {
          "output_type": "stream",
          "name": "stdout",
          "text": [
            "  Версия 4, попытка 1/3...\n"
          ]
        },
        {
          "output_type": "stream",
          "name": "stderr",
          "text": [
            "Обработка батчей:  28%|██▊       | 26/93 [2:59:37<7:06:49, 382.23s/it]"
          ]
        },
        {
          "output_type": "stream",
          "name": "stdout",
          "text": [
            "  Версия 5, попытка 1/3...\n"
          ]
        },
        {
          "output_type": "stream",
          "name": "stderr",
          "text": [
            "Обработка батчей:  29%|██▉       | 27/93 [3:01:32<7:41:17, 419.36s/it]"
          ]
        },
        {
          "output_type": "stream",
          "name": "stdout",
          "text": [
            "  Получено 5/5 успешных версий для батча.\n",
            "💾 Прогресс сохранен. Батч 27 усреднен и записан в файл.\n",
            "\n",
            "--- Обработка батча 28/93 (индексы 1350-1399) ---\n",
            "  Версия 1, попытка 1/3...\n"
          ]
        },
        {
          "output_type": "stream",
          "name": "stderr",
          "text": [
            "Обработка батчей:  29%|██▉       | 27/93 [3:03:08<7:41:17, 419.36s/it]"
          ]
        },
        {
          "output_type": "stream",
          "name": "stdout",
          "text": [
            "  Версия 2, попытка 1/3...\n"
          ]
        },
        {
          "output_type": "stream",
          "name": "stderr",
          "text": [
            "Обработка батчей:  29%|██▉       | 27/93 [3:04:35<7:41:17, 419.36s/it]"
          ]
        },
        {
          "output_type": "stream",
          "name": "stdout",
          "text": [
            "  Версия 3, попытка 1/3...\n"
          ]
        },
        {
          "output_type": "stream",
          "name": "stderr",
          "text": [
            "Обработка батчей:  29%|██▉       | 27/93 [3:06:41<7:41:17, 419.36s/it]"
          ]
        },
        {
          "output_type": "stream",
          "name": "stdout",
          "text": [
            "  Версия 4, попытка 1/3...\n"
          ]
        },
        {
          "output_type": "stream",
          "name": "stderr",
          "text": [
            "Обработка батчей:  29%|██▉       | 27/93 [3:07:58<7:41:17, 419.36s/it]"
          ]
        },
        {
          "output_type": "stream",
          "name": "stdout",
          "text": [
            "  Версия 5, попытка 1/3...\n"
          ]
        },
        {
          "output_type": "stream",
          "name": "stderr",
          "text": [
            "Обработка батчей:  30%|███       | 28/93 [3:09:06<7:45:39, 429.84s/it]"
          ]
        },
        {
          "output_type": "stream",
          "name": "stdout",
          "text": [
            "  Получено 5/5 успешных версий для батча.\n",
            "💾 Прогресс сохранен. Батч 28 усреднен и записан в файл.\n",
            "\n",
            "--- Обработка батча 29/93 (индексы 1400-1449) ---\n",
            "  Версия 1, попытка 1/3...\n"
          ]
        },
        {
          "output_type": "stream",
          "name": "stderr",
          "text": [
            "Обработка батчей:  30%|███       | 28/93 [3:10:23<7:45:39, 429.84s/it]"
          ]
        },
        {
          "output_type": "stream",
          "name": "stdout",
          "text": [
            "  Версия 2, попытка 1/3...\n"
          ]
        },
        {
          "output_type": "stream",
          "name": "stderr",
          "text": [
            "Обработка батчей:  30%|███       | 28/93 [3:11:39<7:45:39, 429.84s/it]"
          ]
        },
        {
          "output_type": "stream",
          "name": "stdout",
          "text": [
            "  Версия 3, попытка 1/3...\n"
          ]
        },
        {
          "output_type": "stream",
          "name": "stderr",
          "text": [
            "Обработка батчей:  30%|███       | 28/93 [3:12:57<7:45:39, 429.84s/it]"
          ]
        },
        {
          "output_type": "stream",
          "name": "stdout",
          "text": [
            "  Версия 4, попытка 1/3...\n"
          ]
        },
        {
          "output_type": "stream",
          "name": "stderr",
          "text": [
            "Обработка батчей:  30%|███       | 28/93 [3:14:21<7:45:39, 429.84s/it]"
          ]
        },
        {
          "output_type": "stream",
          "name": "stdout",
          "text": [
            "  Версия 5, попытка 1/3...\n"
          ]
        },
        {
          "output_type": "stream",
          "name": "stderr",
          "text": [
            "Обработка батчей:  31%|███       | 29/93 [3:15:16<7:19:21, 411.90s/it]"
          ]
        },
        {
          "output_type": "stream",
          "name": "stdout",
          "text": [
            "  Получено 5/5 успешных версий для батча.\n",
            "💾 Прогресс сохранен. Батч 29 усреднен и записан в файл.\n",
            "\n",
            "--- Обработка батча 30/93 (индексы 1450-1499) ---\n",
            "  Версия 1, попытка 1/3...\n"
          ]
        },
        {
          "output_type": "stream",
          "name": "stderr",
          "text": [
            "Обработка батчей:  31%|███       | 29/93 [3:16:57<7:19:21, 411.90s/it]"
          ]
        },
        {
          "output_type": "stream",
          "name": "stdout",
          "text": [
            "  Версия 2, попытка 1/3...\n"
          ]
        },
        {
          "output_type": "stream",
          "name": "stderr",
          "text": [
            "Обработка батчей:  31%|███       | 29/93 [3:18:19<7:19:21, 411.90s/it]"
          ]
        },
        {
          "output_type": "stream",
          "name": "stdout",
          "text": [
            "  Версия 3, попытка 1/3...\n"
          ]
        },
        {
          "output_type": "stream",
          "name": "stderr",
          "text": [
            "Обработка батчей:  31%|███       | 29/93 [3:19:32<7:19:21, 411.90s/it]"
          ]
        },
        {
          "output_type": "stream",
          "name": "stdout",
          "text": [
            "  Версия 4, попытка 1/3...\n"
          ]
        },
        {
          "output_type": "stream",
          "name": "stderr",
          "text": [
            "Обработка батчей:  31%|███       | 29/93 [3:20:34<7:19:21, 411.90s/it]"
          ]
        },
        {
          "output_type": "stream",
          "name": "stdout",
          "text": [
            "  Версия 5, попытка 1/3...\n"
          ]
        },
        {
          "output_type": "stream",
          "name": "stderr",
          "text": [
            "Обработка батчей:  32%|███▏      | 30/93 [3:21:57<7:09:07, 408.70s/it]"
          ]
        },
        {
          "output_type": "stream",
          "name": "stdout",
          "text": [
            "  Получено 5/5 успешных версий для батча.\n",
            "💾 Прогресс сохранен. Батч 30 усреднен и записан в файл.\n",
            "\n",
            "--- Обработка батча 31/93 (индексы 1500-1549) ---\n",
            "  Версия 1, попытка 1/3...\n"
          ]
        },
        {
          "output_type": "stream",
          "name": "stderr",
          "text": [
            "Обработка батчей:  32%|███▏      | 30/93 [3:22:52<7:09:07, 408.70s/it]"
          ]
        },
        {
          "output_type": "stream",
          "name": "stdout",
          "text": [
            "  Версия 2, попытка 1/3...\n"
          ]
        },
        {
          "output_type": "stream",
          "name": "stderr",
          "text": [
            "Обработка батчей:  32%|███▏      | 30/93 [3:25:05<7:09:07, 408.70s/it]"
          ]
        },
        {
          "output_type": "stream",
          "name": "stdout",
          "text": [
            "  Версия 3, попытка 1/3...\n"
          ]
        },
        {
          "output_type": "stream",
          "name": "stderr",
          "text": [
            "Обработка батчей:  32%|███▏      | 30/93 [3:26:04<7:09:07, 408.70s/it]"
          ]
        },
        {
          "output_type": "stream",
          "name": "stdout",
          "text": [
            "  Версия 4, попытка 1/3...\n"
          ]
        },
        {
          "output_type": "stream",
          "name": "stderr",
          "text": [
            "Обработка батчей:  32%|███▏      | 30/93 [3:28:44<7:09:07, 408.70s/it]"
          ]
        },
        {
          "output_type": "stream",
          "name": "stdout",
          "text": [
            "  Версия 5, попытка 1/3...\n"
          ]
        },
        {
          "output_type": "stream",
          "name": "stderr",
          "text": [
            "Обработка батчей:  33%|███▎      | 31/93 [3:29:39<7:18:35, 424.44s/it]"
          ]
        },
        {
          "output_type": "stream",
          "name": "stdout",
          "text": [
            "  Получено 5/5 успешных версий для батча.\n",
            "💾 Прогресс сохранен. Батч 31 усреднен и записан в файл.\n",
            "\n",
            "--- Обработка батча 32/93 (индексы 1550-1599) ---\n",
            "  Версия 1, попытка 1/3...\n"
          ]
        },
        {
          "output_type": "stream",
          "name": "stderr",
          "text": [
            "Обработка батчей:  33%|███▎      | 31/93 [3:30:41<7:18:35, 424.44s/it]"
          ]
        },
        {
          "output_type": "stream",
          "name": "stdout",
          "text": [
            "  Версия 2, попытка 1/3...\n"
          ]
        },
        {
          "output_type": "stream",
          "name": "stderr",
          "text": [
            "Обработка батчей:  33%|███▎      | 31/93 [3:31:58<7:18:35, 424.44s/it]"
          ]
        },
        {
          "output_type": "stream",
          "name": "stdout",
          "text": [
            "  Версия 3, попытка 1/3...\n"
          ]
        },
        {
          "output_type": "stream",
          "name": "stderr",
          "text": [
            "Обработка батчей:  33%|███▎      | 31/93 [3:33:01<7:18:35, 424.44s/it]"
          ]
        },
        {
          "output_type": "stream",
          "name": "stdout",
          "text": [
            "  Версия 4, попытка 1/3...\n"
          ]
        },
        {
          "output_type": "stream",
          "name": "stderr",
          "text": [
            "Обработка батчей:  33%|███▎      | 31/93 [3:33:43<7:18:35, 424.44s/it]"
          ]
        },
        {
          "output_type": "stream",
          "name": "stdout",
          "text": [
            "  Версия 5, попытка 1/3...\n"
          ]
        },
        {
          "output_type": "stream",
          "name": "stderr",
          "text": [
            "Обработка батчей:  33%|███▎      | 31/93 [3:34:53<7:18:35, 424.44s/it]"
          ]
        },
        {
          "output_type": "stream",
          "name": "stdout",
          "text": [
            "    ❌ Ошибка API или парсинга: Expecting value: line 331 column 1 (char 1815)\n"
          ]
        },
        {
          "output_type": "stream",
          "name": "stderr",
          "text": [
            "Обработка батчей:  33%|███▎      | 31/93 [3:34:56<7:18:35, 424.44s/it]"
          ]
        },
        {
          "output_type": "stream",
          "name": "stdout",
          "text": [
            "  Версия 5, попытка 2/3...\n"
          ]
        },
        {
          "output_type": "stream",
          "name": "stderr",
          "text": [
            "Обработка батчей:  33%|███▎      | 31/93 [3:35:50<7:18:35, 424.44s/it]"
          ]
        },
        {
          "output_type": "stream",
          "name": "stdout",
          "text": [
            "    ❌ Ошибка API или парсинга: Expecting value: line 257 column 1 (char 1408)\n"
          ]
        },
        {
          "output_type": "stream",
          "name": "stderr",
          "text": [
            "Обработка батчей:  33%|███▎      | 31/93 [3:35:56<7:18:35, 424.44s/it]"
          ]
        },
        {
          "output_type": "stream",
          "name": "stdout",
          "text": [
            "  Версия 5, попытка 3/3...\n"
          ]
        },
        {
          "output_type": "stream",
          "name": "stderr",
          "text": [
            "Обработка батчей:  34%|███▍      | 32/93 [3:36:46<7:12:26, 425.36s/it]"
          ]
        },
        {
          "output_type": "stream",
          "name": "stdout",
          "text": [
            "  Получено 5/5 успешных версий для батча.\n",
            "💾 Прогресс сохранен. Батч 32 усреднен и записан в файл.\n",
            "\n",
            "--- Обработка батча 33/93 (индексы 1600-1649) ---\n",
            "  Версия 1, попытка 1/3...\n"
          ]
        },
        {
          "output_type": "stream",
          "name": "stderr",
          "text": [
            "Обработка батчей:  34%|███▍      | 32/93 [3:37:44<7:12:26, 425.36s/it]"
          ]
        },
        {
          "output_type": "stream",
          "name": "stdout",
          "text": [
            "  Версия 2, попытка 1/3...\n"
          ]
        },
        {
          "output_type": "stream",
          "name": "stderr",
          "text": [
            "Обработка батчей:  34%|███▍      | 32/93 [3:38:34<7:12:26, 425.36s/it]"
          ]
        },
        {
          "output_type": "stream",
          "name": "stdout",
          "text": [
            "  Версия 3, попытка 1/3...\n"
          ]
        },
        {
          "output_type": "stream",
          "name": "stderr",
          "text": [
            "Обработка батчей:  34%|███▍      | 32/93 [3:39:43<7:12:26, 425.36s/it]"
          ]
        },
        {
          "output_type": "stream",
          "name": "stdout",
          "text": [
            "  Версия 4, попытка 1/3...\n"
          ]
        },
        {
          "output_type": "stream",
          "name": "stderr",
          "text": [
            "Обработка батчей:  34%|███▍      | 32/93 [3:40:31<7:12:26, 425.36s/it]"
          ]
        },
        {
          "output_type": "stream",
          "name": "stdout",
          "text": [
            "  Версия 5, попытка 1/3...\n"
          ]
        },
        {
          "output_type": "stream",
          "name": "stderr",
          "text": [
            "Обработка батчей:  35%|███▌      | 33/93 [3:41:20<6:20:01, 380.03s/it]"
          ]
        },
        {
          "output_type": "stream",
          "name": "stdout",
          "text": [
            "  Получено 5/5 успешных версий для батча.\n",
            "💾 Прогресс сохранен. Батч 33 усреднен и записан в файл.\n",
            "\n",
            "--- Обработка батча 34/93 (индексы 1650-1699) ---\n",
            "  Версия 1, попытка 1/3...\n"
          ]
        },
        {
          "output_type": "stream",
          "name": "stderr",
          "text": [
            "Обработка батчей:  35%|███▌      | 33/93 [3:42:21<6:20:01, 380.03s/it]"
          ]
        },
        {
          "output_type": "stream",
          "name": "stdout",
          "text": [
            "  Версия 2, попытка 1/3...\n"
          ]
        },
        {
          "output_type": "stream",
          "name": "stderr",
          "text": [
            "Обработка батчей:  35%|███▌      | 33/93 [3:43:55<6:20:01, 380.03s/it]"
          ]
        },
        {
          "output_type": "stream",
          "name": "stdout",
          "text": [
            "  Версия 3, попытка 1/3...\n"
          ]
        },
        {
          "output_type": "stream",
          "name": "stderr",
          "text": [
            "Обработка батчей:  35%|███▌      | 33/93 [3:47:19<6:20:01, 380.03s/it]"
          ]
        },
        {
          "output_type": "stream",
          "name": "stdout",
          "text": [
            "  Версия 4, попытка 1/3...\n"
          ]
        },
        {
          "output_type": "stream",
          "name": "stderr",
          "text": [
            "Обработка батчей:  35%|███▌      | 33/93 [3:48:39<6:20:01, 380.03s/it]"
          ]
        },
        {
          "output_type": "stream",
          "name": "stdout",
          "text": [
            "  Версия 5, попытка 1/3...\n"
          ]
        },
        {
          "output_type": "stream",
          "name": "stderr",
          "text": [
            "Обработка батчей:  37%|███▋      | 34/93 [3:49:16<6:42:01, 408.84s/it]"
          ]
        },
        {
          "output_type": "stream",
          "name": "stdout",
          "text": [
            "  Получено 5/5 успешных версий для батча.\n",
            "💾 Прогресс сохранен. Батч 34 усреднен и записан в файл.\n",
            "\n",
            "--- Обработка батча 35/93 (индексы 1700-1749) ---\n",
            "  Версия 1, попытка 1/3...\n"
          ]
        },
        {
          "output_type": "stream",
          "name": "stderr",
          "text": [
            "Обработка батчей:  37%|███▋      | 34/93 [3:50:07<6:42:01, 408.84s/it]"
          ]
        },
        {
          "output_type": "stream",
          "name": "stdout",
          "text": [
            "  Версия 2, попытка 1/3...\n"
          ]
        },
        {
          "output_type": "stream",
          "name": "stderr",
          "text": [
            "Обработка батчей:  37%|███▋      | 34/93 [3:51:19<6:42:01, 408.84s/it]"
          ]
        },
        {
          "output_type": "stream",
          "name": "stdout",
          "text": [
            "  Версия 3, попытка 1/3...\n"
          ]
        },
        {
          "output_type": "stream",
          "name": "stderr",
          "text": [
            "Обработка батчей:  37%|███▋      | 34/93 [3:52:28<6:42:01, 408.84s/it]"
          ]
        },
        {
          "output_type": "stream",
          "name": "stdout",
          "text": [
            "  Версия 4, попытка 1/3...\n"
          ]
        },
        {
          "output_type": "stream",
          "name": "stderr",
          "text": [
            "Обработка батчей:  37%|███▋      | 34/93 [3:53:42<6:42:01, 408.84s/it]"
          ]
        },
        {
          "output_type": "stream",
          "name": "stdout",
          "text": [
            "  Версия 5, попытка 1/3...\n"
          ]
        },
        {
          "output_type": "stream",
          "name": "stderr",
          "text": [
            "Обработка батчей:  38%|███▊      | 35/93 [3:55:03<6:17:07, 390.13s/it]"
          ]
        },
        {
          "output_type": "stream",
          "name": "stdout",
          "text": [
            "  Получено 5/5 успешных версий для батча.\n",
            "💾 Прогресс сохранен. Батч 35 усреднен и записан в файл.\n",
            "\n",
            "--- Обработка батча 36/93 (индексы 1750-1799) ---\n",
            "  Версия 1, попытка 1/3...\n"
          ]
        },
        {
          "output_type": "stream",
          "name": "stderr",
          "text": [
            "Обработка батчей:  38%|███▊      | 35/93 [3:57:25<6:17:07, 390.13s/it]"
          ]
        },
        {
          "output_type": "stream",
          "name": "stdout",
          "text": [
            "  Версия 2, попытка 1/3...\n"
          ]
        },
        {
          "output_type": "stream",
          "name": "stderr",
          "text": [
            "Обработка батчей:  38%|███▊      | 35/93 [3:59:39<6:17:07, 390.13s/it]"
          ]
        },
        {
          "output_type": "stream",
          "name": "stdout",
          "text": [
            "  Версия 3, попытка 1/3...\n"
          ]
        },
        {
          "output_type": "stream",
          "name": "stderr",
          "text": [
            "Обработка батчей:  38%|███▊      | 35/93 [4:01:30<6:17:07, 390.13s/it]"
          ]
        },
        {
          "output_type": "stream",
          "name": "stdout",
          "text": [
            "  Версия 4, попытка 1/3...\n"
          ]
        },
        {
          "output_type": "stream",
          "name": "stderr",
          "text": [
            "Обработка батчей:  38%|███▊      | 35/93 [4:02:52<6:17:07, 390.13s/it]"
          ]
        },
        {
          "output_type": "stream",
          "name": "stdout",
          "text": [
            "  Версия 5, попытка 1/3...\n"
          ]
        },
        {
          "output_type": "stream",
          "name": "stderr",
          "text": [
            "Обработка батчей:  39%|███▊      | 36/93 [4:03:52<6:50:15, 431.85s/it]"
          ]
        },
        {
          "output_type": "stream",
          "name": "stdout",
          "text": [
            "  Получено 5/5 успешных версий для батча.\n",
            "💾 Прогресс сохранен. Батч 36 усреднен и записан в файл.\n",
            "\n",
            "--- Обработка батча 37/93 (индексы 1800-1849) ---\n",
            "  Версия 1, попытка 1/3...\n"
          ]
        },
        {
          "output_type": "stream",
          "name": "stderr",
          "text": [
            "Обработка батчей:  39%|███▊      | 36/93 [4:05:51<6:50:15, 431.85s/it]"
          ]
        },
        {
          "output_type": "stream",
          "name": "stdout",
          "text": [
            "  Версия 2, попытка 1/3...\n"
          ]
        },
        {
          "output_type": "stream",
          "name": "stderr",
          "text": [
            "Обработка батчей:  39%|███▊      | 36/93 [4:07:10<6:50:15, 431.85s/it]"
          ]
        },
        {
          "output_type": "stream",
          "name": "stdout",
          "text": [
            "  Версия 3, попытка 1/3...\n"
          ]
        },
        {
          "output_type": "stream",
          "name": "stderr",
          "text": [
            "Обработка батчей:  39%|███▊      | 36/93 [4:09:07<6:50:15, 431.85s/it]"
          ]
        },
        {
          "output_type": "stream",
          "name": "stdout",
          "text": [
            "  Версия 4, попытка 1/3...\n"
          ]
        },
        {
          "output_type": "stream",
          "name": "stderr",
          "text": [
            "Обработка батчей:  39%|███▊      | 36/93 [4:10:42<6:50:15, 431.85s/it]"
          ]
        },
        {
          "output_type": "stream",
          "name": "stdout",
          "text": [
            "  Версия 5, попытка 1/3...\n"
          ]
        },
        {
          "output_type": "stream",
          "name": "stderr",
          "text": [
            "Обработка батчей:  40%|███▉      | 37/93 [4:11:53<6:56:48, 446.58s/it]"
          ]
        },
        {
          "output_type": "stream",
          "name": "stdout",
          "text": [
            "  Получено 5/5 успешных версий для батча.\n",
            "💾 Прогресс сохранен. Батч 37 усреднен и записан в файл.\n",
            "\n",
            "--- Обработка батча 38/93 (индексы 1850-1899) ---\n",
            "  Версия 1, попытка 1/3...\n"
          ]
        },
        {
          "output_type": "stream",
          "name": "stderr",
          "text": [
            "Обработка батчей:  40%|███▉      | 37/93 [4:14:33<6:56:48, 446.58s/it]"
          ]
        },
        {
          "output_type": "stream",
          "name": "stdout",
          "text": [
            "  Версия 2, попытка 1/3...\n"
          ]
        },
        {
          "output_type": "stream",
          "name": "stderr",
          "text": [
            "Обработка батчей:  40%|███▉      | 37/93 [4:15:49<6:56:48, 446.58s/it]"
          ]
        },
        {
          "output_type": "stream",
          "name": "stdout",
          "text": [
            "  Версия 3, попытка 1/3...\n"
          ]
        },
        {
          "output_type": "stream",
          "name": "stderr",
          "text": [
            "Обработка батчей:  40%|███▉      | 37/93 [4:17:23<6:56:48, 446.58s/it]"
          ]
        },
        {
          "output_type": "stream",
          "name": "stdout",
          "text": [
            "  Версия 4, попытка 1/3...\n"
          ]
        },
        {
          "output_type": "stream",
          "name": "stderr",
          "text": [
            "Обработка батчей:  40%|███▉      | 37/93 [4:19:12<6:56:48, 446.58s/it]"
          ]
        },
        {
          "output_type": "stream",
          "name": "stdout",
          "text": [
            "  Версия 5, попытка 1/3...\n"
          ]
        },
        {
          "output_type": "stream",
          "name": "stderr",
          "text": [
            "Обработка батчей:  41%|████      | 38/93 [4:20:33<7:09:39, 468.72s/it]"
          ]
        },
        {
          "output_type": "stream",
          "name": "stdout",
          "text": [
            "  Получено 5/5 успешных версий для батча.\n",
            "💾 Прогресс сохранен. Батч 38 усреднен и записан в файл.\n",
            "\n",
            "--- Обработка батча 39/93 (индексы 1900-1949) ---\n",
            "  Версия 1, попытка 1/3...\n"
          ]
        },
        {
          "output_type": "stream",
          "name": "stderr",
          "text": [
            "Обработка батчей:  41%|████      | 38/93 [4:22:51<7:09:39, 468.72s/it]"
          ]
        },
        {
          "output_type": "stream",
          "name": "stdout",
          "text": [
            "  Версия 2, попытка 1/3...\n"
          ]
        },
        {
          "output_type": "stream",
          "name": "stderr",
          "text": [
            "Обработка батчей:  41%|████      | 38/93 [4:24:23<7:09:39, 468.72s/it]"
          ]
        },
        {
          "output_type": "stream",
          "name": "stdout",
          "text": [
            "  Версия 3, попытка 1/3...\n"
          ]
        },
        {
          "output_type": "stream",
          "name": "stderr",
          "text": [
            "Обработка батчей:  41%|████      | 38/93 [4:25:44<7:09:39, 468.72s/it]"
          ]
        },
        {
          "output_type": "stream",
          "name": "stdout",
          "text": [
            "  Версия 4, попытка 1/3...\n"
          ]
        },
        {
          "output_type": "stream",
          "name": "stderr",
          "text": [
            "Обработка батчей:  41%|████      | 38/93 [4:27:10<7:09:39, 468.72s/it]"
          ]
        },
        {
          "output_type": "stream",
          "name": "stdout",
          "text": [
            "  Версия 5, попытка 1/3...\n"
          ]
        },
        {
          "output_type": "stream",
          "name": "stderr",
          "text": [
            "Обработка батчей:  42%|████▏     | 39/93 [4:28:57<7:11:13, 479.14s/it]"
          ]
        },
        {
          "output_type": "stream",
          "name": "stdout",
          "text": [
            "  Получено 5/5 успешных версий для батча.\n",
            "💾 Прогресс сохранен. Батч 39 усреднен и записан в файл.\n",
            "\n",
            "--- Обработка батча 40/93 (индексы 1950-1999) ---\n",
            "  Версия 1, попытка 1/3...\n"
          ]
        },
        {
          "output_type": "stream",
          "name": "stderr",
          "text": [
            "Обработка батчей:  42%|████▏     | 39/93 [4:30:49<7:11:13, 479.14s/it]"
          ]
        },
        {
          "output_type": "stream",
          "name": "stdout",
          "text": [
            "  Версия 2, попытка 1/3...\n"
          ]
        },
        {
          "output_type": "stream",
          "name": "stderr",
          "text": [
            "Обработка батчей:  42%|████▏     | 39/93 [4:31:42<7:11:13, 479.14s/it]"
          ]
        },
        {
          "output_type": "stream",
          "name": "stdout",
          "text": [
            "  Версия 3, попытка 1/3...\n"
          ]
        },
        {
          "output_type": "stream",
          "name": "stderr",
          "text": [
            "Обработка батчей:  42%|████▏     | 39/93 [4:32:47<7:11:13, 479.14s/it]"
          ]
        },
        {
          "output_type": "stream",
          "name": "stdout",
          "text": [
            "  Версия 4, попытка 1/3...\n"
          ]
        },
        {
          "output_type": "stream",
          "name": "stderr",
          "text": [
            "Обработка батчей:  42%|████▏     | 39/93 [4:33:50<7:11:13, 479.14s/it]"
          ]
        },
        {
          "output_type": "stream",
          "name": "stdout",
          "text": [
            "  Версия 5, попытка 1/3...\n"
          ]
        },
        {
          "output_type": "stream",
          "name": "stderr",
          "text": [
            "Обработка батчей:  43%|████▎     | 40/93 [4:36:07<6:50:14, 464.43s/it]"
          ]
        },
        {
          "output_type": "stream",
          "name": "stdout",
          "text": [
            "  Получено 5/5 успешных версий для батча.\n",
            "💾 Прогресс сохранен. Батч 40 усреднен и записан в файл.\n",
            "\n",
            "--- Обработка батча 41/93 (индексы 2000-2049) ---\n",
            "  Версия 1, попытка 1/3...\n"
          ]
        },
        {
          "output_type": "stream",
          "name": "stderr",
          "text": [
            "Обработка батчей:  43%|████▎     | 40/93 [4:37:13<6:50:14, 464.43s/it]"
          ]
        },
        {
          "output_type": "stream",
          "name": "stdout",
          "text": [
            "  Версия 2, попытка 1/3...\n"
          ]
        },
        {
          "output_type": "stream",
          "name": "stderr",
          "text": [
            "Обработка батчей:  43%|████▎     | 40/93 [4:38:12<6:50:14, 464.43s/it]"
          ]
        },
        {
          "output_type": "stream",
          "name": "stdout",
          "text": [
            "    ❌ Ошибка API или парсинга: Expecting value: line 275 column 1 (char 1507)\n"
          ]
        },
        {
          "output_type": "stream",
          "name": "stderr",
          "text": [
            "Обработка батчей:  43%|████▎     | 40/93 [4:38:15<6:50:14, 464.43s/it]"
          ]
        },
        {
          "output_type": "stream",
          "name": "stdout",
          "text": [
            "  Версия 2, попытка 2/3...\n"
          ]
        },
        {
          "output_type": "stream",
          "name": "stderr",
          "text": [
            "Обработка батчей:  43%|████▎     | 40/93 [4:39:49<6:50:14, 464.43s/it]"
          ]
        },
        {
          "output_type": "stream",
          "name": "stdout",
          "text": [
            "    ❌ Ошибка API или парсинга: Expecting value: line 449 column 1 (char 2464)\n"
          ]
        },
        {
          "output_type": "stream",
          "name": "stderr",
          "text": [
            "Обработка батчей:  43%|████▎     | 40/93 [4:39:55<6:50:14, 464.43s/it]"
          ]
        },
        {
          "output_type": "stream",
          "name": "stdout",
          "text": [
            "  Версия 2, попытка 3/3...\n"
          ]
        },
        {
          "output_type": "stream",
          "name": "stderr",
          "text": [
            "Обработка батчей:  43%|████▎     | 40/93 [4:41:25<6:50:14, 464.43s/it]"
          ]
        },
        {
          "output_type": "stream",
          "name": "stdout",
          "text": [
            "  Версия 3, попытка 1/3...\n"
          ]
        },
        {
          "output_type": "stream",
          "name": "stderr",
          "text": [
            "Обработка батчей:  43%|████▎     | 40/93 [4:42:32<6:50:14, 464.43s/it]"
          ]
        },
        {
          "output_type": "stream",
          "name": "stdout",
          "text": [
            "  Версия 4, попытка 1/3...\n"
          ]
        },
        {
          "output_type": "stream",
          "name": "stderr",
          "text": [
            "Обработка батчей:  43%|████▎     | 40/93 [4:44:31<6:50:14, 464.43s/it]"
          ]
        },
        {
          "output_type": "stream",
          "name": "stdout",
          "text": [
            "  Версия 5, попытка 1/3...\n"
          ]
        },
        {
          "output_type": "stream",
          "name": "stderr",
          "text": [
            "Обработка батчей:  44%|████▍     | 41/93 [4:46:03<7:16:50, 504.05s/it]"
          ]
        },
        {
          "output_type": "stream",
          "name": "stdout",
          "text": [
            "  Получено 5/5 успешных версий для батча.\n",
            "💾 Прогресс сохранен. Батч 41 усреднен и записан в файл.\n",
            "\n",
            "--- Обработка батча 42/93 (индексы 2050-2099) ---\n",
            "  Версия 1, попытка 1/3...\n"
          ]
        },
        {
          "output_type": "stream",
          "name": "stderr",
          "text": [
            "Обработка батчей:  44%|████▍     | 41/93 [4:47:52<7:16:50, 504.05s/it]"
          ]
        },
        {
          "output_type": "stream",
          "name": "stdout",
          "text": [
            "  Версия 2, попытка 1/3...\n"
          ]
        },
        {
          "output_type": "stream",
          "name": "stderr",
          "text": [
            "Обработка батчей:  44%|████▍     | 41/93 [4:48:56<7:16:50, 504.05s/it]"
          ]
        },
        {
          "output_type": "stream",
          "name": "stdout",
          "text": [
            "  Версия 3, попытка 1/3...\n"
          ]
        },
        {
          "output_type": "stream",
          "name": "stderr",
          "text": [
            "Обработка батчей:  44%|████▍     | 41/93 [4:50:46<7:16:50, 504.05s/it]"
          ]
        },
        {
          "output_type": "stream",
          "name": "stdout",
          "text": [
            "  Версия 4, попытка 1/3...\n"
          ]
        },
        {
          "output_type": "stream",
          "name": "stderr",
          "text": [
            "Обработка батчей:  44%|████▍     | 41/93 [4:51:55<7:16:50, 504.05s/it]"
          ]
        },
        {
          "output_type": "stream",
          "name": "stdout",
          "text": [
            "  Версия 5, попытка 1/3...\n"
          ]
        },
        {
          "output_type": "stream",
          "name": "stderr",
          "text": [
            "Обработка батчей:  45%|████▌     | 42/93 [4:52:40<6:41:06, 471.90s/it]"
          ]
        },
        {
          "output_type": "stream",
          "name": "stdout",
          "text": [
            "  Получено 5/5 успешных версий для батча.\n",
            "💾 Прогресс сохранен. Батч 42 усреднен и записан в файл.\n",
            "\n",
            "--- Обработка батча 43/93 (индексы 2100-2149) ---\n",
            "  Версия 1, попытка 1/3...\n"
          ]
        },
        {
          "output_type": "stream",
          "name": "stderr",
          "text": [
            "Обработка батчей:  45%|████▌     | 42/93 [4:53:41<6:41:06, 471.90s/it]"
          ]
        },
        {
          "output_type": "stream",
          "name": "stdout",
          "text": [
            "  Версия 2, попытка 1/3...\n"
          ]
        },
        {
          "output_type": "stream",
          "name": "stderr",
          "text": [
            "Обработка батчей:  45%|████▌     | 42/93 [4:54:20<6:41:06, 471.90s/it]"
          ]
        },
        {
          "output_type": "stream",
          "name": "stdout",
          "text": [
            "  Версия 3, попытка 1/3...\n"
          ]
        },
        {
          "output_type": "stream",
          "name": "stderr",
          "text": [
            "Обработка батчей:  45%|████▌     | 42/93 [4:55:24<6:41:06, 471.90s/it]"
          ]
        },
        {
          "output_type": "stream",
          "name": "stdout",
          "text": [
            "  Версия 4, попытка 1/3...\n"
          ]
        },
        {
          "output_type": "stream",
          "name": "stderr",
          "text": [
            "Обработка батчей:  45%|████▌     | 42/93 [4:56:30<6:41:06, 471.90s/it]"
          ]
        },
        {
          "output_type": "stream",
          "name": "stdout",
          "text": [
            "  Версия 5, попытка 1/3...\n"
          ]
        },
        {
          "output_type": "stream",
          "name": "stderr",
          "text": [
            "Обработка батчей:  46%|████▌     | 43/93 [4:59:13<6:13:29, 448.18s/it]"
          ]
        },
        {
          "output_type": "stream",
          "name": "stdout",
          "text": [
            "  Получено 5/5 успешных версий для батча.\n",
            "💾 Прогресс сохранен. Батч 43 усреднен и записан в файл.\n",
            "\n",
            "--- Обработка батча 44/93 (индексы 2150-2199) ---\n",
            "  Версия 1, попытка 1/3...\n"
          ]
        },
        {
          "output_type": "stream",
          "name": "stderr",
          "text": [
            "Обработка батчей:  46%|████▌     | 43/93 [4:59:50<6:13:29, 448.18s/it]"
          ]
        },
        {
          "output_type": "stream",
          "name": "stdout",
          "text": [
            "  Версия 2, попытка 1/3...\n"
          ]
        },
        {
          "output_type": "stream",
          "name": "stderr",
          "text": [
            "Обработка батчей:  46%|████▌     | 43/93 [5:01:13<6:13:29, 448.18s/it]"
          ]
        },
        {
          "output_type": "stream",
          "name": "stdout",
          "text": [
            "  Версия 3, попытка 1/3...\n"
          ]
        },
        {
          "output_type": "stream",
          "name": "stderr",
          "text": [
            "Обработка батчей:  46%|████▌     | 43/93 [5:02:40<6:13:29, 448.18s/it]"
          ]
        },
        {
          "output_type": "stream",
          "name": "stdout",
          "text": [
            "  Версия 4, попытка 1/3...\n"
          ]
        },
        {
          "output_type": "stream",
          "name": "stderr",
          "text": [
            "Обработка батчей:  46%|████▌     | 43/93 [5:03:14<6:13:29, 448.18s/it]"
          ]
        },
        {
          "output_type": "stream",
          "name": "stdout",
          "text": [
            "  Версия 5, попытка 1/3...\n"
          ]
        },
        {
          "output_type": "stream",
          "name": "stderr",
          "text": [
            "Обработка батчей:  47%|████▋     | 44/93 [5:03:46<5:23:00, 395.53s/it]"
          ]
        },
        {
          "output_type": "stream",
          "name": "stdout",
          "text": [
            "  Получено 5/5 успешных версий для батча.\n",
            "💾 Прогресс сохранен. Батч 44 усреднен и записан в файл.\n",
            "\n",
            "--- Обработка батча 45/93 (индексы 2200-2249) ---\n",
            "  Версия 1, попытка 1/3...\n"
          ]
        },
        {
          "output_type": "stream",
          "name": "stderr",
          "text": [
            "Обработка батчей:  47%|████▋     | 44/93 [5:04:53<5:23:00, 395.53s/it]"
          ]
        },
        {
          "output_type": "stream",
          "name": "stdout",
          "text": [
            "  Версия 2, попытка 1/3...\n"
          ]
        },
        {
          "output_type": "stream",
          "name": "stderr",
          "text": [
            "Обработка батчей:  47%|████▋     | 44/93 [5:05:36<5:23:00, 395.53s/it]"
          ]
        },
        {
          "output_type": "stream",
          "name": "stdout",
          "text": [
            "  Версия 3, попытка 1/3...\n"
          ]
        },
        {
          "output_type": "stream",
          "name": "stderr",
          "text": [
            "Обработка батчей:  47%|████▋     | 44/93 [5:06:14<5:23:00, 395.53s/it]"
          ]
        },
        {
          "output_type": "stream",
          "name": "stdout",
          "text": [
            "  Версия 4, попытка 1/3...\n"
          ]
        },
        {
          "output_type": "stream",
          "name": "stderr",
          "text": [
            "Обработка батчей:  47%|████▋     | 44/93 [5:06:51<5:23:00, 395.53s/it]"
          ]
        },
        {
          "output_type": "stream",
          "name": "stdout",
          "text": [
            "  Версия 5, попытка 1/3...\n"
          ]
        },
        {
          "output_type": "stream",
          "name": "stderr",
          "text": [
            "Обработка батчей:  48%|████▊     | 45/93 [5:07:35<4:36:28, 345.59s/it]"
          ]
        },
        {
          "output_type": "stream",
          "name": "stdout",
          "text": [
            "  Получено 5/5 успешных версий для батча.\n",
            "💾 Прогресс сохранен. Батч 45 усреднен и записан в файл.\n",
            "\n",
            "--- Обработка батча 46/93 (индексы 2250-2299) ---\n",
            "  Версия 1, попытка 1/3...\n"
          ]
        },
        {
          "output_type": "stream",
          "name": "stderr",
          "text": [
            "Обработка батчей:  48%|████▊     | 45/93 [5:09:08<4:36:28, 345.59s/it]"
          ]
        },
        {
          "output_type": "stream",
          "name": "stdout",
          "text": [
            "  Версия 2, попытка 1/3...\n"
          ]
        },
        {
          "output_type": "stream",
          "name": "stderr",
          "text": [
            "Обработка батчей:  48%|████▊     | 45/93 [5:09:37<4:36:28, 345.59s/it]"
          ]
        },
        {
          "output_type": "stream",
          "name": "stdout",
          "text": [
            "  Версия 3, попытка 1/3...\n"
          ]
        },
        {
          "output_type": "stream",
          "name": "stderr",
          "text": [
            "Обработка батчей:  48%|████▊     | 45/93 [5:10:06<4:36:28, 345.59s/it]"
          ]
        },
        {
          "output_type": "stream",
          "name": "stdout",
          "text": [
            "  Версия 4, попытка 1/3...\n"
          ]
        },
        {
          "output_type": "stream",
          "name": "stderr",
          "text": [
            "Обработка батчей:  48%|████▊     | 45/93 [5:10:40<4:36:28, 345.59s/it]"
          ]
        },
        {
          "output_type": "stream",
          "name": "stdout",
          "text": [
            "  Версия 5, попытка 1/3...\n"
          ]
        },
        {
          "output_type": "stream",
          "name": "stderr",
          "text": [
            "Обработка батчей:  49%|████▉     | 46/93 [5:11:40<4:07:04, 315.41s/it]"
          ]
        },
        {
          "output_type": "stream",
          "name": "stdout",
          "text": [
            "  Получено 5/5 успешных версий для батча.\n",
            "💾 Прогресс сохранен. Батч 46 усреднен и записан в файл.\n",
            "\n",
            "--- Обработка батча 47/93 (индексы 2300-2349) ---\n",
            "  Версия 1, попытка 1/3...\n"
          ]
        },
        {
          "output_type": "stream",
          "name": "stderr",
          "text": [
            "Обработка батчей:  49%|████▉     | 46/93 [5:12:50<4:07:04, 315.41s/it]"
          ]
        },
        {
          "output_type": "stream",
          "name": "stdout",
          "text": [
            "  Версия 2, попытка 1/3...\n"
          ]
        },
        {
          "output_type": "stream",
          "name": "stderr",
          "text": [
            "Обработка батчей:  49%|████▉     | 46/93 [5:14:27<4:07:04, 315.41s/it]"
          ]
        },
        {
          "output_type": "stream",
          "name": "stdout",
          "text": [
            "  Версия 3, попытка 1/3...\n"
          ]
        },
        {
          "output_type": "stream",
          "name": "stderr",
          "text": [
            "Обработка батчей:  49%|████▉     | 46/93 [5:16:18<4:07:04, 315.41s/it]"
          ]
        },
        {
          "output_type": "stream",
          "name": "stdout",
          "text": [
            "  Версия 4, попытка 1/3...\n"
          ]
        },
        {
          "output_type": "stream",
          "name": "stderr",
          "text": [
            "Обработка батчей:  49%|████▉     | 46/93 [5:17:25<4:07:04, 315.41s/it]"
          ]
        },
        {
          "output_type": "stream",
          "name": "stdout",
          "text": [
            "  Версия 5, попытка 1/3...\n"
          ]
        },
        {
          "output_type": "stream",
          "name": "stderr",
          "text": [
            "Обработка батчей:  51%|█████     | 47/93 [5:18:38<4:25:32, 346.35s/it]"
          ]
        },
        {
          "output_type": "stream",
          "name": "stdout",
          "text": [
            "  Получено 5/5 успешных версий для батча.\n",
            "💾 Прогресс сохранен. Батч 47 усреднен и записан в файл.\n",
            "\n",
            "--- Обработка батча 48/93 (индексы 2350-2399) ---\n",
            "  Версия 1, попытка 1/3...\n"
          ]
        },
        {
          "output_type": "stream",
          "name": "stderr",
          "text": [
            "Обработка батчей:  51%|█████     | 47/93 [5:19:44<4:25:32, 346.35s/it]"
          ]
        },
        {
          "output_type": "stream",
          "name": "stdout",
          "text": [
            "  Версия 2, попытка 1/3...\n"
          ]
        },
        {
          "output_type": "stream",
          "name": "stderr",
          "text": [
            "Обработка батчей:  51%|█████     | 47/93 [5:20:54<4:25:32, 346.35s/it]"
          ]
        },
        {
          "output_type": "stream",
          "name": "stdout",
          "text": [
            "  Версия 3, попытка 1/3...\n"
          ]
        },
        {
          "output_type": "stream",
          "name": "stderr",
          "text": [
            "Обработка батчей:  51%|█████     | 47/93 [5:22:23<4:25:32, 346.35s/it]"
          ]
        },
        {
          "output_type": "stream",
          "name": "stdout",
          "text": [
            "  Версия 4, попытка 1/3...\n"
          ]
        },
        {
          "output_type": "stream",
          "name": "stderr",
          "text": [
            "Обработка батчей:  51%|█████     | 47/93 [5:23:47<4:25:32, 346.35s/it]"
          ]
        },
        {
          "output_type": "stream",
          "name": "stdout",
          "text": [
            "  Версия 5, попытка 1/3...\n"
          ]
        },
        {
          "output_type": "stream",
          "name": "stderr",
          "text": [
            "Обработка батчей:  52%|█████▏    | 48/93 [5:24:57<4:26:57, 355.93s/it]"
          ]
        },
        {
          "output_type": "stream",
          "name": "stdout",
          "text": [
            "  Получено 5/5 успешных версий для батча.\n",
            "💾 Прогресс сохранен. Батч 48 усреднен и записан в файл.\n",
            "\n",
            "--- Обработка батча 49/93 (индексы 2400-2449) ---\n",
            "  Версия 1, попытка 1/3...\n"
          ]
        },
        {
          "output_type": "stream",
          "name": "stderr",
          "text": [
            "Обработка батчей:  52%|█████▏    | 48/93 [5:26:02<4:26:57, 355.93s/it]"
          ]
        },
        {
          "output_type": "stream",
          "name": "stdout",
          "text": [
            "  Версия 2, попытка 1/3...\n"
          ]
        },
        {
          "output_type": "stream",
          "name": "stderr",
          "text": [
            "Обработка батчей:  52%|█████▏    | 48/93 [5:27:54<4:26:57, 355.93s/it]"
          ]
        },
        {
          "output_type": "stream",
          "name": "stdout",
          "text": [
            "  Версия 3, попытка 1/3...\n"
          ]
        },
        {
          "output_type": "stream",
          "name": "stderr",
          "text": [
            "Обработка батчей:  52%|█████▏    | 48/93 [5:30:16<4:26:57, 355.93s/it]"
          ]
        },
        {
          "output_type": "stream",
          "name": "stdout",
          "text": [
            "  Версия 4, попытка 1/3...\n"
          ]
        },
        {
          "output_type": "stream",
          "name": "stderr",
          "text": [
            "Обработка батчей:  52%|█████▏    | 48/93 [5:32:24<4:26:57, 355.93s/it]"
          ]
        },
        {
          "output_type": "stream",
          "name": "stdout",
          "text": [
            "  Версия 5, попытка 1/3...\n"
          ]
        },
        {
          "output_type": "stream",
          "name": "stderr",
          "text": [
            "Обработка батчей:  53%|█████▎    | 49/93 [5:34:40<5:10:57, 424.03s/it]"
          ]
        },
        {
          "output_type": "stream",
          "name": "stdout",
          "text": [
            "  Получено 5/5 успешных версий для батча.\n",
            "💾 Прогресс сохранен. Батч 49 усреднен и записан в файл.\n",
            "\n",
            "--- Обработка батча 50/93 (индексы 2450-2499) ---\n",
            "  Версия 1, попытка 1/3...\n"
          ]
        },
        {
          "output_type": "stream",
          "name": "stderr",
          "text": [
            "Обработка батчей:  53%|█████▎    | 49/93 [5:36:54<5:10:57, 424.03s/it]"
          ]
        },
        {
          "output_type": "stream",
          "name": "stdout",
          "text": [
            "  Версия 2, попытка 1/3...\n"
          ]
        },
        {
          "output_type": "stream",
          "name": "stderr",
          "text": [
            "Обработка батчей:  53%|█████▎    | 49/93 [5:38:41<5:10:57, 424.03s/it]"
          ]
        },
        {
          "output_type": "stream",
          "name": "stdout",
          "text": [
            "  Версия 3, попытка 1/3...\n"
          ]
        },
        {
          "output_type": "stream",
          "name": "stderr",
          "text": [
            "Обработка батчей:  53%|█████▎    | 49/93 [5:40:25<5:10:57, 424.03s/it]"
          ]
        },
        {
          "output_type": "stream",
          "name": "stdout",
          "text": [
            "  Версия 4, попытка 1/3...\n"
          ]
        },
        {
          "output_type": "stream",
          "name": "stderr",
          "text": [
            "Обработка батчей:  53%|█████▎    | 49/93 [5:41:31<5:10:57, 424.03s/it]"
          ]
        },
        {
          "output_type": "stream",
          "name": "stdout",
          "text": [
            "  Версия 5, попытка 1/3...\n"
          ]
        },
        {
          "output_type": "stream",
          "name": "stderr",
          "text": [
            "Обработка батчей:  54%|█████▍    | 50/93 [5:42:24<5:12:27, 435.99s/it]"
          ]
        },
        {
          "output_type": "stream",
          "name": "stdout",
          "text": [
            "  Получено 5/5 успешных версий для батча.\n",
            "💾 Прогресс сохранен. Батч 50 усреднен и записан в файл.\n",
            "\n",
            "--- Обработка батча 51/93 (индексы 2500-2549) ---\n",
            "  Версия 1, попытка 1/3...\n"
          ]
        },
        {
          "output_type": "stream",
          "name": "stderr",
          "text": [
            "Обработка батчей:  54%|█████▍    | 50/93 [5:44:18<5:12:27, 435.99s/it]"
          ]
        },
        {
          "output_type": "stream",
          "name": "stdout",
          "text": [
            "  Версия 2, попытка 1/3...\n"
          ]
        },
        {
          "output_type": "stream",
          "name": "stderr",
          "text": [
            "Обработка батчей:  54%|█████▍    | 50/93 [5:45:28<5:12:27, 435.99s/it]"
          ]
        },
        {
          "output_type": "stream",
          "name": "stdout",
          "text": [
            "  Версия 3, попытка 1/3...\n"
          ]
        },
        {
          "output_type": "stream",
          "name": "stderr",
          "text": [
            "Обработка батчей:  54%|█████▍    | 50/93 [5:47:07<5:12:27, 435.99s/it]"
          ]
        },
        {
          "output_type": "stream",
          "name": "stdout",
          "text": [
            "  Версия 4, попытка 1/3...\n"
          ]
        },
        {
          "output_type": "stream",
          "name": "stderr",
          "text": [
            "Обработка батчей:  54%|█████▍    | 50/93 [5:48:42<5:12:27, 435.99s/it]"
          ]
        },
        {
          "output_type": "stream",
          "name": "stdout",
          "text": [
            "  Версия 5, попытка 1/3...\n"
          ]
        },
        {
          "output_type": "stream",
          "name": "stderr",
          "text": [
            "Обработка батчей:  55%|█████▍    | 51/93 [5:51:20<5:26:21, 466.23s/it]"
          ]
        },
        {
          "output_type": "stream",
          "name": "stdout",
          "text": [
            "  Получено 5/5 успешных версий для батча.\n",
            "💾 Прогресс сохранен. Батч 51 усреднен и записан в файл.\n",
            "\n",
            "--- Обработка батча 52/93 (индексы 2550-2599) ---\n",
            "  Версия 1, попытка 1/3...\n"
          ]
        },
        {
          "output_type": "stream",
          "name": "stderr",
          "text": [
            "Обработка батчей:  55%|█████▍    | 51/93 [5:52:23<5:26:21, 466.23s/it]"
          ]
        },
        {
          "output_type": "stream",
          "name": "stdout",
          "text": [
            "  Версия 2, попытка 1/3...\n"
          ]
        },
        {
          "output_type": "stream",
          "name": "stderr",
          "text": [
            "Обработка батчей:  55%|█████▍    | 51/93 [5:55:24<5:26:21, 466.23s/it]"
          ]
        },
        {
          "output_type": "stream",
          "name": "stdout",
          "text": [
            "  Версия 3, попытка 1/3...\n"
          ]
        },
        {
          "output_type": "stream",
          "name": "stderr",
          "text": [
            "Обработка батчей:  55%|█████▍    | 51/93 [5:57:26<5:26:21, 466.23s/it]"
          ]
        },
        {
          "output_type": "stream",
          "name": "stdout",
          "text": [
            "  Версия 4, попытка 1/3...\n"
          ]
        },
        {
          "output_type": "stream",
          "name": "stderr",
          "text": [
            "Обработка батчей:  55%|█████▍    | 51/93 [5:59:42<5:26:21, 466.23s/it]"
          ]
        },
        {
          "output_type": "stream",
          "name": "stdout",
          "text": [
            "  Версия 5, попытка 1/3...\n"
          ]
        },
        {
          "output_type": "stream",
          "name": "stderr",
          "text": [
            "Обработка батчей:  56%|█████▌    | 52/93 [6:01:15<5:44:54, 504.74s/it]"
          ]
        },
        {
          "output_type": "stream",
          "name": "stdout",
          "text": [
            "  Получено 5/5 успешных версий для батча.\n",
            "💾 Прогресс сохранен. Батч 52 усреднен и записан в файл.\n",
            "\n",
            "--- Обработка батча 53/93 (индексы 2600-2649) ---\n",
            "  Версия 1, попытка 1/3...\n"
          ]
        },
        {
          "output_type": "stream",
          "name": "stderr",
          "text": [
            "Обработка батчей:  56%|█████▌    | 52/93 [6:02:07<5:44:54, 504.74s/it]"
          ]
        },
        {
          "output_type": "stream",
          "name": "stdout",
          "text": [
            "  Версия 2, попытка 1/3...\n"
          ]
        },
        {
          "output_type": "stream",
          "name": "stderr",
          "text": [
            "Обработка батчей:  56%|█████▌    | 52/93 [6:03:22<5:44:54, 504.74s/it]"
          ]
        },
        {
          "output_type": "stream",
          "name": "stdout",
          "text": [
            "  Версия 3, попытка 1/3...\n"
          ]
        },
        {
          "output_type": "stream",
          "name": "stderr",
          "text": [
            "Обработка батчей:  56%|█████▌    | 52/93 [6:04:08<5:44:54, 504.74s/it]"
          ]
        },
        {
          "output_type": "stream",
          "name": "stdout",
          "text": [
            "  Версия 4, попытка 1/3...\n"
          ]
        },
        {
          "output_type": "stream",
          "name": "stderr",
          "text": [
            "Обработка батчей:  56%|█████▌    | 52/93 [6:06:28<5:44:54, 504.74s/it]"
          ]
        },
        {
          "output_type": "stream",
          "name": "stdout",
          "text": [
            "  Версия 5, попытка 1/3...\n"
          ]
        },
        {
          "output_type": "stream",
          "name": "stderr",
          "text": [
            "Обработка батчей:  57%|█████▋    | 53/93 [6:07:36<5:11:47, 467.69s/it]"
          ]
        },
        {
          "output_type": "stream",
          "name": "stdout",
          "text": [
            "  Получено 5/5 успешных версий для батча.\n",
            "💾 Прогресс сохранен. Батч 53 усреднен и записан в файл.\n",
            "\n",
            "--- Обработка батча 54/93 (индексы 2650-2699) ---\n",
            "  Версия 1, попытка 1/3...\n"
          ]
        },
        {
          "output_type": "stream",
          "name": "stderr",
          "text": [
            "Обработка батчей:  57%|█████▋    | 53/93 [6:08:49<5:11:47, 467.69s/it]"
          ]
        },
        {
          "output_type": "stream",
          "name": "stdout",
          "text": [
            "    ❌ Ошибка API или парсинга: Expecting value: line 347 column 1 (char 1903)\n"
          ]
        },
        {
          "output_type": "stream",
          "name": "stderr",
          "text": [
            "Обработка батчей:  57%|█████▋    | 53/93 [6:08:52<5:11:47, 467.69s/it]"
          ]
        },
        {
          "output_type": "stream",
          "name": "stdout",
          "text": [
            "  Версия 1, попытка 2/3...\n"
          ]
        },
        {
          "output_type": "stream",
          "name": "stderr",
          "text": [
            "Обработка батчей:  57%|█████▋    | 53/93 [6:10:41<5:11:47, 467.69s/it]"
          ]
        },
        {
          "output_type": "stream",
          "name": "stdout",
          "text": [
            "  Версия 2, попытка 1/3...\n"
          ]
        },
        {
          "output_type": "stream",
          "name": "stderr",
          "text": [
            "Обработка батчей:  57%|█████▋    | 53/93 [6:12:14<5:11:47, 467.69s/it]"
          ]
        },
        {
          "output_type": "stream",
          "name": "stdout",
          "text": [
            "  Версия 3, попытка 1/3...\n"
          ]
        },
        {
          "output_type": "stream",
          "name": "stderr",
          "text": [
            "Обработка батчей:  57%|█████▋    | 53/93 [6:13:26<5:11:47, 467.69s/it]"
          ]
        },
        {
          "output_type": "stream",
          "name": "stdout",
          "text": [
            "  Версия 4, попытка 1/3...\n"
          ]
        },
        {
          "output_type": "stream",
          "name": "stderr",
          "text": [
            "Обработка батчей:  57%|█████▋    | 53/93 [6:14:47<5:11:47, 467.69s/it]"
          ]
        },
        {
          "output_type": "stream",
          "name": "stdout",
          "text": [
            "  Версия 5, попытка 1/3...\n"
          ]
        },
        {
          "output_type": "stream",
          "name": "stderr",
          "text": [
            "Обработка батчей:  58%|█████▊    | 54/93 [6:17:26<5:27:53, 504.44s/it]"
          ]
        },
        {
          "output_type": "stream",
          "name": "stdout",
          "text": [
            "  Получено 5/5 успешных версий для батча.\n",
            "💾 Прогресс сохранен. Батч 54 усреднен и записан в файл.\n",
            "\n",
            "--- Обработка батча 55/93 (индексы 2700-2749) ---\n",
            "  Версия 1, попытка 1/3...\n"
          ]
        },
        {
          "output_type": "stream",
          "name": "stderr",
          "text": [
            "Обработка батчей:  58%|█████▊    | 54/93 [6:18:43<5:27:53, 504.44s/it]"
          ]
        },
        {
          "output_type": "stream",
          "name": "stdout",
          "text": [
            "  Версия 2, попытка 1/3...\n"
          ]
        },
        {
          "output_type": "stream",
          "name": "stderr",
          "text": [
            "Обработка батчей:  58%|█████▊    | 54/93 [6:19:55<5:27:53, 504.44s/it]"
          ]
        },
        {
          "output_type": "stream",
          "name": "stdout",
          "text": [
            "  Версия 3, попытка 1/3...\n"
          ]
        },
        {
          "output_type": "stream",
          "name": "stderr",
          "text": [
            "Обработка батчей:  58%|█████▊    | 54/93 [6:22:43<5:27:53, 504.44s/it]"
          ]
        },
        {
          "output_type": "stream",
          "name": "stdout",
          "text": [
            "  Версия 4, попытка 1/3...\n"
          ]
        },
        {
          "output_type": "stream",
          "name": "stderr",
          "text": [
            "Обработка батчей:  58%|█████▊    | 54/93 [6:24:51<5:27:53, 504.44s/it]"
          ]
        },
        {
          "output_type": "stream",
          "name": "stdout",
          "text": [
            "  Версия 5, попытка 1/3...\n"
          ]
        },
        {
          "output_type": "stream",
          "name": "stderr",
          "text": [
            "Обработка батчей:  59%|█████▉    | 55/93 [6:27:26<5:37:35, 533.03s/it]"
          ]
        },
        {
          "output_type": "stream",
          "name": "stdout",
          "text": [
            "  Получено 5/5 успешных версий для батча.\n",
            "💾 Прогресс сохранен. Батч 55 усреднен и записан в файл.\n",
            "\n",
            "--- Обработка батча 56/93 (индексы 2750-2799) ---\n",
            "  Версия 1, попытка 1/3...\n"
          ]
        },
        {
          "output_type": "stream",
          "name": "stderr",
          "text": [
            "Обработка батчей:  59%|█████▉    | 55/93 [6:30:14<5:37:35, 533.03s/it]"
          ]
        },
        {
          "output_type": "stream",
          "name": "stdout",
          "text": [
            "  Версия 2, попытка 1/3...\n"
          ]
        },
        {
          "output_type": "stream",
          "name": "stderr",
          "text": [
            "Обработка батчей:  59%|█████▉    | 55/93 [6:31:26<5:37:35, 533.03s/it]"
          ]
        },
        {
          "output_type": "stream",
          "name": "stdout",
          "text": [
            "  Версия 3, попытка 1/3...\n"
          ]
        },
        {
          "output_type": "stream",
          "name": "stderr",
          "text": [
            "Обработка батчей:  59%|█████▉    | 55/93 [6:33:20<5:37:35, 533.03s/it]"
          ]
        },
        {
          "output_type": "stream",
          "name": "stdout",
          "text": [
            "  Версия 4, попытка 1/3...\n"
          ]
        },
        {
          "output_type": "stream",
          "name": "stderr",
          "text": [
            "Обработка батчей:  59%|█████▉    | 55/93 [6:34:25<5:37:35, 533.03s/it]"
          ]
        },
        {
          "output_type": "stream",
          "name": "stdout",
          "text": [
            "  Версия 5, попытка 1/3...\n"
          ]
        },
        {
          "output_type": "stream",
          "name": "stderr",
          "text": [
            "Обработка батчей:  60%|██████    | 56/93 [6:35:48<5:22:53, 523.62s/it]"
          ]
        },
        {
          "output_type": "stream",
          "name": "stdout",
          "text": [
            "  Получено 5/5 успешных версий для батча.\n",
            "💾 Прогресс сохранен. Батч 56 усреднен и записан в файл.\n",
            "\n",
            "--- Обработка батча 57/93 (индексы 2800-2849) ---\n",
            "  Версия 1, попытка 1/3...\n"
          ]
        },
        {
          "output_type": "stream",
          "name": "stderr",
          "text": [
            "Обработка батчей:  60%|██████    | 56/93 [6:36:55<5:22:53, 523.62s/it]"
          ]
        },
        {
          "output_type": "stream",
          "name": "stdout",
          "text": [
            "  Версия 2, попытка 1/3...\n"
          ]
        },
        {
          "output_type": "stream",
          "name": "stderr",
          "text": [
            "Обработка батчей:  60%|██████    | 56/93 [6:37:47<5:22:53, 523.62s/it]"
          ]
        },
        {
          "output_type": "stream",
          "name": "stdout",
          "text": [
            "  Версия 3, попытка 1/3...\n"
          ]
        },
        {
          "output_type": "stream",
          "name": "stderr",
          "text": [
            "Обработка батчей:  60%|██████    | 56/93 [6:38:35<5:22:53, 523.62s/it]"
          ]
        },
        {
          "output_type": "stream",
          "name": "stdout",
          "text": [
            "  Версия 4, попытка 1/3...\n"
          ]
        },
        {
          "output_type": "stream",
          "name": "stderr",
          "text": [
            "Обработка батчей:  60%|██████    | 56/93 [6:39:22<5:22:53, 523.62s/it]"
          ]
        },
        {
          "output_type": "stream",
          "name": "stdout",
          "text": [
            "  Версия 5, попытка 1/3...\n"
          ]
        },
        {
          "output_type": "stream",
          "name": "stderr",
          "text": [
            "Обработка батчей:  61%|██████▏   | 57/93 [6:40:13<4:27:41, 446.14s/it]"
          ]
        },
        {
          "output_type": "stream",
          "name": "stdout",
          "text": [
            "  Получено 5/5 успешных версий для батча.\n",
            "💾 Прогресс сохранен. Батч 57 усреднен и записан в файл.\n",
            "\n",
            "--- Обработка батча 58/93 (индексы 2850-2899) ---\n",
            "  Версия 1, попытка 1/3...\n"
          ]
        },
        {
          "output_type": "stream",
          "name": "stderr",
          "text": [
            "Обработка батчей:  61%|██████▏   | 57/93 [6:41:23<4:27:41, 446.14s/it]"
          ]
        },
        {
          "output_type": "stream",
          "name": "stdout",
          "text": [
            "  Версия 2, попытка 1/3...\n"
          ]
        },
        {
          "output_type": "stream",
          "name": "stderr",
          "text": [
            "Обработка батчей:  61%|██████▏   | 57/93 [6:42:36<4:27:41, 446.14s/it]"
          ]
        },
        {
          "output_type": "stream",
          "name": "stdout",
          "text": [
            "  Версия 3, попытка 1/3...\n"
          ]
        },
        {
          "output_type": "stream",
          "name": "stderr",
          "text": [
            "Обработка батчей:  61%|██████▏   | 57/93 [6:43:49<4:27:41, 446.14s/it]"
          ]
        },
        {
          "output_type": "stream",
          "name": "stdout",
          "text": [
            "  Версия 4, попытка 1/3...\n"
          ]
        },
        {
          "output_type": "stream",
          "name": "stderr",
          "text": [
            "Обработка батчей:  61%|██████▏   | 57/93 [6:44:59<4:27:41, 446.14s/it]"
          ]
        },
        {
          "output_type": "stream",
          "name": "stdout",
          "text": [
            "  Версия 5, попытка 1/3...\n"
          ]
        },
        {
          "output_type": "stream",
          "name": "stderr",
          "text": [
            "Обработка батчей:  62%|██████▏   | 58/93 [6:48:49<4:32:31, 467.20s/it]"
          ]
        },
        {
          "output_type": "stream",
          "name": "stdout",
          "text": [
            "  Получено 5/5 успешных версий для батча.\n",
            "💾 Прогресс сохранен. Батч 58 усреднен и записан в файл.\n",
            "\n",
            "--- Обработка батча 59/93 (индексы 2900-2949) ---\n",
            "  Версия 1, попытка 1/3...\n"
          ]
        },
        {
          "output_type": "stream",
          "name": "stderr",
          "text": [
            "Обработка батчей:  62%|██████▏   | 58/93 [6:51:53<4:32:31, 467.20s/it]"
          ]
        },
        {
          "output_type": "stream",
          "name": "stdout",
          "text": [
            "  Версия 2, попытка 1/3...\n"
          ]
        },
        {
          "output_type": "stream",
          "name": "stderr",
          "text": [
            "Обработка батчей:  62%|██████▏   | 58/93 [6:53:31<4:32:31, 467.20s/it]"
          ]
        },
        {
          "output_type": "stream",
          "name": "stdout",
          "text": [
            "  Версия 3, попытка 1/3...\n"
          ]
        },
        {
          "output_type": "stream",
          "name": "stderr",
          "text": [
            "Обработка батчей:  62%|██████▏   | 58/93 [6:54:43<4:32:31, 467.20s/it]"
          ]
        },
        {
          "output_type": "stream",
          "name": "stdout",
          "text": [
            "  Версия 4, попытка 1/3...\n"
          ]
        },
        {
          "output_type": "stream",
          "name": "stderr",
          "text": [
            "Обработка батчей:  62%|██████▏   | 58/93 [6:55:53<4:32:31, 467.20s/it]"
          ]
        },
        {
          "output_type": "stream",
          "name": "stdout",
          "text": [
            "  Версия 5, попытка 1/3...\n"
          ]
        },
        {
          "output_type": "stream",
          "name": "stderr",
          "text": [
            "Обработка батчей:  63%|██████▎   | 59/93 [6:57:07<4:29:58, 476.43s/it]"
          ]
        },
        {
          "output_type": "stream",
          "name": "stdout",
          "text": [
            "  Получено 5/5 успешных версий для батча.\n",
            "💾 Прогресс сохранен. Батч 59 усреднен и записан в файл.\n",
            "\n",
            "--- Обработка батча 60/93 (индексы 2950-2999) ---\n",
            "  Версия 1, попытка 1/3...\n"
          ]
        },
        {
          "output_type": "stream",
          "name": "stderr",
          "text": [
            "Обработка батчей:  63%|██████▎   | 59/93 [6:58:19<4:29:58, 476.43s/it]"
          ]
        },
        {
          "output_type": "stream",
          "name": "stdout",
          "text": [
            "  Версия 2, попытка 1/3...\n"
          ]
        },
        {
          "output_type": "stream",
          "name": "stderr",
          "text": [
            "Обработка батчей:  63%|██████▎   | 59/93 [7:01:36<4:29:58, 476.43s/it]"
          ]
        },
        {
          "output_type": "stream",
          "name": "stdout",
          "text": [
            "  Версия 3, попытка 1/3...\n"
          ]
        },
        {
          "output_type": "stream",
          "name": "stderr",
          "text": [
            "Обработка батчей:  63%|██████▎   | 59/93 [7:02:44<4:29:58, 476.43s/it]"
          ]
        },
        {
          "output_type": "stream",
          "name": "stdout",
          "text": [
            "  Версия 4, попытка 1/3...\n"
          ]
        },
        {
          "output_type": "stream",
          "name": "stderr",
          "text": [
            "Обработка батчей:  63%|██████▎   | 59/93 [7:03:07<4:29:58, 476.43s/it]"
          ]
        },
        {
          "output_type": "stream",
          "name": "stdout",
          "text": [
            "  Версия 5, попытка 1/3...\n"
          ]
        },
        {
          "output_type": "stream",
          "name": "stderr",
          "text": [
            "Обработка батчей:  65%|██████▍   | 60/93 [7:04:23<4:15:13, 464.03s/it]"
          ]
        },
        {
          "output_type": "stream",
          "name": "stdout",
          "text": [
            "  Получено 5/5 успешных версий для батча.\n",
            "💾 Прогресс сохранен. Батч 60 усреднен и записан в файл.\n",
            "\n",
            "--- Обработка батча 61/93 (индексы 3000-3049) ---\n",
            "  Версия 1, попытка 1/3...\n"
          ]
        },
        {
          "output_type": "stream",
          "name": "stderr",
          "text": [
            "Обработка батчей:  65%|██████▍   | 60/93 [7:05:30<4:15:13, 464.03s/it]"
          ]
        },
        {
          "output_type": "stream",
          "name": "stdout",
          "text": [
            "  Версия 2, попытка 1/3...\n"
          ]
        },
        {
          "output_type": "stream",
          "name": "stderr",
          "text": [
            "Обработка батчей:  65%|██████▍   | 60/93 [7:06:38<4:15:13, 464.03s/it]"
          ]
        },
        {
          "output_type": "stream",
          "name": "stdout",
          "text": [
            "  Версия 3, попытка 1/3...\n"
          ]
        },
        {
          "output_type": "stream",
          "name": "stderr",
          "text": [
            "Обработка батчей:  65%|██████▍   | 60/93 [7:07:37<4:15:13, 464.03s/it]"
          ]
        },
        {
          "output_type": "stream",
          "name": "stdout",
          "text": [
            "  Версия 4, попытка 1/3...\n"
          ]
        },
        {
          "output_type": "stream",
          "name": "stderr",
          "text": [
            "Обработка батчей:  65%|██████▍   | 60/93 [7:08:34<4:15:13, 464.03s/it]"
          ]
        },
        {
          "output_type": "stream",
          "name": "stdout",
          "text": [
            "  Версия 5, попытка 1/3...\n"
          ]
        },
        {
          "output_type": "stream",
          "name": "stderr",
          "text": [
            "Обработка батчей:  66%|██████▌   | 61/93 [7:10:29<3:51:49, 434.67s/it]"
          ]
        },
        {
          "output_type": "stream",
          "name": "stdout",
          "text": [
            "  Получено 5/5 успешных версий для батча.\n",
            "💾 Прогресс сохранен. Батч 61 усреднен и записан в файл.\n",
            "\n",
            "--- Обработка батча 62/93 (индексы 3050-3099) ---\n",
            "  Версия 1, попытка 1/3...\n"
          ]
        },
        {
          "output_type": "stream",
          "name": "stderr",
          "text": [
            "Обработка батчей:  66%|██████▌   | 61/93 [7:12:00<3:51:49, 434.67s/it]"
          ]
        },
        {
          "output_type": "stream",
          "name": "stdout",
          "text": [
            "  Версия 2, попытка 1/3...\n"
          ]
        },
        {
          "output_type": "stream",
          "name": "stderr",
          "text": [
            "Обработка батчей:  66%|██████▌   | 61/93 [7:12:46<3:51:49, 434.67s/it]"
          ]
        },
        {
          "output_type": "stream",
          "name": "stdout",
          "text": [
            "  Версия 3, попытка 1/3...\n"
          ]
        },
        {
          "output_type": "stream",
          "name": "stderr",
          "text": [
            "Обработка батчей:  66%|██████▌   | 61/93 [7:14:11<3:51:49, 434.67s/it]"
          ]
        },
        {
          "output_type": "stream",
          "name": "stdout",
          "text": [
            "  Версия 4, попытка 1/3...\n"
          ]
        },
        {
          "output_type": "stream",
          "name": "stderr",
          "text": [
            "Обработка батчей:  66%|██████▌   | 61/93 [7:16:11<3:51:49, 434.67s/it]"
          ]
        },
        {
          "output_type": "stream",
          "name": "stdout",
          "text": [
            "  Версия 5, попытка 1/3...\n"
          ]
        },
        {
          "output_type": "stream",
          "name": "stderr",
          "text": [
            "Обработка батчей:  67%|██████▋   | 62/93 [7:19:08<3:57:46, 460.20s/it]"
          ]
        },
        {
          "output_type": "stream",
          "name": "stdout",
          "text": [
            "  Получено 5/5 успешных версий для батча.\n",
            "💾 Прогресс сохранен. Батч 62 усреднен и записан в файл.\n",
            "\n",
            "--- Обработка батча 63/93 (индексы 3100-3149) ---\n",
            "  Версия 1, попытка 1/3...\n"
          ]
        },
        {
          "output_type": "stream",
          "name": "stderr",
          "text": [
            "Обработка батчей:  67%|██████▋   | 62/93 [7:21:09<3:57:46, 460.20s/it]"
          ]
        },
        {
          "output_type": "stream",
          "name": "stdout",
          "text": [
            "  Версия 2, попытка 1/3...\n"
          ]
        },
        {
          "output_type": "stream",
          "name": "stderr",
          "text": [
            "Обработка батчей:  67%|██████▋   | 62/93 [7:22:20<3:57:46, 460.20s/it]"
          ]
        },
        {
          "output_type": "stream",
          "name": "stdout",
          "text": [
            "  Версия 3, попытка 1/3...\n"
          ]
        },
        {
          "output_type": "stream",
          "name": "stderr",
          "text": [
            "Обработка батчей:  67%|██████▋   | 62/93 [7:23:23<3:57:46, 460.20s/it]"
          ]
        },
        {
          "output_type": "stream",
          "name": "stdout",
          "text": [
            "  Версия 4, попытка 1/3...\n"
          ]
        },
        {
          "output_type": "stream",
          "name": "stderr",
          "text": [
            "Обработка батчей:  67%|██████▋   | 62/93 [7:24:37<3:57:46, 460.20s/it]"
          ]
        },
        {
          "output_type": "stream",
          "name": "stdout",
          "text": [
            "  Версия 5, попытка 1/3...\n"
          ]
        },
        {
          "output_type": "stream",
          "name": "stderr",
          "text": [
            "Обработка батчей:  68%|██████▊   | 63/93 [7:26:00<3:42:51, 445.70s/it]"
          ]
        },
        {
          "output_type": "stream",
          "name": "stdout",
          "text": [
            "  Получено 5/5 успешных версий для батча.\n",
            "💾 Прогресс сохранен. Батч 63 усреднен и записан в файл.\n",
            "\n",
            "--- Обработка батча 64/93 (индексы 3150-3199) ---\n",
            "  Версия 1, попытка 1/3...\n"
          ]
        },
        {
          "output_type": "stream",
          "name": "stderr",
          "text": [
            "Обработка батчей:  68%|██████▊   | 63/93 [7:26:17<3:42:51, 445.70s/it]"
          ]
        },
        {
          "output_type": "stream",
          "name": "stdout",
          "text": [
            "  Версия 2, попытка 1/3...\n"
          ]
        },
        {
          "output_type": "stream",
          "name": "stderr",
          "text": [
            "Обработка батчей:  68%|██████▊   | 63/93 [7:27:17<3:42:51, 445.70s/it]"
          ]
        },
        {
          "output_type": "stream",
          "name": "stdout",
          "text": [
            "  Версия 3, попытка 1/3...\n"
          ]
        },
        {
          "output_type": "stream",
          "name": "stderr",
          "text": [
            "Обработка батчей:  68%|██████▊   | 63/93 [7:27:36<3:42:51, 445.70s/it]"
          ]
        },
        {
          "output_type": "stream",
          "name": "stdout",
          "text": [
            "  Версия 4, попытка 1/3...\n"
          ]
        },
        {
          "output_type": "stream",
          "name": "stderr",
          "text": [
            "Обработка батчей:  68%|██████▊   | 63/93 [7:28:43<3:42:51, 445.70s/it]"
          ]
        },
        {
          "output_type": "stream",
          "name": "stdout",
          "text": [
            "  Версия 5, попытка 1/3...\n"
          ]
        },
        {
          "output_type": "stream",
          "name": "stderr",
          "text": [
            "Обработка батчей:  69%|██████▉   | 64/93 [7:29:43<3:03:04, 378.79s/it]"
          ]
        },
        {
          "output_type": "stream",
          "name": "stdout",
          "text": [
            "  Получено 5/5 успешных версий для батча.\n",
            "💾 Прогресс сохранен. Батч 64 усреднен и записан в файл.\n",
            "\n",
            "--- Обработка батча 65/93 (индексы 3200-3249) ---\n",
            "  Версия 1, попытка 1/3...\n"
          ]
        },
        {
          "output_type": "stream",
          "name": "stderr",
          "text": [
            "Обработка батчей:  69%|██████▉   | 64/93 [7:30:49<3:03:04, 378.79s/it]"
          ]
        },
        {
          "output_type": "stream",
          "name": "stdout",
          "text": [
            "  Версия 2, попытка 1/3...\n"
          ]
        },
        {
          "output_type": "stream",
          "name": "stderr",
          "text": [
            "Обработка батчей:  69%|██████▉   | 64/93 [7:31:51<3:03:04, 378.79s/it]"
          ]
        },
        {
          "output_type": "stream",
          "name": "stdout",
          "text": [
            "  Версия 3, попытка 1/3...\n"
          ]
        },
        {
          "output_type": "stream",
          "name": "stderr",
          "text": [
            "Обработка батчей:  69%|██████▉   | 64/93 [7:32:08<3:03:04, 378.79s/it]"
          ]
        },
        {
          "output_type": "stream",
          "name": "stdout",
          "text": [
            "  Версия 4, попытка 1/3...\n"
          ]
        },
        {
          "output_type": "stream",
          "name": "stderr",
          "text": [
            "Обработка батчей:  69%|██████▉   | 64/93 [7:32:27<3:03:04, 378.79s/it]"
          ]
        },
        {
          "output_type": "stream",
          "name": "stdout",
          "text": [
            "  Версия 5, попытка 1/3...\n"
          ]
        },
        {
          "output_type": "stream",
          "name": "stderr",
          "text": [
            "Обработка батчей:  70%|██████▉   | 65/93 [7:33:30<2:35:33, 333.33s/it]"
          ]
        },
        {
          "output_type": "stream",
          "name": "stdout",
          "text": [
            "  Получено 5/5 успешных версий для батча.\n",
            "💾 Прогресс сохранен. Батч 65 усреднен и записан в файл.\n",
            "\n",
            "--- Обработка батча 66/93 (индексы 3250-3299) ---\n",
            "  Версия 1, попытка 1/3...\n"
          ]
        },
        {
          "output_type": "stream",
          "name": "stderr",
          "text": [
            "Обработка батчей:  70%|██████▉   | 65/93 [7:34:27<2:35:33, 333.33s/it]"
          ]
        },
        {
          "output_type": "stream",
          "name": "stdout",
          "text": [
            "  Версия 2, попытка 1/3...\n"
          ]
        },
        {
          "output_type": "stream",
          "name": "stderr",
          "text": [
            "Обработка батчей:  70%|██████▉   | 65/93 [7:35:04<2:35:33, 333.33s/it]"
          ]
        },
        {
          "output_type": "stream",
          "name": "stdout",
          "text": [
            "  Версия 3, попытка 1/3...\n"
          ]
        },
        {
          "output_type": "stream",
          "name": "stderr",
          "text": [
            "Обработка батчей:  70%|██████▉   | 65/93 [7:35:43<2:35:33, 333.33s/it]"
          ]
        },
        {
          "output_type": "stream",
          "name": "stdout",
          "text": [
            "  Версия 4, попытка 1/3...\n"
          ]
        },
        {
          "output_type": "stream",
          "name": "stderr",
          "text": [
            "Обработка батчей:  70%|██████▉   | 65/93 [7:36:23<2:35:33, 333.33s/it]"
          ]
        },
        {
          "output_type": "stream",
          "name": "stdout",
          "text": [
            "  Версия 5, попытка 1/3...\n"
          ]
        },
        {
          "output_type": "stream",
          "name": "stderr",
          "text": [
            "Обработка батчей:  71%|███████   | 66/93 [7:37:24<2:16:29, 303.32s/it]"
          ]
        },
        {
          "output_type": "stream",
          "name": "stdout",
          "text": [
            "  Получено 5/5 успешных версий для батча.\n",
            "💾 Прогресс сохранен. Батч 66 усреднен и записан в файл.\n",
            "\n",
            "--- Обработка батча 67/93 (индексы 3300-3349) ---\n",
            "  Версия 1, попытка 1/3...\n"
          ]
        },
        {
          "output_type": "stream",
          "name": "stderr",
          "text": [
            "Обработка батчей:  71%|███████   | 66/93 [7:38:02<2:16:29, 303.32s/it]"
          ]
        },
        {
          "output_type": "stream",
          "name": "stdout",
          "text": [
            "  Версия 2, попытка 1/3...\n"
          ]
        },
        {
          "output_type": "stream",
          "name": "stderr",
          "text": [
            "Обработка батчей:  71%|███████   | 66/93 [7:39:02<2:16:29, 303.32s/it]"
          ]
        },
        {
          "output_type": "stream",
          "name": "stdout",
          "text": [
            "  Версия 3, попытка 1/3...\n"
          ]
        },
        {
          "output_type": "stream",
          "name": "stderr",
          "text": [
            "Обработка батчей:  71%|███████   | 66/93 [7:39:36<2:16:29, 303.32s/it]"
          ]
        },
        {
          "output_type": "stream",
          "name": "stdout",
          "text": [
            "  Версия 4, попытка 1/3...\n"
          ]
        },
        {
          "output_type": "stream",
          "name": "stderr",
          "text": [
            "Обработка батчей:  71%|███████   | 66/93 [7:40:40<2:16:29, 303.32s/it]"
          ]
        },
        {
          "output_type": "stream",
          "name": "stdout",
          "text": [
            "  Версия 5, попытка 1/3...\n"
          ]
        },
        {
          "output_type": "stream",
          "name": "stderr",
          "text": [
            "Обработка батчей:  72%|███████▏  | 67/93 [7:41:47<2:06:14, 291.32s/it]"
          ]
        },
        {
          "output_type": "stream",
          "name": "stdout",
          "text": [
            "  Получено 5/5 успешных версий для батча.\n",
            "💾 Прогресс сохранен. Батч 67 усреднен и записан в файл.\n",
            "\n",
            "--- Обработка батча 68/93 (индексы 3350-3399) ---\n",
            "  Версия 1, попытка 1/3...\n"
          ]
        },
        {
          "output_type": "stream",
          "name": "stderr",
          "text": [
            "Обработка батчей:  72%|███████▏  | 67/93 [7:42:07<2:06:14, 291.32s/it]"
          ]
        },
        {
          "output_type": "stream",
          "name": "stdout",
          "text": [
            "  Версия 2, попытка 1/3...\n"
          ]
        },
        {
          "output_type": "stream",
          "name": "stderr",
          "text": [
            "Обработка батчей:  72%|███████▏  | 67/93 [7:42:26<2:06:14, 291.32s/it]"
          ]
        },
        {
          "output_type": "stream",
          "name": "stdout",
          "text": [
            "  Версия 3, попытка 1/3...\n"
          ]
        },
        {
          "output_type": "stream",
          "name": "stderr",
          "text": [
            "Обработка батчей:  72%|███████▏  | 67/93 [7:43:27<2:06:14, 291.32s/it]"
          ]
        },
        {
          "output_type": "stream",
          "name": "stdout",
          "text": [
            "  Версия 4, попытка 1/3...\n"
          ]
        },
        {
          "output_type": "stream",
          "name": "stderr",
          "text": [
            "Обработка батчей:  72%|███████▏  | 67/93 [7:43:45<2:06:14, 291.32s/it]"
          ]
        },
        {
          "output_type": "stream",
          "name": "stdout",
          "text": [
            "  Версия 5, попытка 1/3...\n"
          ]
        },
        {
          "output_type": "stream",
          "name": "stderr",
          "text": [
            "Обработка батчей:  73%|███████▎  | 68/93 [7:44:56<1:48:37, 260.71s/it]"
          ]
        },
        {
          "output_type": "stream",
          "name": "stdout",
          "text": [
            "  Получено 5/5 успешных версий для батча.\n",
            "💾 Прогресс сохранен. Батч 68 усреднен и записан в файл.\n",
            "\n",
            "--- Обработка батча 69/93 (индексы 3400-3449) ---\n",
            "  Версия 1, попытка 1/3...\n"
          ]
        },
        {
          "output_type": "stream",
          "name": "stderr",
          "text": [
            "Обработка батчей:  73%|███████▎  | 68/93 [7:46:01<1:48:37, 260.71s/it]"
          ]
        },
        {
          "output_type": "stream",
          "name": "stdout",
          "text": [
            "  Версия 2, попытка 1/3...\n"
          ]
        },
        {
          "output_type": "stream",
          "name": "stderr",
          "text": [
            "Обработка батчей:  73%|███████▎  | 68/93 [7:46:21<1:48:37, 260.71s/it]"
          ]
        },
        {
          "output_type": "stream",
          "name": "stdout",
          "text": [
            "  Версия 3, попытка 1/3...\n"
          ]
        },
        {
          "output_type": "stream",
          "name": "stderr",
          "text": [
            "Обработка батчей:  73%|███████▎  | 68/93 [7:46:39<1:48:37, 260.71s/it]"
          ]
        },
        {
          "output_type": "stream",
          "name": "stdout",
          "text": [
            "  Версия 4, попытка 1/3...\n"
          ]
        },
        {
          "output_type": "stream",
          "name": "stderr",
          "text": [
            "Обработка батчей:  73%|███████▎  | 68/93 [7:47:40<1:48:37, 260.71s/it]"
          ]
        },
        {
          "output_type": "stream",
          "name": "stdout",
          "text": [
            "  Версия 5, попытка 1/3...\n"
          ]
        },
        {
          "output_type": "stream",
          "name": "stderr",
          "text": [
            "Обработка батчей:  74%|███████▍  | 69/93 [7:48:49<1:41:00, 252.50s/it]"
          ]
        },
        {
          "output_type": "stream",
          "name": "stdout",
          "text": [
            "  Получено 5/5 успешных версий для батча.\n",
            "💾 Прогресс сохранен. Батч 69 усреднен и записан в файл.\n",
            "\n",
            "--- Обработка батча 70/93 (индексы 3450-3499) ---\n",
            "  Версия 1, попытка 1/3...\n"
          ]
        },
        {
          "output_type": "stream",
          "name": "stderr",
          "text": [
            "Обработка батчей:  74%|███████▍  | 69/93 [7:49:45<1:41:00, 252.50s/it]"
          ]
        },
        {
          "output_type": "stream",
          "name": "stdout",
          "text": [
            "  Версия 2, попытка 1/3...\n"
          ]
        },
        {
          "output_type": "stream",
          "name": "stderr",
          "text": [
            "Обработка батчей:  74%|███████▍  | 69/93 [7:50:04<1:41:00, 252.50s/it]"
          ]
        },
        {
          "output_type": "stream",
          "name": "stdout",
          "text": [
            "  Версия 3, попытка 1/3...\n"
          ]
        },
        {
          "output_type": "stream",
          "name": "stderr",
          "text": [
            "Обработка батчей:  74%|███████▍  | 69/93 [7:50:24<1:41:00, 252.50s/it]"
          ]
        },
        {
          "output_type": "stream",
          "name": "stdout",
          "text": [
            "  Версия 4, попытка 1/3...\n"
          ]
        },
        {
          "output_type": "stream",
          "name": "stderr",
          "text": [
            "Обработка батчей:  74%|███████▍  | 69/93 [7:51:27<1:41:00, 252.50s/it]"
          ]
        },
        {
          "output_type": "stream",
          "name": "stdout",
          "text": [
            "  Версия 5, попытка 1/3...\n"
          ]
        },
        {
          "output_type": "stream",
          "name": "stderr",
          "text": [
            "Обработка батчей:  75%|███████▌  | 70/93 [7:52:30<1:33:10, 243.05s/it]"
          ]
        },
        {
          "output_type": "stream",
          "name": "stdout",
          "text": [
            "  Получено 5/5 успешных версий для батча.\n",
            "💾 Прогресс сохранен. Батч 70 усреднен и записан в файл.\n",
            "\n",
            "--- Обработка батча 71/93 (индексы 3500-3549) ---\n",
            "  Версия 1, попытка 1/3...\n"
          ]
        },
        {
          "output_type": "stream",
          "name": "stderr",
          "text": [
            "Обработка батчей:  75%|███████▌  | 70/93 [7:53:57<1:33:10, 243.05s/it]"
          ]
        },
        {
          "output_type": "stream",
          "name": "stdout",
          "text": [
            "  Версия 2, попытка 1/3...\n"
          ]
        },
        {
          "output_type": "stream",
          "name": "stderr",
          "text": [
            "Обработка батчей:  75%|███████▌  | 70/93 [7:54:29<1:33:10, 243.05s/it]"
          ]
        },
        {
          "output_type": "stream",
          "name": "stdout",
          "text": [
            "  Версия 3, попытка 1/3...\n"
          ]
        },
        {
          "output_type": "stream",
          "name": "stderr",
          "text": [
            "Обработка батчей:  75%|███████▌  | 70/93 [7:55:08<1:33:10, 243.05s/it]"
          ]
        },
        {
          "output_type": "stream",
          "name": "stdout",
          "text": [
            "  Версия 4, попытка 1/3...\n"
          ]
        },
        {
          "output_type": "stream",
          "name": "stderr",
          "text": [
            "Обработка батчей:  75%|███████▌  | 70/93 [7:56:17<1:33:10, 243.05s/it]"
          ]
        },
        {
          "output_type": "stream",
          "name": "stdout",
          "text": [
            "  Версия 5, попытка 1/3...\n"
          ]
        },
        {
          "output_type": "stream",
          "name": "stderr",
          "text": [
            "Обработка батчей:  76%|███████▋  | 71/93 [7:56:52<1:31:12, 248.73s/it]"
          ]
        },
        {
          "output_type": "stream",
          "name": "stdout",
          "text": [
            "  Получено 5/5 успешных версий для батча.\n",
            "💾 Прогресс сохранен. Батч 71 усреднен и записан в файл.\n",
            "\n",
            "--- Обработка батча 72/93 (индексы 3550-3599) ---\n",
            "  Версия 1, попытка 1/3...\n"
          ]
        },
        {
          "output_type": "stream",
          "name": "stderr",
          "text": [
            "Обработка батчей:  76%|███████▋  | 71/93 [7:57:33<1:31:12, 248.73s/it]"
          ]
        },
        {
          "output_type": "stream",
          "name": "stdout",
          "text": [
            "  Версия 2, попытка 1/3...\n"
          ]
        },
        {
          "output_type": "stream",
          "name": "stderr",
          "text": [
            "Обработка батчей:  76%|███████▋  | 71/93 [7:58:26<1:31:12, 248.73s/it]"
          ]
        },
        {
          "output_type": "stream",
          "name": "stdout",
          "text": [
            "  Версия 3, попытка 1/3...\n"
          ]
        },
        {
          "output_type": "stream",
          "name": "stderr",
          "text": [
            "Обработка батчей:  76%|███████▋  | 71/93 [7:59:37<1:31:12, 248.73s/it]"
          ]
        },
        {
          "output_type": "stream",
          "name": "stdout",
          "text": [
            "  Версия 4, попытка 1/3...\n"
          ]
        },
        {
          "output_type": "stream",
          "name": "stderr",
          "text": [
            "Обработка батчей:  76%|███████▋  | 71/93 [8:00:06<1:31:12, 248.73s/it]"
          ]
        },
        {
          "output_type": "stream",
          "name": "stdout",
          "text": [
            "  Версия 5, попытка 1/3...\n"
          ]
        },
        {
          "output_type": "stream",
          "name": "stderr",
          "text": [
            "Обработка батчей:  77%|███████▋  | 72/93 [8:00:44<1:25:16, 243.65s/it]"
          ]
        },
        {
          "output_type": "stream",
          "name": "stdout",
          "text": [
            "  Получено 5/5 успешных версий для батча.\n",
            "💾 Прогресс сохранен. Батч 72 усреднен и записан в файл.\n",
            "\n",
            "--- Обработка батча 73/93 (индексы 3600-3649) ---\n",
            "  Версия 1, попытка 1/3...\n"
          ]
        },
        {
          "output_type": "stream",
          "name": "stderr",
          "text": [
            "Обработка батчей:  77%|███████▋  | 72/93 [8:01:49<1:25:16, 243.65s/it]"
          ]
        },
        {
          "output_type": "stream",
          "name": "stdout",
          "text": [
            "  Версия 2, попытка 1/3...\n"
          ]
        },
        {
          "output_type": "stream",
          "name": "stderr",
          "text": [
            "Обработка батчей:  77%|███████▋  | 72/93 [8:02:53<1:25:16, 243.65s/it]"
          ]
        },
        {
          "output_type": "stream",
          "name": "stdout",
          "text": [
            "  Версия 3, попытка 1/3...\n"
          ]
        },
        {
          "output_type": "stream",
          "name": "stderr",
          "text": [
            "Обработка батчей:  77%|███████▋  | 72/93 [8:03:13<1:25:16, 243.65s/it]"
          ]
        },
        {
          "output_type": "stream",
          "name": "stdout",
          "text": [
            "  Версия 4, попытка 1/3...\n"
          ]
        },
        {
          "output_type": "stream",
          "name": "stderr",
          "text": [
            "Обработка батчей:  77%|███████▋  | 72/93 [8:04:21<1:25:16, 243.65s/it]"
          ]
        },
        {
          "output_type": "stream",
          "name": "stdout",
          "text": [
            "  Версия 5, попытка 1/3...\n"
          ]
        },
        {
          "output_type": "stream",
          "name": "stderr",
          "text": [
            "Обработка батчей:  78%|███████▊  | 73/93 [8:05:28<1:25:12, 255.62s/it]"
          ]
        },
        {
          "output_type": "stream",
          "name": "stdout",
          "text": [
            "  Получено 5/5 успешных версий для батча.\n",
            "💾 Прогресс сохранен. Батч 73 усреднен и записан в файл.\n",
            "\n",
            "--- Обработка батча 74/93 (индексы 3650-3699) ---\n",
            "  Версия 1, попытка 1/3...\n"
          ]
        },
        {
          "output_type": "stream",
          "name": "stderr",
          "text": [
            "Обработка батчей:  78%|███████▊  | 73/93 [8:08:07<1:25:12, 255.62s/it]"
          ]
        },
        {
          "output_type": "stream",
          "name": "stdout",
          "text": [
            "  Версия 2, попытка 1/3...\n"
          ]
        },
        {
          "output_type": "stream",
          "name": "stderr",
          "text": [
            "Обработка батчей:  78%|███████▊  | 73/93 [8:10:52<1:25:12, 255.62s/it]"
          ]
        },
        {
          "output_type": "stream",
          "name": "stdout",
          "text": [
            "  Версия 3, попытка 1/3...\n"
          ]
        },
        {
          "output_type": "stream",
          "name": "stderr",
          "text": [
            "Обработка батчей:  78%|███████▊  | 73/93 [8:11:22<1:25:12, 255.62s/it]"
          ]
        },
        {
          "output_type": "stream",
          "name": "stdout",
          "text": [
            "  Версия 4, попытка 1/3...\n"
          ]
        },
        {
          "output_type": "stream",
          "name": "stderr",
          "text": [
            "Обработка батчей:  78%|███████▊  | 73/93 [8:12:28<1:25:12, 255.62s/it]"
          ]
        },
        {
          "output_type": "stream",
          "name": "stdout",
          "text": [
            "  Версия 5, попытка 1/3...\n"
          ]
        },
        {
          "output_type": "stream",
          "name": "stderr",
          "text": [
            "Обработка батчей:  80%|███████▉  | 74/93 [8:15:52<1:56:00, 366.34s/it]"
          ]
        },
        {
          "output_type": "stream",
          "name": "stdout",
          "text": [
            "  Получено 5/5 успешных версий для батча.\n",
            "💾 Прогресс сохранен. Батч 74 усреднен и записан в файл.\n",
            "\n",
            "--- Обработка батча 75/93 (индексы 3700-3749) ---\n",
            "  Версия 1, попытка 1/3...\n"
          ]
        },
        {
          "output_type": "stream",
          "name": "stderr",
          "text": [
            "Обработка батчей:  80%|███████▉  | 74/93 [8:17:01<1:56:00, 366.34s/it]"
          ]
        },
        {
          "output_type": "stream",
          "name": "stdout",
          "text": [
            "  Версия 2, попытка 1/3...\n"
          ]
        },
        {
          "output_type": "stream",
          "name": "stderr",
          "text": [
            "Обработка батчей:  80%|███████▉  | 74/93 [8:18:42<1:56:00, 366.34s/it]"
          ]
        },
        {
          "output_type": "stream",
          "name": "stdout",
          "text": [
            "  Версия 3, попытка 1/3...\n"
          ]
        },
        {
          "output_type": "stream",
          "name": "stderr",
          "text": [
            "Обработка батчей:  80%|███████▉  | 74/93 [8:21:57<1:56:00, 366.34s/it]"
          ]
        },
        {
          "output_type": "stream",
          "name": "stdout",
          "text": [
            "  Версия 4, попытка 1/3...\n"
          ]
        },
        {
          "output_type": "stream",
          "name": "stderr",
          "text": [
            "Обработка батчей:  80%|███████▉  | 74/93 [8:23:00<1:56:00, 366.34s/it]"
          ]
        },
        {
          "output_type": "stream",
          "name": "stdout",
          "text": [
            "  Версия 5, попытка 1/3...\n"
          ]
        },
        {
          "output_type": "stream",
          "name": "stderr",
          "text": [
            "Обработка батчей:  81%|████████  | 75/93 [8:23:48<1:59:45, 399.21s/it]"
          ]
        },
        {
          "output_type": "stream",
          "name": "stdout",
          "text": [
            "  Получено 5/5 успешных версий для батча.\n",
            "💾 Прогресс сохранен. Батч 75 усреднен и записан в файл.\n",
            "\n",
            "--- Обработка батча 76/93 (индексы 3750-3799) ---\n",
            "  Версия 1, попытка 1/3...\n"
          ]
        },
        {
          "output_type": "stream",
          "name": "stderr",
          "text": [
            "Обработка батчей:  81%|████████  | 75/93 [8:24:12<1:59:45, 399.21s/it]"
          ]
        },
        {
          "output_type": "stream",
          "name": "stdout",
          "text": [
            "  Версия 2, попытка 1/3...\n"
          ]
        },
        {
          "output_type": "stream",
          "name": "stderr",
          "text": [
            "Обработка батчей:  81%|████████  | 75/93 [8:24:36<1:59:45, 399.21s/it]"
          ]
        },
        {
          "output_type": "stream",
          "name": "stdout",
          "text": [
            "  Версия 3, попытка 1/3...\n"
          ]
        },
        {
          "output_type": "stream",
          "name": "stderr",
          "text": [
            "Обработка батчей:  81%|████████  | 75/93 [8:25:00<1:59:45, 399.21s/it]"
          ]
        },
        {
          "output_type": "stream",
          "name": "stdout",
          "text": [
            "  Версия 4, попытка 1/3...\n"
          ]
        },
        {
          "output_type": "stream",
          "name": "stderr",
          "text": [
            "Обработка батчей:  81%|████████  | 75/93 [8:25:21<1:59:45, 399.21s/it]"
          ]
        },
        {
          "output_type": "stream",
          "name": "stdout",
          "text": [
            "  Версия 5, попытка 1/3...\n"
          ]
        },
        {
          "output_type": "stream",
          "name": "stderr",
          "text": [
            "Обработка батчей:  82%|████████▏ | 76/93 [8:25:47<1:29:13, 314.94s/it]"
          ]
        },
        {
          "output_type": "stream",
          "name": "stdout",
          "text": [
            "  Получено 5/5 успешных версий для батча.\n",
            "💾 Прогресс сохранен. Батч 76 усреднен и записан в файл.\n",
            "\n",
            "--- Обработка батча 77/93 (индексы 3800-3849) ---\n",
            "  Версия 1, попытка 1/3...\n"
          ]
        },
        {
          "output_type": "stream",
          "name": "stderr",
          "text": [
            "Обработка батчей:  82%|████████▏ | 76/93 [8:26:07<1:29:13, 314.94s/it]"
          ]
        },
        {
          "output_type": "stream",
          "name": "stdout",
          "text": [
            "  Версия 2, попытка 1/3...\n"
          ]
        },
        {
          "output_type": "stream",
          "name": "stderr",
          "text": [
            "Обработка батчей:  82%|████████▏ | 76/93 [8:26:51<1:29:13, 314.94s/it]"
          ]
        },
        {
          "output_type": "stream",
          "name": "stdout",
          "text": [
            "  Версия 3, попытка 1/3...\n"
          ]
        },
        {
          "output_type": "stream",
          "name": "stderr",
          "text": [
            "Обработка батчей:  82%|████████▏ | 76/93 [8:27:50<1:29:13, 314.94s/it]"
          ]
        },
        {
          "output_type": "stream",
          "name": "stdout",
          "text": [
            "  Версия 4, попытка 1/3...\n"
          ]
        },
        {
          "output_type": "stream",
          "name": "stderr",
          "text": [
            "Обработка батчей:  82%|████████▏ | 76/93 [8:28:12<1:29:13, 314.94s/it]"
          ]
        },
        {
          "output_type": "stream",
          "name": "stdout",
          "text": [
            "  Версия 5, попытка 1/3...\n"
          ]
        },
        {
          "output_type": "stream",
          "name": "stderr",
          "text": [
            "Обработка батчей:  83%|████████▎ | 77/93 [8:28:38<1:12:30, 271.92s/it]"
          ]
        },
        {
          "output_type": "stream",
          "name": "stdout",
          "text": [
            "  Получено 5/5 успешных версий для батча.\n",
            "💾 Прогресс сохранен. Батч 77 усреднен и записан в файл.\n",
            "\n",
            "--- Обработка батча 78/93 (индексы 3850-3899) ---\n",
            "  Версия 1, попытка 1/3...\n"
          ]
        },
        {
          "output_type": "stream",
          "name": "stderr",
          "text": [
            "Обработка батчей:  83%|████████▎ | 77/93 [8:28:59<1:12:30, 271.92s/it]"
          ]
        },
        {
          "output_type": "stream",
          "name": "stdout",
          "text": [
            "  Версия 2, попытка 1/3...\n"
          ]
        },
        {
          "output_type": "stream",
          "name": "stderr",
          "text": [
            "Обработка батчей:  83%|████████▎ | 77/93 [8:29:42<1:12:30, 271.92s/it]"
          ]
        },
        {
          "output_type": "stream",
          "name": "stdout",
          "text": [
            "  Версия 3, попытка 1/3...\n"
          ]
        },
        {
          "output_type": "stream",
          "name": "stderr",
          "text": [
            "Обработка батчей:  83%|████████▎ | 77/93 [8:30:47<1:12:30, 271.92s/it]"
          ]
        },
        {
          "output_type": "stream",
          "name": "stdout",
          "text": [
            "  Версия 4, попытка 1/3...\n"
          ]
        },
        {
          "output_type": "stream",
          "name": "stderr",
          "text": [
            "Обработка батчей:  83%|████████▎ | 77/93 [8:31:11<1:12:30, 271.92s/it]"
          ]
        },
        {
          "output_type": "stream",
          "name": "stdout",
          "text": [
            "  Версия 5, попытка 1/3...\n"
          ]
        },
        {
          "output_type": "stream",
          "name": "stderr",
          "text": [
            "Обработка батчей:  84%|████████▍ | 78/93 [8:32:11<1:03:34, 254.27s/it]"
          ]
        },
        {
          "output_type": "stream",
          "name": "stdout",
          "text": [
            "  Получено 5/5 успешных версий для батча.\n",
            "💾 Прогресс сохранен. Батч 78 усреднен и записан в файл.\n",
            "\n",
            "--- Обработка батча 79/93 (индексы 3900-3949) ---\n",
            "  Версия 1, попытка 1/3...\n"
          ]
        },
        {
          "output_type": "stream",
          "name": "stderr",
          "text": [
            "Обработка батчей:  84%|████████▍ | 78/93 [8:33:46<1:03:34, 254.27s/it]"
          ]
        },
        {
          "output_type": "stream",
          "name": "stdout",
          "text": [
            "  Версия 2, попытка 1/3...\n"
          ]
        },
        {
          "output_type": "stream",
          "name": "stderr",
          "text": [
            "Обработка батчей:  84%|████████▍ | 78/93 [8:34:56<1:03:34, 254.27s/it]"
          ]
        },
        {
          "output_type": "stream",
          "name": "stdout",
          "text": [
            "  Версия 3, попытка 1/3...\n"
          ]
        },
        {
          "output_type": "stream",
          "name": "stderr",
          "text": [
            "Обработка батчей:  84%|████████▍ | 78/93 [8:36:01<1:03:34, 254.27s/it]"
          ]
        },
        {
          "output_type": "stream",
          "name": "stdout",
          "text": [
            "  Версия 4, попытка 1/3...\n"
          ]
        },
        {
          "output_type": "stream",
          "name": "stderr",
          "text": [
            "Обработка батчей:  84%|████████▍ | 78/93 [8:37:03<1:03:34, 254.27s/it]"
          ]
        },
        {
          "output_type": "stream",
          "name": "stdout",
          "text": [
            "  Версия 5, попытка 1/3...\n"
          ]
        },
        {
          "output_type": "stream",
          "name": "stderr",
          "text": [
            "Обработка батчей:  85%|████████▍ | 79/93 [8:38:19<1:07:14, 288.21s/it]"
          ]
        },
        {
          "output_type": "stream",
          "name": "stdout",
          "text": [
            "  Получено 5/5 успешных версий для батча.\n",
            "💾 Прогресс сохранен. Батч 79 усреднен и записан в файл.\n",
            "\n",
            "--- Обработка батча 80/93 (индексы 3950-3999) ---\n",
            "  Версия 1, попытка 1/3...\n"
          ]
        },
        {
          "output_type": "stream",
          "name": "stderr",
          "text": [
            "Обработка батчей:  85%|████████▍ | 79/93 [8:39:18<1:07:14, 288.21s/it]"
          ]
        },
        {
          "output_type": "stream",
          "name": "stdout",
          "text": [
            "  Версия 2, попытка 1/3...\n"
          ]
        },
        {
          "output_type": "stream",
          "name": "stderr",
          "text": [
            "Обработка батчей:  85%|████████▍ | 79/93 [8:41:23<1:07:14, 288.21s/it]"
          ]
        },
        {
          "output_type": "stream",
          "name": "stdout",
          "text": [
            "  Версия 3, попытка 1/3...\n"
          ]
        },
        {
          "output_type": "stream",
          "name": "stderr",
          "text": [
            "Обработка батчей:  85%|████████▍ | 79/93 [8:42:19<1:07:14, 288.21s/it]"
          ]
        },
        {
          "output_type": "stream",
          "name": "stdout",
          "text": [
            "  Версия 4, попытка 1/3...\n"
          ]
        },
        {
          "output_type": "stream",
          "name": "stderr",
          "text": [
            "Обработка батчей:  85%|████████▍ | 79/93 [8:43:14<1:07:14, 288.21s/it]"
          ]
        },
        {
          "output_type": "stream",
          "name": "stdout",
          "text": [
            "  Версия 5, попытка 1/3...\n"
          ]
        },
        {
          "output_type": "stream",
          "name": "stderr",
          "text": [
            "Обработка батчей:  86%|████████▌ | 80/93 [8:44:05<1:06:12, 305.57s/it]"
          ]
        },
        {
          "output_type": "stream",
          "name": "stdout",
          "text": [
            "  Получено 5/5 успешных версий для батча.\n",
            "💾 Прогресс сохранен. Батч 80 усреднен и записан в файл.\n",
            "\n",
            "--- Обработка батча 81/93 (индексы 4000-4049) ---\n",
            "  Версия 1, попытка 1/3...\n"
          ]
        },
        {
          "output_type": "stream",
          "name": "stderr",
          "text": [
            "Обработка батчей:  86%|████████▌ | 80/93 [8:45:22<1:06:12, 305.57s/it]"
          ]
        },
        {
          "output_type": "stream",
          "name": "stdout",
          "text": [
            "  Версия 2, попытка 1/3...\n"
          ]
        },
        {
          "output_type": "stream",
          "name": "stderr",
          "text": [
            "Обработка батчей:  86%|████████▌ | 80/93 [8:46:24<1:06:12, 305.57s/it]"
          ]
        },
        {
          "output_type": "stream",
          "name": "stdout",
          "text": [
            "  Версия 3, попытка 1/3...\n"
          ]
        },
        {
          "output_type": "stream",
          "name": "stderr",
          "text": [
            "Обработка батчей:  86%|████████▌ | 80/93 [8:46:51<1:06:12, 305.57s/it]"
          ]
        },
        {
          "output_type": "stream",
          "name": "stdout",
          "text": [
            "  Версия 4, попытка 1/3...\n"
          ]
        },
        {
          "output_type": "stream",
          "name": "stderr",
          "text": [
            "Обработка батчей:  86%|████████▌ | 80/93 [8:47:18<1:06:12, 305.57s/it]"
          ]
        },
        {
          "output_type": "stream",
          "name": "stdout",
          "text": [
            "  Версия 5, попытка 1/3...\n"
          ]
        },
        {
          "output_type": "stream",
          "name": "stderr",
          "text": [
            "Обработка батчей:  87%|████████▋ | 81/93 [8:47:44<55:57, 279.77s/it]"
          ]
        },
        {
          "output_type": "stream",
          "name": "stdout",
          "text": [
            "  Получено 5/5 успешных версий для батча.\n",
            "💾 Прогресс сохранен. Батч 81 усреднен и записан в файл.\n",
            "\n",
            "--- Обработка батча 82/93 (индексы 4050-4099) ---\n",
            "  Версия 1, попытка 1/3...\n"
          ]
        },
        {
          "output_type": "stream",
          "name": "stderr",
          "text": [
            "Обработка батчей:  87%|████████▋ | 81/93 [8:49:09<55:57, 279.77s/it]"
          ]
        },
        {
          "output_type": "stream",
          "name": "stdout",
          "text": [
            "  Версия 2, попытка 1/3...\n"
          ]
        },
        {
          "output_type": "stream",
          "name": "stderr",
          "text": [
            "Обработка батчей:  87%|████████▋ | 81/93 [8:51:48<55:57, 279.77s/it]"
          ]
        },
        {
          "output_type": "stream",
          "name": "stdout",
          "text": [
            "  Версия 3, попытка 1/3...\n"
          ]
        },
        {
          "output_type": "stream",
          "name": "stderr",
          "text": [
            "Обработка батчей:  87%|████████▋ | 81/93 [8:53:00<55:57, 279.77s/it]"
          ]
        },
        {
          "output_type": "stream",
          "name": "stdout",
          "text": [
            "  Версия 4, попытка 1/3...\n"
          ]
        },
        {
          "output_type": "stream",
          "name": "stderr",
          "text": [
            "Обработка батчей:  87%|████████▋ | 81/93 [8:53:54<55:57, 279.77s/it]"
          ]
        },
        {
          "output_type": "stream",
          "name": "stdout",
          "text": [
            "  Версия 5, попытка 1/3...\n"
          ]
        },
        {
          "output_type": "stream",
          "name": "stderr",
          "text": [
            "Обработка батчей:  88%|████████▊ | 82/93 [8:55:06<1:00:11, 328.28s/it]"
          ]
        },
        {
          "output_type": "stream",
          "name": "stdout",
          "text": [
            "  Получено 5/5 успешных версий для батча.\n",
            "💾 Прогресс сохранен. Батч 82 усреднен и записан в файл.\n",
            "\n",
            "--- Обработка батча 83/93 (индексы 4100-4149) ---\n",
            "  Версия 1, попытка 1/3...\n"
          ]
        },
        {
          "output_type": "stream",
          "name": "stderr",
          "text": [
            "Обработка батчей:  88%|████████▊ | 82/93 [8:55:31<1:00:11, 328.28s/it]"
          ]
        },
        {
          "output_type": "stream",
          "name": "stdout",
          "text": [
            "  Версия 2, попытка 1/3...\n"
          ]
        },
        {
          "output_type": "stream",
          "name": "stderr",
          "text": [
            "Обработка батчей:  88%|████████▊ | 82/93 [8:56:02<1:00:11, 328.28s/it]"
          ]
        },
        {
          "output_type": "stream",
          "name": "stdout",
          "text": [
            "  Версия 3, попытка 1/3...\n"
          ]
        },
        {
          "output_type": "stream",
          "name": "stderr",
          "text": [
            "Обработка батчей:  88%|████████▊ | 82/93 [8:56:37<1:00:11, 328.28s/it]"
          ]
        },
        {
          "output_type": "stream",
          "name": "stdout",
          "text": [
            "  Версия 4, попытка 1/3...\n"
          ]
        },
        {
          "output_type": "stream",
          "name": "stderr",
          "text": [
            "Обработка батчей:  88%|████████▊ | 82/93 [8:57:03<1:00:11, 328.28s/it]"
          ]
        },
        {
          "output_type": "stream",
          "name": "stdout",
          "text": [
            "  Версия 5, попытка 1/3...\n"
          ]
        },
        {
          "output_type": "stream",
          "name": "stderr",
          "text": [
            "Обработка батчей:  89%|████████▉ | 83/93 [8:57:32<45:37, 273.78s/it]"
          ]
        },
        {
          "output_type": "stream",
          "name": "stdout",
          "text": [
            "  Получено 5/5 успешных версий для батча.\n",
            "💾 Прогресс сохранен. Батч 83 усреднен и записан в файл.\n",
            "\n",
            "--- Обработка батча 84/93 (индексы 4150-4199) ---\n",
            "  Версия 1, попытка 1/3...\n"
          ]
        },
        {
          "output_type": "stream",
          "name": "stderr",
          "text": [
            "Обработка батчей:  89%|████████▉ | 83/93 [8:58:47<45:37, 273.78s/it]"
          ]
        },
        {
          "output_type": "stream",
          "name": "stdout",
          "text": [
            "  Версия 2, попытка 1/3...\n"
          ]
        },
        {
          "output_type": "stream",
          "name": "stderr",
          "text": [
            "Обработка батчей:  89%|████████▉ | 83/93 [9:00:01<45:37, 273.78s/it]"
          ]
        },
        {
          "output_type": "stream",
          "name": "stdout",
          "text": [
            "  Версия 3, попытка 1/3...\n"
          ]
        },
        {
          "output_type": "stream",
          "name": "stderr",
          "text": [
            "Обработка батчей:  89%|████████▉ | 83/93 [9:01:22<45:37, 273.78s/it]"
          ]
        },
        {
          "output_type": "stream",
          "name": "stdout",
          "text": [
            "  Версия 4, попытка 1/3...\n"
          ]
        },
        {
          "output_type": "stream",
          "name": "stderr",
          "text": [
            "Обработка батчей:  89%|████████▉ | 83/93 [9:03:10<45:37, 273.78s/it]"
          ]
        },
        {
          "output_type": "stream",
          "name": "stdout",
          "text": [
            "  Версия 5, попытка 1/3...\n"
          ]
        },
        {
          "output_type": "stream",
          "name": "stderr",
          "text": [
            "Обработка батчей:  90%|█████████ | 84/93 [9:04:27<47:23, 315.94s/it]"
          ]
        },
        {
          "output_type": "stream",
          "name": "stdout",
          "text": [
            "  Получено 5/5 успешных версий для батча.\n",
            "💾 Прогресс сохранен. Батч 84 усреднен и записан в файл.\n",
            "\n",
            "--- Обработка батча 85/93 (индексы 4200-4249) ---\n",
            "  Версия 1, попытка 1/3...\n"
          ]
        },
        {
          "output_type": "stream",
          "name": "stderr",
          "text": [
            "Обработка батчей:  90%|█████████ | 84/93 [9:05:54<47:23, 315.94s/it]"
          ]
        },
        {
          "output_type": "stream",
          "name": "stdout",
          "text": [
            "  Версия 2, попытка 1/3...\n"
          ]
        },
        {
          "output_type": "stream",
          "name": "stderr",
          "text": [
            "Обработка батчей:  90%|█████████ | 84/93 [9:07:18<47:23, 315.94s/it]"
          ]
        },
        {
          "output_type": "stream",
          "name": "stdout",
          "text": [
            "  Версия 3, попытка 1/3...\n"
          ]
        },
        {
          "output_type": "stream",
          "name": "stderr",
          "text": [
            "Обработка батчей:  90%|█████████ | 84/93 [9:10:01<47:23, 315.94s/it]"
          ]
        },
        {
          "output_type": "stream",
          "name": "stdout",
          "text": [
            "  Версия 4, попытка 1/3...\n"
          ]
        },
        {
          "output_type": "stream",
          "name": "stderr",
          "text": [
            "Обработка батчей:  90%|█████████ | 84/93 [9:12:00<47:23, 315.94s/it]"
          ]
        },
        {
          "output_type": "stream",
          "name": "stdout",
          "text": [
            "  Версия 5, попытка 1/3...\n"
          ]
        },
        {
          "output_type": "stream",
          "name": "stderr",
          "text": [
            "Обработка батчей:  91%|█████████▏| 85/93 [9:14:46<54:15, 406.94s/it]"
          ]
        },
        {
          "output_type": "stream",
          "name": "stdout",
          "text": [
            "  Получено 5/5 успешных версий для батча.\n",
            "💾 Прогресс сохранен. Батч 85 усреднен и записан в файл.\n",
            "\n",
            "--- Обработка батча 86/93 (индексы 4250-4299) ---\n",
            "  Версия 1, попытка 1/3...\n"
          ]
        },
        {
          "output_type": "stream",
          "name": "stderr",
          "text": [
            "Обработка батчей:  91%|█████████▏| 85/93 [9:15:59<54:15, 406.94s/it]"
          ]
        },
        {
          "output_type": "stream",
          "name": "stdout",
          "text": [
            "  Версия 2, попытка 1/3...\n"
          ]
        },
        {
          "output_type": "stream",
          "name": "stderr",
          "text": [
            "Обработка батчей:  91%|█████████▏| 85/93 [9:17:09<54:15, 406.94s/it]"
          ]
        },
        {
          "output_type": "stream",
          "name": "stdout",
          "text": [
            "  Версия 3, попытка 1/3...\n"
          ]
        },
        {
          "output_type": "stream",
          "name": "stderr",
          "text": [
            "Обработка батчей:  91%|█████████▏| 85/93 [9:18:29<54:15, 406.94s/it]"
          ]
        },
        {
          "output_type": "stream",
          "name": "stdout",
          "text": [
            "    ❌ Ошибка API или парсинга: Response ended prematurely\n"
          ]
        },
        {
          "output_type": "stream",
          "name": "stderr",
          "text": [
            "Обработка батчей:  91%|█████████▏| 85/93 [9:18:32<54:15, 406.94s/it]"
          ]
        },
        {
          "output_type": "stream",
          "name": "stdout",
          "text": [
            "  Версия 3, попытка 2/3...\n"
          ]
        },
        {
          "output_type": "stream",
          "name": "stderr",
          "text": [
            "Обработка батчей:  91%|█████████▏| 85/93 [9:19:41<54:15, 406.94s/it]"
          ]
        },
        {
          "output_type": "stream",
          "name": "stdout",
          "text": [
            "  Версия 4, попытка 1/3...\n"
          ]
        },
        {
          "output_type": "stream",
          "name": "stderr",
          "text": [
            "Обработка батчей:  91%|█████████▏| 85/93 [9:20:45<54:15, 406.94s/it]"
          ]
        },
        {
          "output_type": "stream",
          "name": "stdout",
          "text": [
            "  Версия 5, попытка 1/3...\n"
          ]
        },
        {
          "output_type": "stream",
          "name": "stderr",
          "text": [
            "Обработка батчей:  92%|█████████▏| 86/93 [9:21:27<47:16, 405.25s/it]"
          ]
        },
        {
          "output_type": "stream",
          "name": "stdout",
          "text": [
            "  Получено 5/5 успешных версий для батча.\n",
            "💾 Прогресс сохранен. Батч 86 усреднен и записан в файл.\n",
            "\n",
            "--- Обработка батча 87/93 (индексы 4300-4349) ---\n",
            "  Версия 1, попытка 1/3...\n"
          ]
        },
        {
          "output_type": "stream",
          "name": "stderr",
          "text": [
            "Обработка батчей:  92%|█████████▏| 86/93 [9:22:35<47:16, 405.25s/it]"
          ]
        },
        {
          "output_type": "stream",
          "name": "stdout",
          "text": [
            "  Версия 2, попытка 1/3...\n"
          ]
        },
        {
          "output_type": "stream",
          "name": "stderr",
          "text": [
            "Обработка батчей:  92%|█████████▏| 86/93 [9:24:06<47:16, 405.25s/it]"
          ]
        },
        {
          "output_type": "stream",
          "name": "stdout",
          "text": [
            "  Версия 3, попытка 1/3...\n"
          ]
        },
        {
          "output_type": "stream",
          "name": "stderr",
          "text": [
            "Обработка батчей:  92%|█████████▏| 86/93 [9:26:31<47:16, 405.25s/it]"
          ]
        },
        {
          "output_type": "stream",
          "name": "stdout",
          "text": [
            "  Версия 4, попытка 1/3...\n"
          ]
        },
        {
          "output_type": "stream",
          "name": "stderr",
          "text": [
            "Обработка батчей:  92%|█████████▏| 86/93 [9:27:48<47:16, 405.25s/it]"
          ]
        },
        {
          "output_type": "stream",
          "name": "stdout",
          "text": [
            "  Версия 5, попытка 1/3...\n"
          ]
        },
        {
          "output_type": "stream",
          "name": "stderr",
          "text": [
            "Обработка батчей:  94%|█████████▎| 87/93 [9:29:19<42:30, 425.04s/it]"
          ]
        },
        {
          "output_type": "stream",
          "name": "stdout",
          "text": [
            "  Получено 5/5 успешных версий для батча.\n",
            "💾 Прогресс сохранен. Батч 87 усреднен и записан в файл.\n",
            "\n",
            "--- Обработка батча 88/93 (индексы 4350-4399) ---\n",
            "  Версия 1, попытка 1/3...\n"
          ]
        },
        {
          "output_type": "stream",
          "name": "stderr",
          "text": [
            "Обработка батчей:  94%|█████████▎| 87/93 [9:30:56<42:30, 425.04s/it]"
          ]
        },
        {
          "output_type": "stream",
          "name": "stdout",
          "text": [
            "  Версия 2, попытка 1/3...\n"
          ]
        },
        {
          "output_type": "stream",
          "name": "stderr",
          "text": [
            "Обработка батчей:  94%|█████████▎| 87/93 [9:32:06<42:30, 425.04s/it]"
          ]
        },
        {
          "output_type": "stream",
          "name": "stdout",
          "text": [
            "  Версия 3, попытка 1/3...\n"
          ]
        },
        {
          "output_type": "stream",
          "name": "stderr",
          "text": [
            "Обработка батчей:  94%|█████████▎| 87/93 [9:33:15<42:30, 425.04s/it]"
          ]
        },
        {
          "output_type": "stream",
          "name": "stdout",
          "text": [
            "  Версия 4, попытка 1/3...\n"
          ]
        },
        {
          "output_type": "stream",
          "name": "stderr",
          "text": [
            "Обработка батчей:  94%|█████████▎| 87/93 [9:36:13<42:30, 425.04s/it]"
          ]
        },
        {
          "output_type": "stream",
          "name": "stdout",
          "text": [
            "  Версия 5, попытка 1/3...\n"
          ]
        },
        {
          "output_type": "stream",
          "name": "stderr",
          "text": [
            "Обработка батчей:  95%|█████████▍| 88/93 [9:37:13<36:38, 439.74s/it]"
          ]
        },
        {
          "output_type": "stream",
          "name": "stdout",
          "text": [
            "  Получено 5/5 успешных версий для батча.\n",
            "💾 Прогресс сохранен. Батч 88 усреднен и записан в файл.\n",
            "\n",
            "--- Обработка батча 89/93 (индексы 4400-4449) ---\n",
            "  Версия 1, попытка 1/3...\n"
          ]
        },
        {
          "output_type": "stream",
          "name": "stderr",
          "text": [
            "Обработка батчей:  95%|█████████▍| 88/93 [9:39:06<36:38, 439.74s/it]"
          ]
        },
        {
          "output_type": "stream",
          "name": "stdout",
          "text": [
            "  Версия 2, попытка 1/3...\n"
          ]
        },
        {
          "output_type": "stream",
          "name": "stderr",
          "text": [
            "Обработка батчей:  95%|█████████▍| 88/93 [9:40:16<36:38, 439.74s/it]"
          ]
        },
        {
          "output_type": "stream",
          "name": "stdout",
          "text": [
            "  Версия 3, попытка 1/3...\n"
          ]
        },
        {
          "output_type": "stream",
          "name": "stderr",
          "text": [
            "Обработка батчей:  95%|█████████▍| 88/93 [9:41:27<36:38, 439.74s/it]"
          ]
        },
        {
          "output_type": "stream",
          "name": "stdout",
          "text": [
            "  Версия 4, попытка 1/3...\n"
          ]
        },
        {
          "output_type": "stream",
          "name": "stderr",
          "text": [
            "Обработка батчей:  95%|█████████▍| 88/93 [9:42:35<36:38, 439.74s/it]"
          ]
        },
        {
          "output_type": "stream",
          "name": "stdout",
          "text": [
            "  Версия 5, попытка 1/3...\n"
          ]
        },
        {
          "output_type": "stream",
          "name": "stderr",
          "text": [
            "Обработка батчей:  96%|█████████▌| 89/93 [9:44:20<29:04, 436.15s/it]"
          ]
        },
        {
          "output_type": "stream",
          "name": "stdout",
          "text": [
            "  Получено 5/5 успешных версий для батча.\n",
            "💾 Прогресс сохранен. Батч 89 усреднен и записан в файл.\n",
            "\n",
            "--- Обработка батча 90/93 (индексы 4450-4499) ---\n",
            "  Версия 1, попытка 1/3...\n"
          ]
        },
        {
          "output_type": "stream",
          "name": "stderr",
          "text": [
            "Обработка батчей:  96%|█████████▌| 89/93 [9:45:07<29:04, 436.15s/it]"
          ]
        },
        {
          "output_type": "stream",
          "name": "stdout",
          "text": [
            "  Версия 2, попытка 1/3...\n"
          ]
        },
        {
          "output_type": "stream",
          "name": "stderr",
          "text": [
            "Обработка батчей:  96%|█████████▌| 89/93 [9:46:43<29:04, 436.15s/it]"
          ]
        },
        {
          "output_type": "stream",
          "name": "stdout",
          "text": [
            "  Версия 3, попытка 1/3...\n"
          ]
        },
        {
          "output_type": "stream",
          "name": "stderr",
          "text": [
            "Обработка батчей:  96%|█████████▌| 89/93 [9:47:59<29:04, 436.15s/it]"
          ]
        },
        {
          "output_type": "stream",
          "name": "stdout",
          "text": [
            "  Версия 4, попытка 1/3...\n"
          ]
        },
        {
          "output_type": "stream",
          "name": "stderr",
          "text": [
            "Обработка батчей:  96%|█████████▌| 89/93 [9:50:18<29:04, 436.15s/it]"
          ]
        },
        {
          "output_type": "stream",
          "name": "stdout",
          "text": [
            "  Версия 5, попытка 1/3...\n"
          ]
        },
        {
          "output_type": "stream",
          "name": "stderr",
          "text": [
            "Обработка батчей:  97%|█████████▋| 90/93 [9:52:03<22:12, 444.03s/it]"
          ]
        },
        {
          "output_type": "stream",
          "name": "stdout",
          "text": [
            "  Получено 5/5 успешных версий для батча.\n",
            "💾 Прогресс сохранен. Батч 90 усреднен и записан в файл.\n",
            "\n",
            "--- Обработка батча 91/93 (индексы 4500-4549) ---\n",
            "  Версия 1, попытка 1/3...\n"
          ]
        },
        {
          "output_type": "stream",
          "name": "stderr",
          "text": [
            "Обработка батчей:  97%|█████████▋| 90/93 [9:53:27<22:12, 444.03s/it]"
          ]
        },
        {
          "output_type": "stream",
          "name": "stdout",
          "text": [
            "  Версия 2, попытка 1/3...\n"
          ]
        },
        {
          "output_type": "stream",
          "name": "stderr",
          "text": [
            "Обработка батчей:  97%|█████████▋| 90/93 [9:54:37<22:12, 444.03s/it]"
          ]
        },
        {
          "output_type": "stream",
          "name": "stdout",
          "text": [
            "  Версия 3, попытка 1/3...\n"
          ]
        },
        {
          "output_type": "stream",
          "name": "stderr",
          "text": [
            "Обработка батчей:  97%|█████████▋| 90/93 [9:56:33<22:12, 444.03s/it]"
          ]
        },
        {
          "output_type": "stream",
          "name": "stdout",
          "text": [
            "  Версия 4, попытка 1/3...\n"
          ]
        },
        {
          "output_type": "stream",
          "name": "stderr",
          "text": [
            "Обработка батчей:  97%|█████████▋| 90/93 [9:57:53<22:12, 444.03s/it]"
          ]
        },
        {
          "output_type": "stream",
          "name": "stdout",
          "text": [
            "  Версия 5, попытка 1/3...\n"
          ]
        },
        {
          "output_type": "stream",
          "name": "stderr",
          "text": [
            "Обработка батчей:  98%|█████████▊| 91/93 [9:58:58<14:30, 435.47s/it]"
          ]
        },
        {
          "output_type": "stream",
          "name": "stdout",
          "text": [
            "  Получено 5/5 успешных версий для батча.\n",
            "💾 Прогресс сохранен. Батч 91 усреднен и записан в файл.\n",
            "\n",
            "--- Обработка батча 92/93 (индексы 4550-4599) ---\n",
            "  Версия 1, попытка 1/3...\n"
          ]
        },
        {
          "output_type": "stream",
          "name": "stderr",
          "text": [
            "Обработка батчей:  98%|█████████▊| 91/93 [9:59:38<14:30, 435.47s/it]"
          ]
        },
        {
          "output_type": "stream",
          "name": "stdout",
          "text": [
            "  Версия 2, попытка 1/3...\n"
          ]
        },
        {
          "output_type": "stream",
          "name": "stderr",
          "text": [
            "Обработка батчей:  98%|█████████▊| 91/93 [10:00:09<14:30, 435.47s/it]"
          ]
        },
        {
          "output_type": "stream",
          "name": "stdout",
          "text": [
            "  Версия 3, попытка 1/3...\n"
          ]
        },
        {
          "output_type": "stream",
          "name": "stderr",
          "text": [
            "Обработка батчей:  98%|█████████▊| 91/93 [10:00:40<14:30, 435.47s/it]"
          ]
        },
        {
          "output_type": "stream",
          "name": "stdout",
          "text": [
            "  Версия 4, попытка 1/3...\n"
          ]
        },
        {
          "output_type": "stream",
          "name": "stderr",
          "text": [
            "Обработка батчей:  98%|█████████▊| 91/93 [10:02:12<14:30, 435.47s/it]"
          ]
        },
        {
          "output_type": "stream",
          "name": "stdout",
          "text": [
            "  Версия 5, попытка 1/3...\n"
          ]
        },
        {
          "output_type": "stream",
          "name": "stderr",
          "text": [
            "Обработка батчей:  99%|█████████▉| 92/93 [10:02:40<06:11, 371.26s/it]"
          ]
        },
        {
          "output_type": "stream",
          "name": "stdout",
          "text": [
            "  Получено 5/5 успешных версий для батча.\n",
            "💾 Прогресс сохранен. Батч 92 усреднен и записан в файл.\n",
            "\n",
            "--- Обработка батча 93/93 (индексы 4600-4635) ---\n",
            "  Версия 1, попытка 1/3...\n"
          ]
        },
        {
          "output_type": "stream",
          "name": "stderr",
          "text": [
            "Обработка батчей:  99%|█████████▉| 92/93 [10:03:31<06:11, 371.26s/it]"
          ]
        },
        {
          "output_type": "stream",
          "name": "stdout",
          "text": [
            "  Версия 2, попытка 1/3...\n"
          ]
        },
        {
          "output_type": "stream",
          "name": "stderr",
          "text": [
            "Обработка батчей:  99%|█████████▉| 92/93 [10:03:52<06:11, 371.26s/it]"
          ]
        },
        {
          "output_type": "stream",
          "name": "stdout",
          "text": [
            "  Версия 3, попытка 1/3...\n"
          ]
        },
        {
          "output_type": "stream",
          "name": "stderr",
          "text": [
            "Обработка батчей:  99%|█████████▉| 92/93 [10:04:12<06:11, 371.26s/it]"
          ]
        },
        {
          "output_type": "stream",
          "name": "stdout",
          "text": [
            "  Версия 4, попытка 1/3...\n"
          ]
        },
        {
          "output_type": "stream",
          "name": "stderr",
          "text": [
            "Обработка батчей:  99%|█████████▉| 92/93 [10:04:32<06:11, 371.26s/it]"
          ]
        },
        {
          "output_type": "stream",
          "name": "stdout",
          "text": [
            "  Версия 5, попытка 1/3...\n"
          ]
        },
        {
          "output_type": "stream",
          "name": "stderr",
          "text": [
            "Обработка батчей: 100%|██████████| 93/93 [10:05:44<00:00, 390.81s/it]"
          ]
        },
        {
          "output_type": "stream",
          "name": "stdout",
          "text": [
            "  Получено 5/5 успешных версий для батча.\n",
            "💾 Прогресс сохранен. Батч 93 усреднен и записан в файл.\n"
          ]
        },
        {
          "output_type": "stream",
          "name": "stderr",
          "text": [
            "\n"
          ]
        }
      ],
      "source": [
        "# ===================================================================\n",
        "# ЯЧЕЙКА 4 (v2): АНСАМБЛИРОВАННАЯ АННОТАЦИЯ ТВИТОВ (5 ВЕРСИЙ + УСРЕДНЕНИЕ) С OPENROUTER\n",
        "# ===================================================================\n",
        "import numpy as np\n",
        "import pandas as pd\n",
        "import json\n",
        "import time\n",
        "import requests\n",
        "from tqdm import tqdm\n",
        "import os\n",
        "\n",
        "# --- Конфигурация для этого шага ---\n",
        "BATCH_SIZE = 50\n",
        "ANNOTATION_VERSIONS = 5  # Количество разметок для каждого батча\n",
        "MAX_RETRIES_PER_VERSION = 3  # Количество попыток для КАЖДОЙ из 5 версий\n",
        "SAVE_EVERY_N_BATCHES = 1  # Сохраняем после КАЖДОГО обработанного батча для макс. надежности\n",
        "\n",
        "# Получаем API ключ OpenRouter\n",
        "# Замените 'YOUR_OPENROUTER_API_KEY' на ваш реальный ключ\n",
        "# Вы можете добавить его в Colab через:\n",
        "#   from google.colab import userdata\n",
        "#   OPENROUTER_API_KEY = userdata.get('OPENROUTER_API_KEY')\n",
        "# Или установить как переменную окружения\n",
        "OPENROUTER_API_KEY = ''\n",
        "\n",
        "# Ваш системный промпт (без изменений)\n",
        "SYSTEM_INSTRUCTION = \"\"\"# ROLE\n",
        "You are a precise crypto tweet classifier. Output ONLY a valid JSON array with coordinate scores for each tweet.\n",
        "\n",
        "# AXES DEFINITION (CRITICAL - USE THESE EXACT SCALES)\n",
        "- X-axis: [Promotion-Orientation] [0.00, 1.00]\n",
        "  • Measures intent: from educational (0.00) to promotional (1.00)\n",
        "  • 0.00 = Pure knowledge sharing (\"tutorial\", \"explained\", \"how it works\")\n",
        "  • 0.50 = Neutral information (\"ETH up 5%\", \"event update\")\n",
        "  • 1.00 = Direct promotion (\"BUY\", \"MOON\", \"1000x\", \"GEM\", \"ALERT\")\n",
        "- Y-axis: [Analysis-Depth] [0.00, 1.00]\n",
        "  • Measures analytical depth: from surface (0.00) to deep (1.00)\n",
        "  • 0.00 = No analysis (\"GM\", \"HODL\", price move without context)\n",
        "  • 1.00 = In-depth analysis (charts, on-chain data, tokenomics, code)\n",
        "- Z-axis: [Emotional-Intensity] [0.00, 1.00]\n",
        "  • Measures emotional tone: from robotic (0.00) to viral (1.00)\n",
        "  • 0.00 = Machine-like neutrality (\"Data shows...\", \"Report:...\")\n",
        "  • 0.50 = Normal conversational tone\n",
        "  • 1.00 = High virality (\"!!!\", \"FOMO\", \"SCAM ALERT\", fire/moon emojis)\n",
        "- T-axis: [Cryptocurrency-Relevance] [0.00, 1.00]\n",
        "  • Measures how relevance for cryptocurrency: from irrelevant (0.00) to relevant (1.00)\n",
        "  • 0.00 = Text is not relevant to cryptocurrency at all\n",
        "  • 1.00 = Text is about cryptocurrency\n",
        "\n",
        "# INPUT FORMAT\n",
        "Each tweet is wrapped in:\n",
        "<TWEET>\n",
        "content\n",
        "</TWEET>\n",
        "\n",
        "# OUTPUT RULES\n",
        "1. For EACH tweet, output: {\"id\": \"TWEET_ID\", \"x\": FLOAT, \"y\": FLOAT, \"z\": FLOAT, \"t\": FLOAT}\n",
        "2. Use FLOAT values in the EXACT ranges above\n",
        "3. ALL values MUST have **exactly 2 decimal places** (e.g., 0.92, 0.45, 0.00 — NOT 0.9, 1, or 0.923)\n",
        "4. NEVER add text before or after JSON\n",
        "5. If tweet is empty/irrelevant: {\"id\": \"TWEET_ID\", \"x\": 0.00, \"y\": 0.00, \"z\": 0.00, \"t\": 0.00}\n",
        "\n",
        "# EXAMPLE\n",
        "Input:\n",
        "<TWEET>\n",
        "1. \"SOL 1000x GEM!!! BUY NOW 🔥\"\n",
        "</TWEET>\n",
        "<TWEET>\n",
        "2. \"Let's break down Uniswap v3 fees and LP risks [thread]\"\n",
        "</TWEET>\n",
        "\n",
        "Output:\n",
        "[\n",
        "  {\"id\": \"1\", \"x\": 0.95, \"y\": 0.45, \"z\": 0.96, \"t\": 0.98},\n",
        "  {\"id\": \"2\", \"x\": 0.10, \"y\": 0.75, \"z\": 0.50, \"t\": 0.95}\n",
        "]\"\"\"\n",
        "\n",
        "# --- Вспомогательные функции ---\n",
        "def prepare_batch_prompt(batch_df: pd.DataFrame) -> str:\n",
        "    prompt_parts = []\n",
        "    for index, row in batch_df.iterrows():\n",
        "        # Используем реальный индекс DataFrame как ID, это самый надежный способ\n",
        "        tweet_id = index\n",
        "        tweet_text = str(row['text']).replace('<', '').replace('>', '')\n",
        "        prompt_parts.append(f\"<TWEET>\\n{tweet_id}. \\\"{tweet_text}\\\"\\n</TWEET>\")\n",
        "    return \"\\n\".join(prompt_parts)\n",
        "\n",
        "def get_one_annotation_version(openrouter_api_key, batch_df: pd.DataFrame, version_num: int) -> list | None:\n",
        "    \"\"\"Делает ОДНУ попытку аннотации с внутренними ретраями через OpenRouter API.\"\"\"\n",
        "    prompt = prepare_batch_prompt(batch_df)\n",
        "\n",
        "    # Формируем сообщения в формате OpenAI Chat API\n",
        "    messages = [\n",
        "        {\"role\": \"system\", \"content\": SYSTEM_INSTRUCTION},\n",
        "        {\"role\": \"user\", \"content\": prompt}\n",
        "    ]\n",
        "\n",
        "    for attempt in range(MAX_RETRIES_PER_VERSION):\n",
        "        try:\n",
        "            tqdm.write(f\"  Версия {version_num}, попытка {attempt + 1}/{MAX_RETRIES_PER_VERSION}...\")\n",
        "\n",
        "            # Отправляем запрос к OpenRouter API\n",
        "            response = requests.post(\n",
        "                \"https://openrouter.ai/api/v1/chat/completions\",\n",
        "                headers={\n",
        "                    \"Authorization\": f\"Bearer {openrouter_api_key}\",\n",
        "                    \"Content-Type\": \"application/json\",\n",
        "                    # Опционально: добавляем заголовки для идентификации приложения\n",
        "                    #\"HTTP-Referer\": \"https://colab.research.google.com\",\n",
        "                    #\"X-Title\": \"Crypto Tweet Analyzer\"\n",
        "                },\n",
        "                json={\n",
        "                    \"model\": \"z-ai/glm-4.5-air:free\",  # Используем правильный формат: организация/модель\n",
        "                    \"messages\": messages,\n",
        "                    \"temperature\": 0.7, # Запрашиваем структурированный JSON\n",
        "                    \"reasoning\": {\n",
        "                        \"enabled\": False\n",
        "                    }\n",
        "                }\n",
        "            )\n",
        "\n",
        "            # Проверяем статус ответа\n",
        "            if response.status_code != 200:\n",
        "                error_msg = response.text\n",
        "                tqdm.write(f\"    ❌ Ошибка API: {response.status_code} - {error_msg}\")\n",
        "                continue\n",
        "\n",
        "            response_data = response.json()\n",
        "\n",
        "            # Извлекаем ответ из ответа API\n",
        "            response_text = response_data[\"choices\"][0][\"message\"][\"content\"].strip()\n",
        "            #print(response_text)\n",
        "            # Удаляем возможные маркеры кода\n",
        "            if response_text.startswith(\"```json\"):\n",
        "                response_text = response_text[7:-3].strip()\n",
        "\n",
        "            # Парсим JSON\n",
        "            annotations = json.loads(response_text)\n",
        "\n",
        "            # Проверяем, что количество аннотаций соответствует количеству твитов в батче\n",
        "            if len(annotations) == len(batch_df):\n",
        "                return annotations  # Успех!\n",
        "            else:\n",
        "                tqdm.write(f\"    ⚠️ Ошибка валидации: модель вернула {len(annotations)}/{len(batch_df)} аннотаций.\")\n",
        "\n",
        "        except Exception as e:\n",
        "            tqdm.write(f\"    ❌ Ошибка API или парсинга: {e}\")\n",
        "\n",
        "        # Увеличивающаяся задержка перед повторной попыткой\n",
        "        time.sleep(3 * (attempt + 1))\n",
        "\n",
        "    tqdm.write(f\"  ⛔ Не удалось получить версию {version_num} для этого батча.\")\n",
        "    return None\n",
        "\n",
        "# --- Основной асинхронный процесс ---\n",
        "def run_annotation_process(df: pd.DataFrame):\n",
        "    annotation_cols = ['promo_score_x', 'depth_score_y', 'emotion_score_z', 'relevance_score_t']\n",
        "    for col in annotation_cols:\n",
        "        if col not in df.columns: df[col] = np.nan\n",
        "\n",
        "    to_annotate_df = df[df['promo_score_x'].isnull()].copy()\n",
        "    if to_annotate_df.empty:\n",
        "        print(\"🎉 Все твиты уже аннотированы!\")\n",
        "        return\n",
        "    print(f\"Необходимо аннотировать {len(to_annotate_df)} твитов.\")\n",
        "\n",
        "    batches = [to_annotate_df.iloc[i:i + BATCH_SIZE] for i in range(0, len(to_annotate_df), BATCH_SIZE)]\n",
        "\n",
        "    # Основной цикл по батчам\n",
        "    for i, batch_df in enumerate(tqdm(batches, desc=\"Обработка батчей\")):\n",
        "        tqdm.write(f\"\\n--- Обработка батча {i + 1}/{len(batches)} (индексы {batch_df.index.min()}-{batch_df.index.max()}) ---\")\n",
        "\n",
        "        # 1. Собираем 5 версий аннотации\n",
        "        successful_versions = []\n",
        "        for version in range(1, ANNOTATION_VERSIONS + 1):\n",
        "            result = get_one_annotation_version(OPENROUTER_API_KEY, batch_df, version)\n",
        "            if result:\n",
        "                successful_versions.append(result)\n",
        "\n",
        "        tqdm.write(f\"  Получено {len(successful_versions)}/{ANNOTATION_VERSIONS} успешных версий для батча.\")\n",
        "\n",
        "        # 2. Если есть хотя бы одна успешная версия, усредняем и сохраняем\n",
        "        if successful_versions:\n",
        "            # Агрегируем все результаты по ID твита\n",
        "            aggregated_scores = {}\n",
        "            for version_result in successful_versions:\n",
        "                for ann in version_result:\n",
        "                    try:\n",
        "                        # ID - это индекс в DataFrame, который мы передали в промпте\n",
        "                        tweet_id = int(ann['id'])\n",
        "                        if tweet_id not in aggregated_scores:\n",
        "                            aggregated_scores[tweet_id] = {'x': [], 'y': [], 'z': [], 't': []}\n",
        "\n",
        "                        aggregated_scores[tweet_id]['x'].append(float(ann['x']))\n",
        "                        aggregated_scores[tweet_id]['y'].append(float(ann['y']))\n",
        "                        aggregated_scores[tweet_id]['z'].append(float(ann['z']))\n",
        "                        aggregated_scores[tweet_id]['t'].append(float(ann['t']))\n",
        "                    except (ValueError, KeyError, TypeError):\n",
        "                        continue  # Пропускаем кривые аннотации\n",
        "\n",
        "            # 3. Усредняем и записываем в основной DataFrame\n",
        "            for tweet_id, scores in aggregated_scores.items():\n",
        "                if tweet_id in df.index:\n",
        "                    df.loc[tweet_id, 'promo_score_x'] = np.mean(scores['x'])\n",
        "                    df.loc[tweet_id, 'depth_score_y'] = np.mean(scores['y'])\n",
        "                    df.loc[tweet_id, 'emotion_score_z'] = np.mean(scores['z'])\n",
        "                    df.loc[tweet_id, 'relevance_score_t'] = np.mean(scores['t'])\n",
        "\n",
        "            # 4. Сохраняем прогресс\n",
        "            df.to_parquet(OUTPUT_PARQUET_FILE, index=False)\n",
        "            tqdm.write(f\"💾 Прогресс сохранен. Батч {i + 1} усреднен и записан в файл.\")\n",
        "\n",
        "# Запускаем аннотацию\n",
        "if 'main_df' in locals() and not main_df.empty:\n",
        "    if OUTPUT_PARQUET_FILE.exists():\n",
        "        print(f\"Найден существующий файл {OUTPUT_PARQUET_FILE}. Загружаем его для продолжения работы.\")\n",
        "        main_df = pd.read_parquet(OUTPUT_PARQUET_FILE)\n",
        "\n",
        "    run_annotation_process(main_df)\n",
        "else:\n",
        "    print(\"DataFrame 'main_df' не был создан. Выполните Ячейку 3.\")"
      ]
    },
    {
      "cell_type": "code",
      "execution_count": null,
      "metadata": {
        "id": "OLTXvjB4T2Cq"
      },
      "outputs": [],
      "source": [
        "main_df = pd.read_parquet(OUTPUT_PARQUET_FILE)"
      ]
    }
  ],
  "metadata": {
    "colab": {
      "provenance": []
    },
    "kernelspec": {
      "display_name": "Python 3",
      "name": "python3"
    },
    "language_info": {
      "name": "python"
    }
  },
  "nbformat": 4,
  "nbformat_minor": 0
}